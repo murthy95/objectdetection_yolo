{
 "cells": [
  {
   "cell_type": "code",
   "execution_count": 1,
   "metadata": {},
   "outputs": [],
   "source": [
    "#imports \n",
    "import os\n",
    "from collections import OrderedDict\n",
    "\n",
    "import numpy as np\n",
    "from tqdm import tqdm \n",
    "import pickle\n",
    "from PIL import Image\n",
    "\n",
    "import torch\n",
    "import torchvision\n",
    "import torch.distributed as dist\n",
    "import torch.multiprocessing as multiprocessing\n",
    "from multiprocessing import Process\n",
    "from torchsummary import summary\n",
    "\n",
    "from augmentation import *"
   ]
  },
  {
   "cell_type": "code",
   "execution_count": 2,
   "metadata": {},
   "outputs": [],
   "source": [
    "#getting data\n",
    "def VOCDataset(train_batch_size, val_batch_size):\n",
    "    #code to download the dataset\n",
    "    download_07 = os.path.exists('./data/VOCtrainval_06-Nov-2007.tar')\n",
    "    download_12 = os.path.exists('./data/VOCtrainval_06-Nov-2012.tar')\n",
    "    transform = torchvision.transforms.Compose(\n",
    "    [torchvision.transforms.Resize((448, 448), interpolation=2), \n",
    "        torchvision.transforms.ToTensor()])\n",
    "\n",
    "    trainset_07 = torchvision.datasets.VOCDetection(root='./data', year='2007', \n",
    "                                             image_set='train',\n",
    "                                        download=download_07, transforms=transform_labels(448, transform))\n",
    "#     trainset_12 = torchvision.datasets.VOCDetection(root='./data', year='2012', \n",
    "#                                              image_set='train',\n",
    "#                                         download=download_12, transforms=transform_labels(448, transform))\n",
    "    valset_07 = torchvision.datasets.VOCDetection(root='./data', year='2007', \n",
    "                                             image_set='val',\n",
    "                                       download=download_07, transforms=transform_labels(448, transform))\n",
    "#     valset_12 = torchvision.datasets.VOCDetection(root='./data', year='2012', \n",
    "#                                              image_set='val',\n",
    "#                                        download=download_12, transforms=transform_labels(448, transform))\n",
    "    \n",
    "#     trainset = torch.utils.data.ConcatDataset([trainset_07, trainset_12])\n",
    "#     valset = torch.utils.data.ConcatDataset([valset_07, valset_12])\n",
    "    trainloader = torch.utils.data.DataLoader(trainset_07, batch_size=train_batch_size,\n",
    "                                          shuffle=True, num_workers=2, pin_memory=True)\n",
    "    valloader = torch.utils.data.DataLoader(valset_07, batch_size=val_batch_size,\n",
    "                                         shuffle=True, num_workers=2, pin_memory=True)\n",
    "    return trainloader, valloader\n",
    "\n",
    "#make a transform class to transform the voc json labels \n",
    "#to\tbounding box tensors \n",
    "class transform_labels(object):\n",
    "    def __init__(self, image_shape, transform):\n",
    "        self.resize = image_shape\n",
    "        self.factor = (1, 1)\n",
    "        self.transform = transform\n",
    "#         self.augmentations = [hsv_augmentation, flip, translation, random_cropping]\n",
    "        self.augmentations = [flip]\n",
    "        self.class_dict = {'aeroplane' : 0,\n",
    "                    'bicycle' : 1,\n",
    "                    'bird' : 2,\n",
    "                    'boat' : 3,\n",
    "                    'bottle' : 4,\n",
    "                    'bus' : 5,\n",
    "                    'car' : 6,\n",
    "                    'cat' : 7,\n",
    "                    'chair' : 8,\n",
    "                    'cow' : 9,\n",
    "                    'diningtable' : 10,\n",
    "                    'dog' : 11,\n",
    "                    'horse' : 12,\n",
    "                    'motorbike' : 13,\n",
    "                    'person' : 14,\n",
    "                    'pottedplant' : 15,\n",
    "                    'sheep' : 16,\n",
    "                    'sofa' : 17,\n",
    "                    'train' : 18,\n",
    "                    'tvmonitor' : 19}\n",
    "    def __call__(self, img, target, grid_size=7):\n",
    "        label = target\n",
    "        shape_x = int(label['annotation']['size']['width'])\n",
    "        shape_y = int(label['annotation']['size']['height'])\n",
    "        self.factor = (1/shape_x, 1/shape_y)\n",
    "        objects = label['annotation']['object']\n",
    "\n",
    "        transformed_boxes = torch.zeros((7,7,6))\n",
    "        if not isinstance(objects, list) :\n",
    "            objects = list([objects])\n",
    "\n",
    "        numpy_objects = []\n",
    "        for obj in list(objects):\n",
    "            bbox = [int(obj['bndbox']['xmin']),\n",
    "                            int(obj['bndbox']['ymin']),\n",
    "                            int(obj['bndbox']['xmax']),\n",
    "                            int(obj['bndbox']['ymax']), 1, \n",
    "                            self.class_dict[obj['name']]]\n",
    "            numpy_objects.append(bbox)\n",
    "        objects = np.array(numpy_objects)\n",
    "        augment = np.random.choice(self.augmentations)\n",
    "#         if torch.randn(1) < 0:\n",
    "#             img, bboxes = augment(np.asarray(img), np.array(numpy_objects))\n",
    "#         else:\n",
    "        img, bboxes  = np.asarray(img), np.array(numpy_objects)\n",
    "        bboxes = to_center_dims_format(bboxes)\n",
    "        bboxes[:,:4] = bboxes[:,:4] / np.tile([shape_x, shape_y], 2)\n",
    "\n",
    "        for transformed_box in bboxes:\n",
    "            coordx, coordy = int(transformed_box[0]*7), int(transformed_box[1]*7)\n",
    "            transformed_box[0] = transformed_box[0]*7 - int(transformed_box[0]*7)\n",
    "            transformed_box[1] = transformed_box[1]*7 - int(transformed_box[1]*7)\n",
    "            transformed_boxes[coordy, coordx] = torch.tensor(transformed_box)\n",
    "\n",
    "\n",
    "        return self.transform(Image.fromarray(img)), transformed_boxes.permute(2,0,1)"
   ]
  },
  {
   "cell_type": "code",
   "execution_count": 3,
   "metadata": {},
   "outputs": [],
   "source": [
    "#network definition\n",
    "n_boxes = 2\n",
    "n_classes = 20\n",
    "class conv_layer(torch.nn.Module):\n",
    "    def __init__(self, in_maps, out_maps, kernel_size, stride, padding):\n",
    "        super(conv_layer, self).__init__()\n",
    "        self.conv = torch.nn.Conv2d(in_maps, out_maps, kernel_size,\\\n",
    "                                                     stride=stride, padding=padding )\n",
    "        self.bn = torch.nn.BatchNorm2d(out_maps)\n",
    "        #self.dropout = torch.nn.Dropout2d(p=0.5)\n",
    "\n",
    "    def forward(self, x):\n",
    "        x = self.conv(x)\n",
    "        #x = self.dropout(x)\n",
    "        x = self.bn(x)\n",
    "        return torch.nn.functional.leaky_relu(x, negative_slope=0.1)\n",
    "\n",
    "class conv_pool_block(torch.nn.Module):\n",
    "    def __init__(self, kernel_sizes, in_maps, out_maps, n_repeat, pooling=False, conv_layer=conv_layer):\n",
    "        assert len(kernel_sizes) == len(out_maps), 'Inconsistent kernel and filter lengths'\n",
    "\n",
    "        super(conv_pool_block, self).__init__()\n",
    "        self.layers = []\n",
    "        for _ in range(n_repeat):\n",
    "            self.layers.append(conv_layer(in_maps, out_maps[0], \n",
    "                                        kernel_sizes[0], stride=1, \n",
    "                                        padding = kernel_sizes[0]//2))\n",
    "            for i in range(1, len(out_maps)):\n",
    "                self.layers.append(conv_layer(out_maps[i-1], out_maps[i], \n",
    "                                        kernel_sizes[i], stride=1, \n",
    "                                        padding = kernel_sizes[i]//2))\n",
    "        if pooling:\n",
    "            self.layers.append(torch.nn.MaxPool2d(2,2))\n",
    "\n",
    "        self.model = torch.nn.Sequential(*self.layers)\n",
    "\n",
    "    def forward(self, x):\n",
    "        return self.model(x)\n",
    "    \n",
    "class backbonenet(torch.nn.Module):\n",
    "    def __init__(self):\n",
    "        super(backbonenet, self).__init__()\n",
    "        self.model = torch.nn.Sequential(conv_layer(3, 64, 7,stride=2, padding=3),\n",
    "                                  torch.nn.MaxPool2d(2, stride=2), \n",
    "                                  conv_pool_block([3], 64, [192], 1, pooling=True), \n",
    "                                  conv_pool_block([1, 3, 1, 3], 192, \n",
    "                                      [128, 256, 256, 512],\n",
    "                                      1, pooling=True),\n",
    "                                  conv_pool_block([1, 3], 512, \n",
    "                                      [256, 512], 4), \n",
    "                                  conv_pool_block([1, 3], 512, \n",
    "                                      [512, 1024],\n",
    "                                      1, pooling=True), \n",
    "                                  conv_pool_block([1, 3], 1024, \n",
    "                                      [512, 1024], 2),\n",
    "                                  conv_pool_block([3], 1024, \n",
    "                                      [1024], 1), \n",
    "                                  conv_layer(1024, 1024, 3, stride=2, padding=1),\n",
    "                                  conv_pool_block([3, 3], 1024, \n",
    "                                      [1024, 1024], 1))\n",
    "   \n",
    "    def forward(self, x):\n",
    "        x = self.model(x)\n",
    "        return x.view(x.size(0), -1)\n",
    "\n",
    "\n",
    "class yolonet(torch.nn.Module):\n",
    "    def __init__(self, bbone=None):\n",
    "        super(yolonet, self).__init__()\n",
    "        if bbone is None:\n",
    "            self.backbone = backbonenet()\n",
    "        else :\n",
    "            self.backbone = bbone \n",
    "        self.Linear1 = torch.nn.Linear(49*1024, 4096)\n",
    "        self.Linear2 = torch.nn.Linear(4096, 49*(n_boxes*5 + n_classes))\n",
    "        self.dropout = torch.nn.Dropout(p=0.5)\n",
    "\n",
    "    def forward(self, x):\n",
    "        x = self.backbone(x)\n",
    "        x = self.Linear1(x)\n",
    "        x = self.dropout(x)\n",
    "        x = self.Linear2(x)\n",
    "        return x.view((x.size(0), 30, 7, 7))\n",
    "\n",
    "class yolonet_classification(torch.nn.Module):\n",
    "    def __init__(self):\n",
    "        super(yolonet_classification, self).__init__()\n",
    "        self.backbone = backbonenet() \n",
    "        self.Linear = torch.nn.Linear(49*1024, 100)\n",
    "\n",
    "    def forward(self, x):\n",
    "        x = self.backbone(x)\n",
    "        return self.Linear(x)"
   ]
  },
  {
   "cell_type": "code",
   "execution_count": 4,
   "metadata": {},
   "outputs": [],
   "source": [
    "#loss function\n",
    "class yolov1loss(torch.nn.Module):\n",
    "\n",
    "    def __init__(self, lambda_coord, lambda_noobj, device):\n",
    "        super(yolov1loss, self).__init__()\n",
    "        self.lambda_coord = lambda_coord\n",
    "        self.lambda_noobj = lambda_noobj\n",
    "        self.device = device\n",
    "\n",
    "    def forward(self, x, labels):\n",
    "        #evaluating coordinate loss\n",
    "        loss = 0\n",
    "        \n",
    "        box1, box2, class_predictions = x.split([5, 5, 20], dim=1)\n",
    "        box1 = torch.sigmoid(box1)\n",
    "        box2 = torch.sigmoid(box2)\n",
    "        label_box, class_labels = labels.split([5, 1], dim=1)\n",
    "        label_coords, label_dims, object_mask = label_box.split([2, 2, 1], dim=1)\n",
    "        \n",
    "        num_boxes = torch.sum(object_mask, dim=[1,2,3]) + 1e-6\n",
    "        class_predictions = torch.softmax(class_predictions, dim=1)\n",
    "        class_labels = class_labels.type(torch.int64)\n",
    "        onehotlabels = torch.zeros([labels.shape[0], 20, labels.shape[2],\n",
    "                                labels.shape[3]], device=self.device).scatter(1, class_labels, object_mask)\n",
    "        loss = torch.mean(torch.sum((object_mask*class_predictions - onehotlabels)**2, dim=[1,2,3]))\n",
    "\n",
    "#         loss = torch.mean((object_mask*class_predictions - onehotlabels)**2)\n",
    "\n",
    "        box_confs = torch.cat([self.IoU(box1, label_box), self.IoU(box2, label_box)], 1)\n",
    "        argmax_conf = torch.argmax(box_confs, 1, keepdim=True).detach()\n",
    "        argmax_conf = argmax_conf.type(torch.float)\n",
    "\n",
    "        \n",
    "        box1_coords, box1_dims, box1_confs = box1.split([2,2,1], dim=1)\n",
    "        box2_coords, box2_dims, box2_confs = box2.split([2,2,1], dim=1)\n",
    "        box1_dims = torch.sqrt(box1_dims + 1e-6)\n",
    "        box2_dims = torch.sqrt(box2_dims + 1e-6)\n",
    "        label_dims = torch.sqrt(label_dims + 1e-6)\n",
    "\n",
    "\n",
    "#         final_box_coords = (1-argmax_conf)*box1_coords + argmax_conf*box2_coords\n",
    "#         loss += self.lambda_coord * (torch.mean((\n",
    "#                                                         object_mask*final_box_coords - label_coords)**2))\n",
    "\n",
    "#         final_box_dims = (1-argmax_conf)*box1_dims + argmax_conf*box2_dims\n",
    "#         loss += self.lambda_coord * (torch.mean(( \n",
    "#                                                         object_mask*final_box_dims - label_dims)**2))\n",
    "\n",
    "        final_box_coords = (1-argmax_conf)*box1_coords + argmax_conf*box2_coords\n",
    "        loss += self.lambda_coord * (torch.mean(torch.sum((\n",
    "                                                        object_mask*final_box_coords - label_coords)**2, dim=[1,2,3]) ))\n",
    "\n",
    "        final_box_dims = (1-argmax_conf)*box1_dims + argmax_conf*box2_dims\n",
    "        loss += self.lambda_coord * (torch.mean(torch.sum(( \n",
    "                                                        object_mask*final_box_dims - label_dims)**2, dim=[1,2,3])))\n",
    "\n",
    "        final_box_obj = (1-argmax_conf)*box1_confs + argmax_conf*box2_confs\n",
    "        object_mask = object_mask.type(torch.float)\n",
    "        loss += torch.mean(torch.sum((object_mask*final_box_obj - object_mask)**2, dim=[1,2,3]))\n",
    "        \n",
    "#         loss += torch.mean((object_mask*final_box_obj - object_mask)**2)\n",
    "        #no obj loss\n",
    "        rejected_boxes =(1-argmax_conf)*box2_confs + argmax_conf*box1_confs\n",
    "        loss += self.lambda_noobj*torch.mean(torch.sum(\n",
    "                                                ((1-object_mask)*final_box_obj)**2 \n",
    "                                                + (rejected_boxes)**2, dim=[1,2,3]))\n",
    "#         loss += self.lambda_noobj*torch.mean(\n",
    "#                                                 ((1-object_mask)*final_box_obj)**2 \n",
    "#                                                 + (rejected_boxes)**2)\n",
    "        return loss\n",
    "    \n",
    "    def Intersection(self, bb1: torch.Tensor, bb2:torch.tensor) -> torch.Tensor:\n",
    "        '''\n",
    "        '''\n",
    "        x = torch.tensor(torch.arange(7)).to(bb1.device)\n",
    "        y = torch.tensor(torch.arange(7)).to(bb1.device)\n",
    "        grid_x, grid_y = torch.meshgrid(x, y)\n",
    "        grid = torch.cat([grid_y.unsqueeze(0), grid_x.unsqueeze(0)], 0).type(torch.float)\n",
    "\n",
    "        def return_mins_maxs(bbx):\n",
    "            centers, dims, _ = bbx.split([2,2,1], 1)\n",
    "            centers = (centers + grid)/7\n",
    "            return centers-dims/2 , centers+dims/2\n",
    "\n",
    "        mins1, maxs1 = return_mins_maxs(bb1)\n",
    "        mins2, maxs2 = return_mins_maxs(bb2)\n",
    "        mins = torch.max(mins1, mins2)\n",
    "        maxs = torch.min(maxs1, maxs2)\n",
    "        diff = (maxs - mins).clamp(0)\n",
    "        return diff[:, 0, : , :] * diff[:, 1, :, :]\n",
    "    \n",
    "    def bbox_area(self, bbx):\n",
    "        return bbx[:, 2, :, :] * bbx[:, 3, :, :]\n",
    "    \n",
    "    def IoU(self, bb1, bb2):\n",
    "        '''Evaluate the IoU score\n",
    "        '''\n",
    "        intersection = self.Intersection(bb1, bb2)\n",
    "        return (intersection / (self.bbox_area(bb1) + self.bbox_area(bb2) - intersection)).unsqueeze(1)"
   ]
  },
  {
   "cell_type": "code",
   "execution_count": 5,
   "metadata": {},
   "outputs": [],
   "source": [
    "configs = {'train_batch': 128, \n",
    "            'val_batch':128,\n",
    "           'n_epochs': 100,\n",
    "            'result_frequency': 5,\n",
    "           'val_frequency': 5,\n",
    "        }"
   ]
  },
  {
   "cell_type": "code",
   "execution_count": 6,
   "metadata": {},
   "outputs": [],
   "source": [
    "#loading yolonet pretrained on cifar100 dataset\n",
    "def load_pretrained_cf100():\n",
    "    chkpt = torch.load('checkpoint.pth.tar')\n",
    "    state_dict = chkpt['state_dict']\n",
    "    new_state_dict = OrderedDict()\n",
    "    for k, v in state_dict.items():\n",
    "        if not k[7:15] == 'backbone':\n",
    "            continue\n",
    "        name = k[16:] # remove `module.`\n",
    "        new_state_dict[name] = v\n",
    "    bbnet = backbonenet()\n",
    "    bbnet.load_state_dict(new_state_dict)\n",
    "    del chkpt\n",
    "    torch.cuda.empty_cache()\n",
    "    net = yolonet(bbnet)\n",
    "    return net"
   ]
  },
  {
   "cell_type": "code",
   "execution_count": 7,
   "metadata": {},
   "outputs": [],
   "source": [
    "#resume training \n",
    "def resume_train(net, model_path, optimizer):\n",
    "    checkpoint = torch.load(model_path)\n",
    "    net.load_state_dict(checkpoint['model_state_dict'])\n",
    "    optimizer.load_state_dict(checkpoint['optimizer_state_dict'])\n",
    "    epoch = checkpoint['epoch']\n",
    "    del checkpoint\n",
    "    torch.cuda.empty_cache()\n",
    "    print('----successfully loaded network and training parameters---')\n",
    "    return net, optimizer, epoch"
   ]
  },
  {
   "cell_type": "code",
   "execution_count": 8,
   "metadata": {
    "scrolled": true
   },
   "outputs": [
    {
     "name": "stdout",
     "output_type": "stream",
     "text": [
      "----------------------------------------------------------------\n",
      "        Layer (type)               Output Shape         Param #\n",
      "================================================================\n",
      "            Conv2d-1         [-1, 64, 224, 224]           9,472\n",
      "       BatchNorm2d-2         [-1, 64, 224, 224]             128\n",
      "        conv_layer-3         [-1, 64, 224, 224]               0\n",
      "         MaxPool2d-4         [-1, 64, 112, 112]               0\n",
      "            Conv2d-5        [-1, 192, 112, 112]         110,784\n",
      "       BatchNorm2d-6        [-1, 192, 112, 112]             384\n",
      "        conv_layer-7        [-1, 192, 112, 112]               0\n",
      "         MaxPool2d-8          [-1, 192, 56, 56]               0\n",
      "   conv_pool_block-9          [-1, 192, 56, 56]               0\n",
      "           Conv2d-10          [-1, 128, 56, 56]          24,704\n",
      "      BatchNorm2d-11          [-1, 128, 56, 56]             256\n",
      "       conv_layer-12          [-1, 128, 56, 56]               0\n",
      "           Conv2d-13          [-1, 256, 56, 56]         295,168\n",
      "      BatchNorm2d-14          [-1, 256, 56, 56]             512\n",
      "       conv_layer-15          [-1, 256, 56, 56]               0\n",
      "           Conv2d-16          [-1, 256, 56, 56]          65,792\n",
      "      BatchNorm2d-17          [-1, 256, 56, 56]             512\n",
      "       conv_layer-18          [-1, 256, 56, 56]               0\n",
      "           Conv2d-19          [-1, 512, 56, 56]       1,180,160\n",
      "      BatchNorm2d-20          [-1, 512, 56, 56]           1,024\n",
      "       conv_layer-21          [-1, 512, 56, 56]               0\n",
      "        MaxPool2d-22          [-1, 512, 28, 28]               0\n",
      "  conv_pool_block-23          [-1, 512, 28, 28]               0\n",
      "           Conv2d-24          [-1, 256, 28, 28]         131,328\n",
      "      BatchNorm2d-25          [-1, 256, 28, 28]             512\n",
      "       conv_layer-26          [-1, 256, 28, 28]               0\n",
      "           Conv2d-27          [-1, 512, 28, 28]       1,180,160\n",
      "      BatchNorm2d-28          [-1, 512, 28, 28]           1,024\n",
      "       conv_layer-29          [-1, 512, 28, 28]               0\n",
      "           Conv2d-30          [-1, 256, 28, 28]         131,328\n",
      "      BatchNorm2d-31          [-1, 256, 28, 28]             512\n",
      "       conv_layer-32          [-1, 256, 28, 28]               0\n",
      "           Conv2d-33          [-1, 512, 28, 28]       1,180,160\n",
      "      BatchNorm2d-34          [-1, 512, 28, 28]           1,024\n",
      "       conv_layer-35          [-1, 512, 28, 28]               0\n",
      "           Conv2d-36          [-1, 256, 28, 28]         131,328\n",
      "      BatchNorm2d-37          [-1, 256, 28, 28]             512\n",
      "       conv_layer-38          [-1, 256, 28, 28]               0\n",
      "           Conv2d-39          [-1, 512, 28, 28]       1,180,160\n",
      "      BatchNorm2d-40          [-1, 512, 28, 28]           1,024\n",
      "       conv_layer-41          [-1, 512, 28, 28]               0\n",
      "           Conv2d-42          [-1, 256, 28, 28]         131,328\n",
      "      BatchNorm2d-43          [-1, 256, 28, 28]             512\n",
      "       conv_layer-44          [-1, 256, 28, 28]               0\n",
      "           Conv2d-45          [-1, 512, 28, 28]       1,180,160\n",
      "      BatchNorm2d-46          [-1, 512, 28, 28]           1,024\n",
      "       conv_layer-47          [-1, 512, 28, 28]               0\n",
      "  conv_pool_block-48          [-1, 512, 28, 28]               0\n",
      "           Conv2d-49          [-1, 512, 28, 28]         262,656\n",
      "      BatchNorm2d-50          [-1, 512, 28, 28]           1,024\n",
      "       conv_layer-51          [-1, 512, 28, 28]               0\n",
      "           Conv2d-52         [-1, 1024, 28, 28]       4,719,616\n",
      "      BatchNorm2d-53         [-1, 1024, 28, 28]           2,048\n",
      "       conv_layer-54         [-1, 1024, 28, 28]               0\n",
      "        MaxPool2d-55         [-1, 1024, 14, 14]               0\n",
      "  conv_pool_block-56         [-1, 1024, 14, 14]               0\n",
      "           Conv2d-57          [-1, 512, 14, 14]         524,800\n",
      "      BatchNorm2d-58          [-1, 512, 14, 14]           1,024\n",
      "       conv_layer-59          [-1, 512, 14, 14]               0\n",
      "           Conv2d-60         [-1, 1024, 14, 14]       4,719,616\n",
      "      BatchNorm2d-61         [-1, 1024, 14, 14]           2,048\n",
      "       conv_layer-62         [-1, 1024, 14, 14]               0\n",
      "           Conv2d-63          [-1, 512, 14, 14]         524,800\n",
      "      BatchNorm2d-64          [-1, 512, 14, 14]           1,024\n",
      "       conv_layer-65          [-1, 512, 14, 14]               0\n",
      "           Conv2d-66         [-1, 1024, 14, 14]       4,719,616\n",
      "      BatchNorm2d-67         [-1, 1024, 14, 14]           2,048\n",
      "       conv_layer-68         [-1, 1024, 14, 14]               0\n",
      "  conv_pool_block-69         [-1, 1024, 14, 14]               0\n",
      "           Conv2d-70         [-1, 1024, 14, 14]       9,438,208\n",
      "      BatchNorm2d-71         [-1, 1024, 14, 14]           2,048\n",
      "       conv_layer-72         [-1, 1024, 14, 14]               0\n",
      "  conv_pool_block-73         [-1, 1024, 14, 14]               0\n",
      "           Conv2d-74           [-1, 1024, 7, 7]       9,438,208\n",
      "      BatchNorm2d-75           [-1, 1024, 7, 7]           2,048\n",
      "       conv_layer-76           [-1, 1024, 7, 7]               0\n",
      "           Conv2d-77           [-1, 1024, 7, 7]       9,438,208\n",
      "      BatchNorm2d-78           [-1, 1024, 7, 7]           2,048\n",
      "       conv_layer-79           [-1, 1024, 7, 7]               0\n",
      "           Conv2d-80           [-1, 1024, 7, 7]       9,438,208\n",
      "      BatchNorm2d-81           [-1, 1024, 7, 7]           2,048\n",
      "       conv_layer-82           [-1, 1024, 7, 7]               0\n",
      "  conv_pool_block-83           [-1, 1024, 7, 7]               0\n",
      "      backbonenet-84                [-1, 50176]               0\n",
      "           Linear-85                 [-1, 4096]     205,524,992\n",
      "          Dropout-86                 [-1, 4096]               0\n",
      "           Linear-87                 [-1, 1470]       6,022,590\n",
      "================================================================\n",
      "Total params: 271,729,918\n",
      "Trainable params: 271,729,918\n",
      "Non-trainable params: 0\n",
      "----------------------------------------------------------------\n",
      "Input size (MB): 2.30\n",
      "Forward/backward pass size (MB): 347.28\n",
      "Params size (MB): 1036.57\n",
      "Estimated Total Size (MB): 1386.15\n",
      "----------------------------------------------------------------\n",
      "None\n",
      "----successfully loaded network and training parameters---\n",
      "Using downloaded and verified file: ./data/VOCtrainval_06-Nov-2007.tar\n",
      "Using downloaded and verified file: ./data/VOCtrainval_06-Nov-2007.tar\n"
     ]
    },
    {
     "name": "stderr",
     "output_type": "stream",
     "text": [
      "  0%|                                                                        | 0/20 [00:00<?, ?it/s]/home/dgxuser/namuchan/torch101_venv/lib/python3.5/site-packages/ipykernel_launcher.py:75: UserWarning: To copy construct from a tensor, it is recommended to use sourceTensor.clone().detach() or sourceTensor.clone().detach().requires_grad_(True), rather than torch.tensor(sourceTensor).\n",
      "/home/dgxuser/namuchan/torch101_venv/lib/python3.5/site-packages/ipykernel_launcher.py:76: UserWarning: To copy construct from a tensor, it is recommended to use sourceTensor.clone().detach() or sourceTensor.clone().detach().requires_grad_(True), rather than torch.tensor(sourceTensor).\n",
      "100%|███████████████████████████████████████████████████████████████| 20/20 [00:43<00:00,  1.31it/s]"
     ]
    },
    {
     "name": "stdout",
     "output_type": "stream",
     "text": [
      "training loss after 501/600 epochs is 5.481702280044556\n"
     ]
    },
    {
     "name": "stderr",
     "output_type": "stream",
     "text": [
      "\n",
      "100%|███████████████████████████████████████████████████████████████| 20/20 [00:16<00:00,  1.34it/s]"
     ]
    },
    {
     "name": "stdout",
     "output_type": "stream",
     "text": [
      "validation loss after 501/600 epochs is 11.913359260559082\n"
     ]
    },
    {
     "name": "stderr",
     "output_type": "stream",
     "text": [
      "\n",
      "100%|███████████████████████████████████████████████████████████████| 20/20 [00:16<00:00,  1.36it/s]"
     ]
    },
    {
     "name": "stdout",
     "output_type": "stream",
     "text": [
      "training loss after 502/600 epochs is 5.462692785263061\n"
     ]
    },
    {
     "name": "stderr",
     "output_type": "stream",
     "text": [
      "\n",
      "100%|███████████████████████████████████████████████████████████████| 20/20 [00:15<00:00,  1.39it/s]"
     ]
    },
    {
     "name": "stdout",
     "output_type": "stream",
     "text": [
      "training loss after 503/600 epochs is 5.416497802734375\n"
     ]
    },
    {
     "name": "stderr",
     "output_type": "stream",
     "text": [
      "\n",
      "100%|███████████████████████████████████████████████████████████████| 20/20 [00:16<00:00,  1.35it/s]"
     ]
    },
    {
     "name": "stdout",
     "output_type": "stream",
     "text": [
      "training loss after 504/600 epochs is 5.375605535507202\n"
     ]
    },
    {
     "name": "stderr",
     "output_type": "stream",
     "text": [
      "\n",
      "100%|███████████████████████████████████████████████████████████████| 20/20 [00:16<00:00,  1.37it/s]"
     ]
    },
    {
     "name": "stdout",
     "output_type": "stream",
     "text": [
      "training loss after 505/600 epochs is 5.334034037590027\n"
     ]
    },
    {
     "name": "stderr",
     "output_type": "stream",
     "text": [
      "\n",
      "100%|███████████████████████████████████████████████████████████████| 20/20 [00:16<00:00,  1.34it/s]"
     ]
    },
    {
     "name": "stdout",
     "output_type": "stream",
     "text": [
      "training loss after 506/600 epochs is 5.321724867820739\n"
     ]
    },
    {
     "name": "stderr",
     "output_type": "stream",
     "text": [
      "\n",
      "100%|███████████████████████████████████████████████████████████████| 20/20 [00:16<00:00,  1.37it/s]"
     ]
    },
    {
     "name": "stdout",
     "output_type": "stream",
     "text": [
      "validation loss after 506/600 epochs is 11.802377891540527\n"
     ]
    },
    {
     "name": "stderr",
     "output_type": "stream",
     "text": [
      "\n",
      "100%|███████████████████████████████████████████████████████████████| 20/20 [00:16<00:00,  1.38it/s]"
     ]
    },
    {
     "name": "stdout",
     "output_type": "stream",
     "text": [
      "training loss after 507/600 epochs is 5.305534863471985\n"
     ]
    },
    {
     "name": "stderr",
     "output_type": "stream",
     "text": [
      "\n",
      "100%|███████████████████████████████████████████████████████████████| 20/20 [00:16<00:00,  1.40it/s]"
     ]
    },
    {
     "name": "stdout",
     "output_type": "stream",
     "text": [
      "training loss after 508/600 epochs is 5.278241801261902\n"
     ]
    },
    {
     "name": "stderr",
     "output_type": "stream",
     "text": [
      "\n",
      "100%|███████████████████████████████████████████████████████████████| 20/20 [00:16<00:00,  1.34it/s]"
     ]
    },
    {
     "name": "stdout",
     "output_type": "stream",
     "text": [
      "training loss after 509/600 epochs is 5.251468181610107\n"
     ]
    },
    {
     "name": "stderr",
     "output_type": "stream",
     "text": [
      "\n",
      "100%|███████████████████████████████████████████████████████████████| 20/20 [00:16<00:00,  1.29it/s]"
     ]
    },
    {
     "name": "stdout",
     "output_type": "stream",
     "text": [
      "training loss after 510/600 epochs is 5.2240598678588865\n"
     ]
    },
    {
     "name": "stderr",
     "output_type": "stream",
     "text": [
      "\n",
      "100%|███████████████████████████████████████████████████████████████| 20/20 [00:16<00:00,  1.36it/s]"
     ]
    },
    {
     "name": "stdout",
     "output_type": "stream",
     "text": [
      "training loss after 511/600 epochs is 5.193059301376342\n"
     ]
    },
    {
     "name": "stderr",
     "output_type": "stream",
     "text": [
      "\n",
      "100%|███████████████████████████████████████████████████████████████| 20/20 [00:16<00:00,  1.37it/s]"
     ]
    },
    {
     "name": "stdout",
     "output_type": "stream",
     "text": [
      "validation loss after 511/600 epochs is 11.814967155456543\n"
     ]
    },
    {
     "name": "stderr",
     "output_type": "stream",
     "text": [
      "\n",
      "100%|███████████████████████████████████████████████████████████████| 20/20 [00:16<00:00,  1.38it/s]"
     ]
    },
    {
     "name": "stdout",
     "output_type": "stream",
     "text": [
      "training loss after 512/600 epochs is 5.16059296131134\n"
     ]
    },
    {
     "name": "stderr",
     "output_type": "stream",
     "text": [
      "\n",
      "100%|███████████████████████████████████████████████████████████████| 20/20 [00:16<00:00,  1.38it/s]"
     ]
    },
    {
     "name": "stdout",
     "output_type": "stream",
     "text": [
      "training loss after 513/600 epochs is 5.121831560134888\n"
     ]
    },
    {
     "name": "stderr",
     "output_type": "stream",
     "text": [
      "\n",
      "100%|███████████████████████████████████████████████████████████████| 20/20 [00:16<00:00,  1.33it/s]"
     ]
    },
    {
     "name": "stdout",
     "output_type": "stream",
     "text": [
      "training loss after 514/600 epochs is 5.103952646255493\n"
     ]
    },
    {
     "name": "stderr",
     "output_type": "stream",
     "text": [
      "\n",
      "100%|███████████████████████████████████████████████████████████████| 20/20 [00:16<00:00,  1.33it/s]"
     ]
    },
    {
     "name": "stdout",
     "output_type": "stream",
     "text": [
      "training loss after 515/600 epochs is 5.069627737998962\n"
     ]
    },
    {
     "name": "stderr",
     "output_type": "stream",
     "text": [
      "\n",
      "100%|███████████████████████████████████████████████████████████████| 20/20 [00:16<00:00,  1.33it/s]"
     ]
    },
    {
     "name": "stdout",
     "output_type": "stream",
     "text": [
      "training loss after 516/600 epochs is 5.044210004806518\n"
     ]
    },
    {
     "name": "stderr",
     "output_type": "stream",
     "text": [
      "\n",
      "100%|███████████████████████████████████████████████████████████████| 20/20 [00:16<00:00,  1.35it/s]"
     ]
    },
    {
     "name": "stdout",
     "output_type": "stream",
     "text": [
      "validation loss after 516/600 epochs is 11.533777856826783\n"
     ]
    },
    {
     "name": "stderr",
     "output_type": "stream",
     "text": [
      "\n",
      "100%|███████████████████████████████████████████████████████████████| 20/20 [00:16<00:00,  1.35it/s]"
     ]
    },
    {
     "name": "stdout",
     "output_type": "stream",
     "text": [
      "training loss after 517/600 epochs is 5.022794008255005\n"
     ]
    },
    {
     "name": "stderr",
     "output_type": "stream",
     "text": [
      "\n",
      "100%|███████████████████████████████████████████████████████████████| 20/20 [00:16<00:00,  1.32it/s]"
     ]
    },
    {
     "name": "stdout",
     "output_type": "stream",
     "text": [
      "training loss after 518/600 epochs is 4.997155380249024\n"
     ]
    },
    {
     "name": "stderr",
     "output_type": "stream",
     "text": [
      "\n",
      "100%|███████████████████████████████████████████████████████████████| 20/20 [00:16<00:00,  1.35it/s]"
     ]
    },
    {
     "name": "stdout",
     "output_type": "stream",
     "text": [
      "training loss after 519/600 epochs is 4.971318101882934\n"
     ]
    },
    {
     "name": "stderr",
     "output_type": "stream",
     "text": [
      "\n",
      "100%|███████████████████████████████████████████████████████████████| 20/20 [00:16<00:00,  1.33it/s]"
     ]
    },
    {
     "name": "stdout",
     "output_type": "stream",
     "text": [
      "training loss after 520/600 epochs is 4.948161482810974\n"
     ]
    },
    {
     "name": "stderr",
     "output_type": "stream",
     "text": [
      "\n",
      "100%|███████████████████████████████████████████████████████████████| 20/20 [00:16<00:00,  1.34it/s]"
     ]
    },
    {
     "name": "stdout",
     "output_type": "stream",
     "text": [
      "training loss after 521/600 epochs is 4.937486028671264\n"
     ]
    },
    {
     "name": "stderr",
     "output_type": "stream",
     "text": [
      "\n",
      "100%|███████████████████████████████████████████████████████████████| 20/20 [00:15<00:00,  1.44it/s]"
     ]
    },
    {
     "name": "stdout",
     "output_type": "stream",
     "text": [
      "validation loss after 521/600 epochs is 11.402235889434815\n"
     ]
    },
    {
     "name": "stderr",
     "output_type": "stream",
     "text": [
      "\n",
      "100%|███████████████████████████████████████████████████████████████| 20/20 [00:16<00:00,  1.36it/s]"
     ]
    },
    {
     "name": "stdout",
     "output_type": "stream",
     "text": [
      "training loss after 522/600 epochs is 4.9105465650558475\n"
     ]
    },
    {
     "name": "stderr",
     "output_type": "stream",
     "text": [
      "\n",
      "100%|███████████████████████████████████████████████████████████████| 20/20 [00:15<00:00,  1.36it/s]"
     ]
    },
    {
     "name": "stdout",
     "output_type": "stream",
     "text": [
      "training loss after 523/600 epochs is 4.874760532379151\n"
     ]
    },
    {
     "name": "stderr",
     "output_type": "stream",
     "text": [
      "\n",
      "100%|███████████████████████████████████████████████████████████████| 20/20 [00:16<00:00,  1.38it/s]"
     ]
    },
    {
     "name": "stdout",
     "output_type": "stream",
     "text": [
      "training loss after 524/600 epochs is 4.855928206443787\n"
     ]
    },
    {
     "name": "stderr",
     "output_type": "stream",
     "text": [
      "\n",
      "100%|███████████████████████████████████████████████████████████████| 20/20 [00:16<00:00,  1.37it/s]"
     ]
    },
    {
     "name": "stdout",
     "output_type": "stream",
     "text": [
      "training loss after 525/600 epochs is 4.830363368988037\n"
     ]
    },
    {
     "name": "stderr",
     "output_type": "stream",
     "text": [
      "\n",
      "100%|███████████████████████████████████████████████████████████████| 20/20 [00:16<00:00,  1.33it/s]"
     ]
    },
    {
     "name": "stdout",
     "output_type": "stream",
     "text": [
      "training loss after 526/600 epochs is 4.8141197681427\n"
     ]
    },
    {
     "name": "stderr",
     "output_type": "stream",
     "text": [
      "\n",
      "100%|███████████████████████████████████████████████████████████████| 20/20 [00:16<00:00,  1.37it/s]"
     ]
    },
    {
     "name": "stdout",
     "output_type": "stream",
     "text": [
      "validation loss after 526/600 epochs is 11.296781778335571\n"
     ]
    },
    {
     "name": "stderr",
     "output_type": "stream",
     "text": [
      "\n",
      "100%|███████████████████████████████████████████████████████████████| 20/20 [00:16<00:00,  1.34it/s]"
     ]
    },
    {
     "name": "stdout",
     "output_type": "stream",
     "text": [
      "training loss after 527/600 epochs is 4.786330842971802\n"
     ]
    },
    {
     "name": "stderr",
     "output_type": "stream",
     "text": [
      "\n",
      "100%|███████████████████████████████████████████████████████████████| 20/20 [00:16<00:00,  1.37it/s]"
     ]
    },
    {
     "name": "stdout",
     "output_type": "stream",
     "text": [
      "training loss after 528/600 epochs is 4.7543230056762695\n"
     ]
    },
    {
     "name": "stderr",
     "output_type": "stream",
     "text": [
      "\n",
      "100%|███████████████████████████████████████████████████████████████| 20/20 [00:16<00:00,  1.36it/s]"
     ]
    },
    {
     "name": "stdout",
     "output_type": "stream",
     "text": [
      "training loss after 529/600 epochs is 4.730507016181946\n"
     ]
    },
    {
     "name": "stderr",
     "output_type": "stream",
     "text": [
      "\n",
      "100%|███████████████████████████████████████████████████████████████| 20/20 [00:16<00:00,  1.37it/s]"
     ]
    },
    {
     "name": "stdout",
     "output_type": "stream",
     "text": [
      "training loss after 530/600 epochs is 4.700430226325989\n"
     ]
    },
    {
     "name": "stderr",
     "output_type": "stream",
     "text": [
      "\n",
      "100%|███████████████████████████████████████████████████████████████| 20/20 [00:16<00:00,  1.33it/s]"
     ]
    },
    {
     "name": "stdout",
     "output_type": "stream",
     "text": [
      "training loss after 531/600 epochs is 4.683140540122986\n"
     ]
    },
    {
     "name": "stderr",
     "output_type": "stream",
     "text": [
      "\n",
      "100%|███████████████████████████████████████████████████████████████| 20/20 [00:15<00:00,  1.42it/s]"
     ]
    },
    {
     "name": "stdout",
     "output_type": "stream",
     "text": [
      "validation loss after 531/600 epochs is 11.22662935256958\n"
     ]
    },
    {
     "name": "stderr",
     "output_type": "stream",
     "text": [
      "\n",
      "100%|███████████████████████████████████████████████████████████████| 20/20 [00:16<00:00,  1.36it/s]"
     ]
    },
    {
     "name": "stdout",
     "output_type": "stream",
     "text": [
      "training loss after 532/600 epochs is 4.659038782119751\n"
     ]
    },
    {
     "name": "stderr",
     "output_type": "stream",
     "text": [
      "\n",
      "100%|███████████████████████████████████████████████████████████████| 20/20 [00:16<00:00,  1.38it/s]"
     ]
    },
    {
     "name": "stdout",
     "output_type": "stream",
     "text": [
      "training loss after 533/600 epochs is 4.614344739913941\n"
     ]
    },
    {
     "name": "stderr",
     "output_type": "stream",
     "text": [
      "\n",
      "100%|███████████████████████████████████████████████████████████████| 20/20 [00:16<00:00,  1.35it/s]"
     ]
    },
    {
     "name": "stdout",
     "output_type": "stream",
     "text": [
      "training loss after 534/600 epochs is 4.615367650985718\n"
     ]
    },
    {
     "name": "stderr",
     "output_type": "stream",
     "text": [
      "\n",
      "100%|███████████████████████████████████████████████████████████████| 20/20 [00:15<00:00,  1.37it/s]"
     ]
    },
    {
     "name": "stdout",
     "output_type": "stream",
     "text": [
      "training loss after 535/600 epochs is 4.60912344455719\n"
     ]
    },
    {
     "name": "stderr",
     "output_type": "stream",
     "text": [
      "\n",
      "100%|███████████████████████████████████████████████████████████████| 20/20 [00:16<00:00,  1.36it/s]"
     ]
    },
    {
     "name": "stdout",
     "output_type": "stream",
     "text": [
      "training loss after 536/600 epochs is 4.571774029731751\n"
     ]
    },
    {
     "name": "stderr",
     "output_type": "stream",
     "text": [
      "\n",
      "100%|███████████████████████████████████████████████████████████████| 20/20 [00:16<00:00,  1.41it/s]"
     ]
    },
    {
     "name": "stdout",
     "output_type": "stream",
     "text": [
      "validation loss after 536/600 epochs is 11.12436318397522\n"
     ]
    },
    {
     "name": "stderr",
     "output_type": "stream",
     "text": [
      "\n",
      "100%|███████████████████████████████████████████████████████████████| 20/20 [00:16<00:00,  1.37it/s]"
     ]
    },
    {
     "name": "stdout",
     "output_type": "stream",
     "text": [
      "training loss after 537/600 epochs is 4.563790917396545\n"
     ]
    },
    {
     "name": "stderr",
     "output_type": "stream",
     "text": [
      "\n",
      "100%|███████████████████████████████████████████████████████████████| 20/20 [00:16<00:00,  1.37it/s]"
     ]
    },
    {
     "name": "stdout",
     "output_type": "stream",
     "text": [
      "training loss after 538/600 epochs is 4.536774945259094\n"
     ]
    },
    {
     "name": "stderr",
     "output_type": "stream",
     "text": [
      "\n",
      "100%|███████████████████████████████████████████████████████████████| 20/20 [00:15<00:00,  1.35it/s]"
     ]
    },
    {
     "name": "stdout",
     "output_type": "stream",
     "text": [
      "training loss after 539/600 epochs is 4.513073348999024\n"
     ]
    },
    {
     "name": "stderr",
     "output_type": "stream",
     "text": [
      "\n",
      "100%|███████████████████████████████████████████████████████████████| 20/20 [00:16<00:00,  1.33it/s]"
     ]
    },
    {
     "name": "stdout",
     "output_type": "stream",
     "text": [
      "training loss after 540/600 epochs is 4.49687922000885\n"
     ]
    },
    {
     "name": "stderr",
     "output_type": "stream",
     "text": [
      "\n",
      "100%|███████████████████████████████████████████████████████████████| 20/20 [00:16<00:00,  1.32it/s]"
     ]
    },
    {
     "name": "stdout",
     "output_type": "stream",
     "text": [
      "training loss after 541/600 epochs is 4.484888005256653\n"
     ]
    },
    {
     "name": "stderr",
     "output_type": "stream",
     "text": [
      "\n",
      "100%|███████████████████████████████████████████████████████████████| 20/20 [00:16<00:00,  1.38it/s]"
     ]
    },
    {
     "name": "stdout",
     "output_type": "stream",
     "text": [
      "validation loss after 541/600 epochs is 10.970341777801513\n"
     ]
    },
    {
     "name": "stderr",
     "output_type": "stream",
     "text": [
      "\n",
      "100%|███████████████████████████████████████████████████████████████| 20/20 [00:15<00:00,  1.37it/s]"
     ]
    },
    {
     "name": "stdout",
     "output_type": "stream",
     "text": [
      "training loss after 542/600 epochs is 4.4516401290893555\n"
     ]
    },
    {
     "name": "stderr",
     "output_type": "stream",
     "text": [
      "\n",
      "100%|███████████████████████████████████████████████████████████████| 20/20 [00:16<00:00,  1.36it/s]"
     ]
    },
    {
     "name": "stdout",
     "output_type": "stream",
     "text": [
      "training loss after 543/600 epochs is 4.430106949806214\n"
     ]
    },
    {
     "name": "stderr",
     "output_type": "stream",
     "text": [
      "\n",
      "100%|███████████████████████████████████████████████████████████████| 20/20 [00:16<00:00,  1.32it/s]"
     ]
    },
    {
     "name": "stdout",
     "output_type": "stream",
     "text": [
      "training loss after 544/600 epochs is 4.410582804679871\n"
     ]
    },
    {
     "name": "stderr",
     "output_type": "stream",
     "text": [
      "\n",
      "100%|███████████████████████████████████████████████████████████████| 20/20 [00:16<00:00,  1.29it/s]"
     ]
    },
    {
     "name": "stdout",
     "output_type": "stream",
     "text": [
      "training loss after 545/600 epochs is 4.393107628822326\n"
     ]
    },
    {
     "name": "stderr",
     "output_type": "stream",
     "text": [
      "\n",
      "100%|███████████████████████████████████████████████████████████████| 20/20 [00:15<00:00,  1.35it/s]"
     ]
    },
    {
     "name": "stdout",
     "output_type": "stream",
     "text": [
      "training loss after 546/600 epochs is 4.371086072921753\n"
     ]
    },
    {
     "name": "stderr",
     "output_type": "stream",
     "text": [
      "\n",
      "100%|███████████████████████████████████████████████████████████████| 20/20 [00:15<00:00,  1.42it/s]"
     ]
    },
    {
     "name": "stdout",
     "output_type": "stream",
     "text": [
      "validation loss after 546/600 epochs is 10.941316318511962\n"
     ]
    },
    {
     "name": "stderr",
     "output_type": "stream",
     "text": [
      "\n",
      "100%|███████████████████████████████████████████████████████████████| 20/20 [00:15<00:00,  1.38it/s]"
     ]
    },
    {
     "name": "stdout",
     "output_type": "stream",
     "text": [
      "training loss after 547/600 epochs is 4.355166864395142\n"
     ]
    },
    {
     "name": "stderr",
     "output_type": "stream",
     "text": [
      "\n",
      "100%|███████████████████████████████████████████████████████████████| 20/20 [00:16<00:00,  1.35it/s]"
     ]
    },
    {
     "name": "stdout",
     "output_type": "stream",
     "text": [
      "training loss after 548/600 epochs is 4.335362219810486\n"
     ]
    },
    {
     "name": "stderr",
     "output_type": "stream",
     "text": [
      "\n",
      "100%|███████████████████████████████████████████████████████████████| 20/20 [00:16<00:00,  1.36it/s]"
     ]
    },
    {
     "name": "stdout",
     "output_type": "stream",
     "text": [
      "training loss after 549/600 epochs is 4.318473815917969\n"
     ]
    },
    {
     "name": "stderr",
     "output_type": "stream",
     "text": [
      "\n",
      "100%|███████████████████████████████████████████████████████████████| 20/20 [00:16<00:00,  1.33it/s]"
     ]
    },
    {
     "name": "stdout",
     "output_type": "stream",
     "text": [
      "training loss after 550/600 epochs is 4.290651440620422\n"
     ]
    },
    {
     "name": "stderr",
     "output_type": "stream",
     "text": [
      "\n",
      "100%|███████████████████████████████████████████████████████████████| 20/20 [00:16<00:00,  1.35it/s]"
     ]
    },
    {
     "name": "stdout",
     "output_type": "stream",
     "text": [
      "training loss after 551/600 epochs is 4.282381653785706\n"
     ]
    },
    {
     "name": "stderr",
     "output_type": "stream",
     "text": [
      "\n",
      "100%|███████████████████████████████████████████████████████████████| 20/20 [00:15<00:00,  1.39it/s]"
     ]
    },
    {
     "name": "stdout",
     "output_type": "stream",
     "text": [
      "validation loss after 551/600 epochs is 10.893725490570068\n"
     ]
    },
    {
     "name": "stderr",
     "output_type": "stream",
     "text": [
      "\n",
      "100%|███████████████████████████████████████████████████████████████| 20/20 [00:16<00:00,  1.34it/s]"
     ]
    },
    {
     "name": "stdout",
     "output_type": "stream",
     "text": [
      "training loss after 552/600 epochs is 4.259786367416382\n"
     ]
    },
    {
     "name": "stderr",
     "output_type": "stream",
     "text": [
      "\n",
      "100%|███████████████████████████████████████████████████████████████| 20/20 [00:16<00:00,  1.34it/s]"
     ]
    },
    {
     "name": "stdout",
     "output_type": "stream",
     "text": [
      "training loss after 553/600 epochs is 4.230270552635193\n"
     ]
    },
    {
     "name": "stderr",
     "output_type": "stream",
     "text": [
      "\n",
      "100%|███████████████████████████████████████████████████████████████| 20/20 [00:16<00:00,  1.32it/s]"
     ]
    },
    {
     "name": "stdout",
     "output_type": "stream",
     "text": [
      "training loss after 554/600 epochs is 4.202814364433289\n"
     ]
    },
    {
     "name": "stderr",
     "output_type": "stream",
     "text": [
      "\n",
      "100%|███████████████████████████████████████████████████████████████| 20/20 [00:16<00:00,  1.33it/s]"
     ]
    },
    {
     "name": "stdout",
     "output_type": "stream",
     "text": [
      "training loss after 555/600 epochs is 4.206844139099121\n"
     ]
    },
    {
     "name": "stderr",
     "output_type": "stream",
     "text": [
      "\n",
      "100%|███████████████████████████████████████████████████████████████| 20/20 [00:15<00:00,  1.38it/s]"
     ]
    },
    {
     "name": "stdout",
     "output_type": "stream",
     "text": [
      "training loss after 556/600 epochs is 4.196788620948792\n"
     ]
    },
    {
     "name": "stderr",
     "output_type": "stream",
     "text": [
      "\n",
      "100%|███████████████████████████████████████████████████████████████| 20/20 [00:15<00:00,  1.41it/s]"
     ]
    },
    {
     "name": "stdout",
     "output_type": "stream",
     "text": [
      "validation loss after 556/600 epochs is 10.716601514816285\n"
     ]
    },
    {
     "name": "stderr",
     "output_type": "stream",
     "text": [
      "\n",
      "100%|███████████████████████████████████████████████████████████████| 20/20 [00:15<00:00,  1.39it/s]"
     ]
    },
    {
     "name": "stdout",
     "output_type": "stream",
     "text": [
      "training loss after 557/600 epochs is 4.177197456359863\n"
     ]
    },
    {
     "name": "stderr",
     "output_type": "stream",
     "text": [
      "\n",
      "100%|███████████████████████████████████████████████████████████████| 20/20 [00:16<00:00,  1.35it/s]"
     ]
    },
    {
     "name": "stdout",
     "output_type": "stream",
     "text": [
      "training loss after 558/600 epochs is 4.13474223613739\n"
     ]
    },
    {
     "name": "stderr",
     "output_type": "stream",
     "text": [
      "\n",
      "100%|███████████████████████████████████████████████████████████████| 20/20 [00:16<00:00,  1.37it/s]"
     ]
    },
    {
     "name": "stdout",
     "output_type": "stream",
     "text": [
      "training loss after 559/600 epochs is 4.109179413318634\n"
     ]
    },
    {
     "name": "stderr",
     "output_type": "stream",
     "text": [
      "\n",
      "100%|███████████████████████████████████████████████████████████████| 20/20 [00:15<00:00,  1.41it/s]"
     ]
    },
    {
     "name": "stdout",
     "output_type": "stream",
     "text": [
      "training loss after 560/600 epochs is 4.1033306360244755\n"
     ]
    },
    {
     "name": "stderr",
     "output_type": "stream",
     "text": [
      "\n",
      "100%|███████████████████████████████████████████████████████████████| 20/20 [00:15<00:00,  1.39it/s]"
     ]
    },
    {
     "name": "stdout",
     "output_type": "stream",
     "text": [
      "training loss after 561/600 epochs is 4.087707877159119\n"
     ]
    },
    {
     "name": "stderr",
     "output_type": "stream",
     "text": [
      "\n",
      "100%|███████████████████████████████████████████████████████████████| 20/20 [00:15<00:00,  1.44it/s]"
     ]
    },
    {
     "name": "stdout",
     "output_type": "stream",
     "text": [
      "validation loss after 561/600 epochs is 10.571310138702392\n"
     ]
    },
    {
     "name": "stderr",
     "output_type": "stream",
     "text": [
      "\n",
      "100%|███████████████████████████████████████████████████████████████| 20/20 [00:16<00:00,  1.32it/s]"
     ]
    },
    {
     "name": "stdout",
     "output_type": "stream",
     "text": [
      "training loss after 562/600 epochs is 4.066605544090271\n"
     ]
    },
    {
     "name": "stderr",
     "output_type": "stream",
     "text": [
      "\n",
      "100%|███████████████████████████████████████████████████████████████| 20/20 [00:16<00:00,  1.37it/s]"
     ]
    },
    {
     "name": "stdout",
     "output_type": "stream",
     "text": [
      "training loss after 563/600 epochs is 4.043851041793824\n"
     ]
    },
    {
     "name": "stderr",
     "output_type": "stream",
     "text": [
      "\n",
      "100%|███████████████████████████████████████████████████████████████| 20/20 [00:15<00:00,  1.39it/s]"
     ]
    },
    {
     "name": "stdout",
     "output_type": "stream",
     "text": [
      "training loss after 564/600 epochs is 4.037775278091431\n"
     ]
    },
    {
     "name": "stderr",
     "output_type": "stream",
     "text": [
      "\n",
      "100%|███████████████████████████████████████████████████████████████| 20/20 [00:15<00:00,  1.35it/s]"
     ]
    },
    {
     "name": "stdout",
     "output_type": "stream",
     "text": [
      "training loss after 565/600 epochs is 4.031006038188934\n"
     ]
    },
    {
     "name": "stderr",
     "output_type": "stream",
     "text": [
      "\n",
      "100%|███████████████████████████████████████████████████████████████| 20/20 [00:16<00:00,  1.39it/s]"
     ]
    },
    {
     "name": "stdout",
     "output_type": "stream",
     "text": [
      "training loss after 566/600 epochs is 4.009300589561462\n"
     ]
    },
    {
     "name": "stderr",
     "output_type": "stream",
     "text": [
      "\n",
      "100%|███████████████████████████████████████████████████████████████| 20/20 [00:16<00:00,  1.31it/s]"
     ]
    },
    {
     "name": "stdout",
     "output_type": "stream",
     "text": [
      "validation loss after 566/600 epochs is 10.566197633743286\n"
     ]
    },
    {
     "name": "stderr",
     "output_type": "stream",
     "text": [
      "\n",
      "100%|███████████████████████████████████████████████████████████████| 20/20 [00:16<00:00,  1.34it/s]"
     ]
    },
    {
     "name": "stdout",
     "output_type": "stream",
     "text": [
      "training loss after 567/600 epochs is 3.988069200515747\n"
     ]
    },
    {
     "name": "stderr",
     "output_type": "stream",
     "text": [
      "\n",
      "100%|███████████████████████████████████████████████████████████████| 20/20 [00:16<00:00,  1.35it/s]"
     ]
    },
    {
     "name": "stdout",
     "output_type": "stream",
     "text": [
      "training loss after 568/600 epochs is 3.971183145046234\n"
     ]
    },
    {
     "name": "stderr",
     "output_type": "stream",
     "text": [
      "\n",
      "100%|███████████████████████████████████████████████████████████████| 20/20 [00:16<00:00,  1.35it/s]"
     ]
    },
    {
     "name": "stdout",
     "output_type": "stream",
     "text": [
      "training loss after 569/600 epochs is 3.9741873502731324\n"
     ]
    },
    {
     "name": "stderr",
     "output_type": "stream",
     "text": [
      "\n",
      "100%|███████████████████████████████████████████████████████████████| 20/20 [00:16<00:00,  1.34it/s]"
     ]
    },
    {
     "name": "stdout",
     "output_type": "stream",
     "text": [
      "training loss after 570/600 epochs is 3.9563493490219117\n"
     ]
    },
    {
     "name": "stderr",
     "output_type": "stream",
     "text": [
      "\n",
      "100%|███████████████████████████████████████████████████████████████| 20/20 [00:16<00:00,  1.36it/s]"
     ]
    },
    {
     "name": "stdout",
     "output_type": "stream",
     "text": [
      "training loss after 571/600 epochs is 3.9429229497909546\n"
     ]
    },
    {
     "name": "stderr",
     "output_type": "stream",
     "text": [
      "\n",
      "100%|███████████████████████████████████████████████████████████████| 20/20 [00:16<00:00,  1.37it/s]"
     ]
    },
    {
     "name": "stdout",
     "output_type": "stream",
     "text": [
      "validation loss after 571/600 epochs is 10.442379760742188\n"
     ]
    },
    {
     "name": "stderr",
     "output_type": "stream",
     "text": [
      "\n",
      "100%|███████████████████████████████████████████████████████████████| 20/20 [00:16<00:00,  1.28it/s]"
     ]
    },
    {
     "name": "stdout",
     "output_type": "stream",
     "text": [
      "training loss after 572/600 epochs is 3.921854889392853\n"
     ]
    },
    {
     "name": "stderr",
     "output_type": "stream",
     "text": [
      "\n",
      "100%|███████████████████████████████████████████████████████████████| 20/20 [00:16<00:00,  1.34it/s]"
     ]
    },
    {
     "name": "stdout",
     "output_type": "stream",
     "text": [
      "training loss after 573/600 epochs is 3.898692238330841\n"
     ]
    },
    {
     "name": "stderr",
     "output_type": "stream",
     "text": [
      "\n",
      "100%|███████████████████████████████████████████████████████████████| 20/20 [00:16<00:00,  1.31it/s]"
     ]
    },
    {
     "name": "stdout",
     "output_type": "stream",
     "text": [
      "training loss after 574/600 epochs is 3.8967715740203857\n"
     ]
    },
    {
     "name": "stderr",
     "output_type": "stream",
     "text": [
      "\n",
      "100%|███████████████████████████████████████████████████████████████| 20/20 [00:16<00:00,  1.34it/s]"
     ]
    },
    {
     "name": "stdout",
     "output_type": "stream",
     "text": [
      "training loss after 575/600 epochs is 3.8761120796203614\n"
     ]
    },
    {
     "name": "stderr",
     "output_type": "stream",
     "text": [
      "\n",
      "100%|███████████████████████████████████████████████████████████████| 20/20 [00:16<00:00,  1.36it/s]"
     ]
    },
    {
     "name": "stdout",
     "output_type": "stream",
     "text": [
      "training loss after 576/600 epochs is 3.8600103855133057\n"
     ]
    },
    {
     "name": "stderr",
     "output_type": "stream",
     "text": [
      "\n",
      "100%|███████████████████████████████████████████████████████████████| 20/20 [00:15<00:00,  1.38it/s]"
     ]
    },
    {
     "name": "stdout",
     "output_type": "stream",
     "text": [
      "validation loss after 576/600 epochs is 10.365943145751952\n"
     ]
    },
    {
     "name": "stderr",
     "output_type": "stream",
     "text": [
      "\n",
      "100%|███████████████████████████████████████████████████████████████| 20/20 [00:16<00:00,  1.36it/s]"
     ]
    },
    {
     "name": "stdout",
     "output_type": "stream",
     "text": [
      "training loss after 577/600 epochs is 3.859845817089081\n"
     ]
    },
    {
     "name": "stderr",
     "output_type": "stream",
     "text": [
      "\n",
      "100%|███████████████████████████████████████████████████████████████| 20/20 [00:16<00:00,  1.32it/s]"
     ]
    },
    {
     "name": "stdout",
     "output_type": "stream",
     "text": [
      "training loss after 578/600 epochs is 3.840277361869812\n"
     ]
    },
    {
     "name": "stderr",
     "output_type": "stream",
     "text": [
      "\n",
      "100%|███████████████████████████████████████████████████████████████| 20/20 [00:15<00:00,  1.38it/s]"
     ]
    },
    {
     "name": "stdout",
     "output_type": "stream",
     "text": [
      "training loss after 579/600 epochs is 3.8317978024482726\n"
     ]
    },
    {
     "name": "stderr",
     "output_type": "stream",
     "text": [
      "\n",
      "100%|███████████████████████████████████████████████████████████████| 20/20 [00:15<00:00,  1.41it/s]"
     ]
    },
    {
     "name": "stdout",
     "output_type": "stream",
     "text": [
      "training loss after 580/600 epochs is 3.805917978286743\n"
     ]
    },
    {
     "name": "stderr",
     "output_type": "stream",
     "text": [
      "\n",
      "100%|███████████████████████████████████████████████████████████████| 20/20 [00:16<00:00,  1.35it/s]"
     ]
    },
    {
     "name": "stdout",
     "output_type": "stream",
     "text": [
      "training loss after 581/600 epochs is 3.8061747670173647\n"
     ]
    },
    {
     "name": "stderr",
     "output_type": "stream",
     "text": [
      "\n",
      "100%|███████████████████████████████████████████████████████████████| 20/20 [00:16<00:00,  1.38it/s]"
     ]
    },
    {
     "name": "stdout",
     "output_type": "stream",
     "text": [
      "validation loss after 581/600 epochs is 10.334262132644653\n"
     ]
    },
    {
     "name": "stderr",
     "output_type": "stream",
     "text": [
      "\n",
      "100%|███████████████████████████████████████████████████████████████| 20/20 [00:15<00:00,  1.34it/s]"
     ]
    },
    {
     "name": "stdout",
     "output_type": "stream",
     "text": [
      "training loss after 582/600 epochs is 3.792138934135437\n"
     ]
    },
    {
     "name": "stderr",
     "output_type": "stream",
     "text": [
      "\n",
      "100%|███████████████████████████████████████████████████████████████| 20/20 [00:16<00:00,  1.34it/s]"
     ]
    },
    {
     "name": "stdout",
     "output_type": "stream",
     "text": [
      "training loss after 583/600 epochs is 3.7585899114608763\n"
     ]
    },
    {
     "name": "stderr",
     "output_type": "stream",
     "text": [
      "\n",
      "100%|███████████████████████████████████████████████████████████████| 20/20 [00:16<00:00,  1.32it/s]"
     ]
    },
    {
     "name": "stdout",
     "output_type": "stream",
     "text": [
      "training loss after 584/600 epochs is 3.737526571750641\n"
     ]
    },
    {
     "name": "stderr",
     "output_type": "stream",
     "text": [
      "\n",
      "100%|███████████████████████████████████████████████████████████████| 20/20 [00:16<00:00,  1.37it/s]"
     ]
    },
    {
     "name": "stdout",
     "output_type": "stream",
     "text": [
      "training loss after 585/600 epochs is 3.740265655517578\n"
     ]
    },
    {
     "name": "stderr",
     "output_type": "stream",
     "text": [
      "\n",
      "100%|███████████████████████████████████████████████████████████████| 20/20 [00:15<00:00,  1.33it/s]"
     ]
    },
    {
     "name": "stdout",
     "output_type": "stream",
     "text": [
      "training loss after 586/600 epochs is 3.7222957491874693\n"
     ]
    },
    {
     "name": "stderr",
     "output_type": "stream",
     "text": [
      "\n",
      "100%|███████████████████████████████████████████████████████████████| 20/20 [00:15<00:00,  1.39it/s]"
     ]
    },
    {
     "name": "stdout",
     "output_type": "stream",
     "text": [
      "validation loss after 586/600 epochs is 10.319139957427979\n"
     ]
    },
    {
     "name": "stderr",
     "output_type": "stream",
     "text": [
      "\n",
      "100%|███████████████████████████████████████████████████████████████| 20/20 [00:16<00:00,  1.34it/s]"
     ]
    },
    {
     "name": "stdout",
     "output_type": "stream",
     "text": [
      "training loss after 587/600 epochs is 3.7341561317443848\n"
     ]
    },
    {
     "name": "stderr",
     "output_type": "stream",
     "text": [
      "\n",
      "100%|███████████████████████████████████████████████████████████████| 20/20 [00:16<00:00,  1.34it/s]"
     ]
    },
    {
     "name": "stdout",
     "output_type": "stream",
     "text": [
      "training loss after 588/600 epochs is 3.7082245111465455\n"
     ]
    },
    {
     "name": "stderr",
     "output_type": "stream",
     "text": [
      "\n",
      "100%|███████████████████████████████████████████████████████████████| 20/20 [00:16<00:00,  1.35it/s]"
     ]
    },
    {
     "name": "stdout",
     "output_type": "stream",
     "text": [
      "training loss after 589/600 epochs is 3.6766258120536803\n"
     ]
    },
    {
     "name": "stderr",
     "output_type": "stream",
     "text": [
      "\n",
      "100%|███████████████████████████████████████████████████████████████| 20/20 [00:15<00:00,  1.35it/s]"
     ]
    },
    {
     "name": "stdout",
     "output_type": "stream",
     "text": [
      "training loss after 590/600 epochs is 3.670287299156189\n"
     ]
    },
    {
     "name": "stderr",
     "output_type": "stream",
     "text": [
      "\n",
      "100%|███████████████████████████████████████████████████████████████| 20/20 [00:16<00:00,  1.38it/s]"
     ]
    },
    {
     "name": "stdout",
     "output_type": "stream",
     "text": [
      "training loss after 591/600 epochs is 3.6722805380821226\n"
     ]
    },
    {
     "name": "stderr",
     "output_type": "stream",
     "text": [
      "\n",
      "100%|███████████████████████████████████████████████████████████████| 20/20 [00:15<00:00,  1.43it/s]"
     ]
    },
    {
     "name": "stdout",
     "output_type": "stream",
     "text": [
      "validation loss after 591/600 epochs is 10.255770540237426\n"
     ]
    },
    {
     "name": "stderr",
     "output_type": "stream",
     "text": [
      "\n",
      "100%|███████████████████████████████████████████████████████████████| 20/20 [00:16<00:00,  1.29it/s]"
     ]
    },
    {
     "name": "stdout",
     "output_type": "stream",
     "text": [
      "training loss after 592/600 epochs is 3.6401134371757506\n"
     ]
    },
    {
     "name": "stderr",
     "output_type": "stream",
     "text": [
      "\n",
      "100%|███████████████████████████████████████████████████████████████| 20/20 [00:16<00:00,  1.35it/s]"
     ]
    },
    {
     "name": "stdout",
     "output_type": "stream",
     "text": [
      "training loss after 593/600 epochs is 3.6299740791320803\n"
     ]
    },
    {
     "name": "stderr",
     "output_type": "stream",
     "text": [
      "\n",
      "100%|███████████████████████████████████████████████████████████████| 20/20 [00:15<00:00,  1.36it/s]"
     ]
    },
    {
     "name": "stdout",
     "output_type": "stream",
     "text": [
      "training loss after 594/600 epochs is 3.6159583568572997\n"
     ]
    },
    {
     "name": "stderr",
     "output_type": "stream",
     "text": [
      "\n",
      "100%|███████████████████████████████████████████████████████████████| 20/20 [00:16<00:00,  1.35it/s]"
     ]
    },
    {
     "name": "stdout",
     "output_type": "stream",
     "text": [
      "training loss after 595/600 epochs is 3.6004641175270082\n"
     ]
    },
    {
     "name": "stderr",
     "output_type": "stream",
     "text": [
      "\n",
      "100%|███████████████████████████████████████████████████████████████| 20/20 [00:15<00:00,  1.37it/s]"
     ]
    },
    {
     "name": "stdout",
     "output_type": "stream",
     "text": [
      "training loss after 596/600 epochs is 3.592414748668671\n"
     ]
    },
    {
     "name": "stderr",
     "output_type": "stream",
     "text": [
      "\n",
      "100%|███████████████████████████████████████████████████████████████| 20/20 [00:16<00:00,  1.36it/s]"
     ]
    },
    {
     "name": "stdout",
     "output_type": "stream",
     "text": [
      "validation loss after 596/600 epochs is 10.199878358840943\n"
     ]
    },
    {
     "name": "stderr",
     "output_type": "stream",
     "text": [
      "\n",
      "100%|███████████████████████████████████████████████████████████████| 20/20 [00:16<00:00,  1.36it/s]"
     ]
    },
    {
     "name": "stdout",
     "output_type": "stream",
     "text": [
      "training loss after 597/600 epochs is 3.5785424590110777\n"
     ]
    },
    {
     "name": "stderr",
     "output_type": "stream",
     "text": [
      "\n",
      "100%|███████████████████████████████████████████████████████████████| 20/20 [00:15<00:00,  1.39it/s]"
     ]
    },
    {
     "name": "stdout",
     "output_type": "stream",
     "text": [
      "training loss after 598/600 epochs is 3.564551663398743\n"
     ]
    },
    {
     "name": "stderr",
     "output_type": "stream",
     "text": [
      "\n",
      "100%|███████████████████████████████████████████████████████████████| 20/20 [00:16<00:00,  1.36it/s]"
     ]
    },
    {
     "name": "stdout",
     "output_type": "stream",
     "text": [
      "training loss after 599/600 epochs is 3.5429030299186706\n"
     ]
    },
    {
     "name": "stderr",
     "output_type": "stream",
     "text": [
      "\n",
      "100%|███████████████████████████████████████████████████████████████| 20/20 [00:15<00:00,  1.37it/s]"
     ]
    },
    {
     "name": "stdout",
     "output_type": "stream",
     "text": [
      "training loss after 600/600 epochs is 3.5587374567985535\n"
     ]
    },
    {
     "name": "stderr",
     "output_type": "stream",
     "text": [
      "\n"
     ]
    }
   ],
   "source": [
    "#training \n",
    "#make a network object\n",
    "device = 'cuda' if torch.cuda.is_available() else 'cpu'\n",
    "epoch = 0\n",
    "net = yolonet()\n",
    "net = net.to(device)\n",
    "print(summary(net, (3,448,448)))\n",
    "    \n",
    "net = torch.nn.DataParallel(net)\n",
    "loss = yolov1loss(lambda_coord=5, lambda_noobj=0.5, device=device)\n",
    "\n",
    "# optimizer = torch.optim.Adam(net.parameters(), lr=0.001)\n",
    "optimizer = torch.optim.SGD(net.parameters(), lr=0.001, momentum=0.9, weight_decay=0.005)\n",
    "\n",
    "net, optimizer, epoch = resume_train(net, 'chkpt_files/yolov1_model_sgd_500.pth', optimizer)\n",
    "\n",
    "\n",
    "traindata, valdata = VOCDataset(configs['train_batch'], configs['val_batch'])\n",
    "train_loss, val_loss= [], []\n",
    "for i in range(epoch, epoch + configs['n_epochs'], 1):\n",
    "    trainiter = iter(traindata)\n",
    "    net.train()\n",
    "    for _ in tqdm(range(len(trainiter)), ncols=100):\n",
    "        x, y = trainiter.next()\n",
    "        x, y = x.to(device), y.to(device)\n",
    "        y_hat = net(x)\n",
    "        loss_ = loss(y_hat, y)\n",
    "        for p in net.parameters():\n",
    "            loss_ += 0.01 * torch.sum(p**2)\n",
    "        train_loss.append(loss_.item())\n",
    "        optimizer.zero_grad()\n",
    "        loss_.backward()\n",
    "        optimizer.step()\n",
    "\n",
    "    print('training loss after {}/{} epochs is {}'.format(\n",
    "        i + 1, epoch + configs['n_epochs'], np.mean(train_loss[-len(trainiter):])))\n",
    "\n",
    "    if i % configs['val_frequency'] == 0:\n",
    "        valiter = iter(valdata)\n",
    "        net.eval()\n",
    "        with torch.no_grad():\n",
    "            for _ in tqdm(range(len(valiter)), ncols=100):\n",
    "                x, y = valiter.next()\n",
    "                x, y = x.to(device), y.to(device)\n",
    "                y_hat = net(x)\n",
    "                loss_ = loss(y_hat, y)\n",
    "                for p in net.parameters():\n",
    "                    loss_ += 0.01 * torch.sum(p**2)\n",
    "                val_loss.append(loss_.item())\n",
    "\n",
    "            print('validation loss after {}/{} epochs is {}'.format(\n",
    "                i + 1, epoch + configs['n_epochs'], np.mean(val_loss[-len(valiter):])))\n"
   ]
  },
  {
   "cell_type": "code",
   "execution_count": 9,
   "metadata": {},
   "outputs": [],
   "source": [
    "def save_model(net, optimizer, i, path):\n",
    "    #saving model to checkpoint \n",
    "    torch.save({\n",
    "            'epoch': i + 1,\n",
    "            'model_state_dict': net.state_dict(),\n",
    "            'optimizer_state_dict': optimizer.state_dict()\n",
    "            }, path)\n",
    "save_model(net, optimizer, i, 'chkpt_files/yolov1_model_sgd_600.pth')"
   ]
  },
  {
   "cell_type": "code",
   "execution_count": 10,
   "metadata": {},
   "outputs": [],
   "source": [
    "#nms\n",
    "def IoU(bb1, bb2):\n",
    "    '''\n",
    "    bb1 : input bounding box 1 the coordinates corresponds to \n",
    "          center_x center_y width height\n",
    "    bb2 : bounding box 2 coordinates in the same order as bb1\n",
    "    '''\n",
    "    minx = max(bb1[0] - bb1[2] / 2, bb2[0] - bb2[2] / 2)\n",
    "    maxx = min(bb1[0] + bb1[2] / 2, bb2[0] + bb2[2] / 2)\n",
    "    miny = max(bb1[1] - bb1[3] / 2, bb2[1] - bb2[3] / 2)\n",
    "    maxy = min(bb1[1] + bb1[3] / 2, bb2[1] + bb2[3] / 2)\n",
    "    diffx = (maxx - minx) #- (bb1[2] + bb2[2]) \n",
    "    diffy = (maxy - miny) #- (bb1[3] + bb2[3])\n",
    "    if diffx > 0  and diffy >  0 :\n",
    "        intersection = diffx * diffy\n",
    "        return intersection / (bb1[2] * bb1[3] + bb2[2] * bb2[3] - intersection) \n",
    "    return 0\n",
    "\n",
    "def non_max_suppression(predicted_tensor, iou_threshold=0.6, obj_threshold=0.25):\n",
    "    #grid coordinates to add to predicted offset\n",
    "    predicted_tensor = predicted_tensor.cpu()\n",
    "    x = torch.tensor(torch.arange(7))\n",
    "    y = torch.tensor(torch.arange(7))\n",
    "    grid_x, grid_y = torch.meshgrid(x, y)\n",
    "    box1, box2, classes = predicted_tensor.split([5, 5, 20], 1)\n",
    "    box1 = torch.sigmoid(box1)\n",
    "    box2 = torch.sigmoid(box2)\n",
    "    classes = torch.argmax(classes, 1, keepdim=True).type(torch.float)\n",
    "    grid = torch.cat([grid_y.unsqueeze(0), grid_x.unsqueeze(0)], 0).type(torch.float)\n",
    "    box1_coords, box1_dims, box1_confs = box1.split([2,2,1], 1)\n",
    "    box2_coords, box2_dims, box2_confs = box2.split([2,2,1], 1)\n",
    "    box1_coords = (box1_coords + grid)/7\n",
    "    box2_coords = (box2_coords + grid)/7\n",
    "\n",
    "    box1 = torch.cat([box1_coords, box1_dims, box1_confs, classes], dim=1).permute(0, 2, 3, 1)\n",
    "    box2 = torch.cat([box2_coords, box2_dims, box2_confs, classes], dim=1).permute(0, 2, 3, 1)\n",
    "    box1 = box1.view(box1.shape[0], -1, box1.shape[3])\n",
    "    box2 = box2.view(box2.shape[0], -1, box2.shape[3]) \n",
    "    boxes = torch.cat([box1, box2], 1).numpy()\n",
    "    obj_mask = boxes[:, :, 4] >= obj_threshold\n",
    "    selected_boxes = []\n",
    "\n",
    "    for box, mask in zip(boxes, obj_mask):\n",
    "        mask = mask.reshape(-1)\n",
    "        this_boxes = []\n",
    "        temp_boxes = []\n",
    "        for i in range(mask.shape[0]):\n",
    "            if mask[i]:\n",
    "                temp_boxes.append(box[i])\n",
    "\n",
    "        box = sorted(temp_boxes, key=lambda a:a[-2])\n",
    "        box = box[::-1]\n",
    "        box_list = [[] for _ in range(20)]\n",
    "        for i in range(len(box)):\n",
    "            box_list[int(box[i][-1])].append(box[i]) \n",
    "        for sorted_ in box_list:\n",
    "            while len(sorted_) > 0:\n",
    "                this_box = sorted_[0]\n",
    "                del sorted_[0]\n",
    "                sorted_new = []\n",
    "                for i in range(len(sorted_)):\n",
    "                    if IoU(this_box, sorted_[i]) < iou_threshold:\n",
    "                        sorted_new.append(sorted_[i])\n",
    "\n",
    "                sorted_ = sorted_new\n",
    "                this_box[4] = 1\n",
    "                this_boxes.append(this_box)\n",
    "        selected_boxes.append(torch.tensor(this_boxes))\n",
    "    return selected_boxes"
   ]
  },
  {
   "cell_type": "code",
   "execution_count": 11,
   "metadata": {},
   "outputs": [],
   "source": [
    "#utils \n",
    "import matplotlib.pyplot as plt\n",
    "import matplotlib.patches as patches\n",
    "from class_names import class_names\n",
    "\n",
    "color_dict = np.random.rand(20,3)\n",
    "def visualize_bbox_labels(image, label_tensor, bboxes, save_path):\n",
    "    fig, (ax1, ax2) = plt.subplots(1, 2)\n",
    "    if isinstance(image, torch.Tensor):\n",
    "        ax1.imshow(image.permute(1,2,0))\n",
    "        ax2.imshow(image.permute(1,2,0))\n",
    "        scale_x, scale_y = image.size(1), image.size(2)\n",
    "    else:\n",
    "        ax1.imshow(image)\n",
    "        ax2.imshow(image)\n",
    "        scale_x, scale_y = image.shape[0], image.shape[1]\n",
    "\n",
    "    if len(list(bboxes.shape)) <  2:\n",
    "        if save_path is not None :\n",
    "            plt.savefig(save_path) \n",
    "            return \n",
    "        if torch.max(label_tensor) > 1:\n",
    "            label_tensor[:, :2] /= torch.tensor([scale_x, scale_y], dtype=torch.float32)\n",
    "            label_tensor[:, 2:4] /= torch.tensor([scale_x, scale_y], dtype=torch.float32)\n",
    "\n",
    "    if len(list(label_tensor.shape)) == 3:\n",
    "        print ('recieved true labels')\n",
    "        x = torch.tensor(torch.arange(7))\n",
    "        y = torch.tensor(torch.arange(7))\n",
    "        grid_x, grid_y = torch.meshgrid(x, y)\n",
    "        grid = torch.cat([grid_y.unsqueeze(0), grid_x.unsqueeze(0)], 0).type(torch.float)\n",
    "        label_tensor[:2,:,:] += grid \n",
    "        label_tensor[:2,:,:] /= 7\n",
    "        label_tensor = label_tensor.permute(1, 2, 0)\n",
    "        object_mask = label_tensor[:, :, 4] == 1\n",
    "        object_mask = object_mask.unsqueeze(dim=-1).expand(label_tensor.shape)\n",
    "        #arrange the values into a tensor of box coordinates \n",
    "        label_tensor = label_tensor[object_mask].view((-1, 6))\n",
    "\n",
    "    centers = label_tensor[:,:2]\n",
    "    sizes = label_tensor[:,2:4]\n",
    "    label_tensor[:,:2] = centers - sizes / 2\n",
    "    label_tensor[:,:2] = label_tensor[:,:2] * torch.tensor([scale_x, scale_y], dtype=torch.float32)\n",
    "    label_tensor[:,2:4] = label_tensor[:,2:4] * torch.tensor([scale_x, scale_y], dtype=torch.float32)\n",
    "    label_tensor = label_tensor.to(torch.int16)\n",
    "\n",
    "    for i in range(label_tensor.size(0)):\n",
    "        ax1.add_patch(patches.Rectangle((label_tensor[i, 0], label_tensor[i, 1]),\n",
    "                                                        label_tensor[i, 2], label_tensor[i, 3], \n",
    "                                                        color=color_dict[label_tensor[i, 5]], fill=False))\n",
    "        ax1.text(label_tensor[i, 0], label_tensor[i, 1], class_names[label_tensor[i, 5]] ,fontsize=20, color=color_dict[label_tensor[i, 5]])\n",
    "\n",
    "    centers = bboxes[:,:2]\n",
    "    sizes = bboxes[:,2:4]\n",
    "    bboxes[:,:2] = centers - sizes / 2\n",
    "    bboxes[:,:2] = bboxes[:,:2] * torch.tensor([scale_x, scale_y], dtype=torch.float32)\n",
    "    bboxes[:,2:4] = bboxes[:,2:4] * torch.tensor([scale_x, scale_y], dtype=torch.float32)\n",
    "    bboxes = bboxes.to(torch.int16)\n",
    "    for i in range(bboxes.size(0)):\n",
    "        ax2.add_patch(patches.Rectangle((bboxes[i, 0],bboxes[i, 1]),\n",
    "                                                        bboxes[i, 2], bboxes[i, 3], \n",
    "                                                        color=color_dict[bboxes[i, 5]], fill=False))\n",
    "        ax2.text(bboxes[i, 0], bboxes[i, 1], class_names[bboxes[i, 5]] ,fontsize=20, color=color_dict[bboxes[i, 5]])\n",
    "\n",
    "    if save_path is not None:\n",
    "        plt.savefig(save_path)\n",
    "    else :\n",
    "        fig.canvas.draw()\n",
    "        return np.array(fig.canvas.renderer.buffer_rgba()) \n"
   ]
  },
  {
   "cell_type": "code",
   "execution_count": 12,
   "metadata": {},
   "outputs": [
    {
     "name": "stderr",
     "output_type": "stream",
     "text": [
      "/home/dgxuser/namuchan/torch101_venv/lib/python3.5/site-packages/ipykernel_launcher.py:22: UserWarning: To copy construct from a tensor, it is recommended to use sourceTensor.clone().detach() or sourceTensor.clone().detach().requires_grad_(True), rather than torch.tensor(sourceTensor).\n",
      "/home/dgxuser/namuchan/torch101_venv/lib/python3.5/site-packages/ipykernel_launcher.py:23: UserWarning: To copy construct from a tensor, it is recommended to use sourceTensor.clone().detach() or sourceTensor.clone().detach().requires_grad_(True), rather than torch.tensor(sourceTensor).\n",
      "/home/dgxuser/namuchan/torch101_venv/lib/python3.5/site-packages/ipykernel_launcher.py:28: UserWarning: To copy construct from a tensor, it is recommended to use sourceTensor.clone().detach() or sourceTensor.clone().detach().requires_grad_(True), rather than torch.tensor(sourceTensor).\n",
      "/home/dgxuser/namuchan/torch101_venv/lib/python3.5/site-packages/ipykernel_launcher.py:29: UserWarning: To copy construct from a tensor, it is recommended to use sourceTensor.clone().detach() or sourceTensor.clone().detach().requires_grad_(True), rather than torch.tensor(sourceTensor).\n"
     ]
    },
    {
     "name": "stdout",
     "output_type": "stream",
     "text": [
      "recieved true labels\n"
     ]
    },
    {
     "data": {
      "image/png": "[encoded data removed]",
      "text/plain": [
       "<Figure size 432x288 with 2 Axes>"
      ]
     },
     "metadata": {
      "needs_background": "light"
     },
     "output_type": "display_data"
    }
   ],
   "source": [
    " #inference\n",
    "net.eval()\n",
    "j = 4\n",
    "with torch.no_grad():\n",
    "    suppressed_preds = non_max_suppression(y_hat[j].unsqueeze(0))\n",
    "    if not len(suppressed_preds[0]) == 0:\n",
    "        save_path = 'results/val_preds_e{}.png'.format(i + 1)\n",
    "        visualize_bbox_labels(x[j].to('cpu'), y[j].to('cpu'), suppressed_preds[0], save_path)\n"
   ]
  },
  {
   "cell_type": "code",
   "execution_count": 15,
   "metadata": {},
   "outputs": [
    {
     "name": "stderr",
     "output_type": "stream",
     "text": [
      "/home/dgxuser/namuchan/torch101_venv/lib/python3.5/site-packages/ipykernel_launcher.py:22: UserWarning: To copy construct from a tensor, it is recommended to use sourceTensor.clone().detach() or sourceTensor.clone().detach().requires_grad_(True), rather than torch.tensor(sourceTensor).\n",
      "/home/dgxuser/namuchan/torch101_venv/lib/python3.5/site-packages/ipykernel_launcher.py:23: UserWarning: To copy construct from a tensor, it is recommended to use sourceTensor.clone().detach() or sourceTensor.clone().detach().requires_grad_(True), rather than torch.tensor(sourceTensor).\n",
      "/home/dgxuser/namuchan/torch101_venv/lib/python3.5/site-packages/ipykernel_launcher.py:28: UserWarning: To copy construct from a tensor, it is recommended to use sourceTensor.clone().detach() or sourceTensor.clone().detach().requires_grad_(True), rather than torch.tensor(sourceTensor).\n",
      "/home/dgxuser/namuchan/torch101_venv/lib/python3.5/site-packages/ipykernel_launcher.py:29: UserWarning: To copy construct from a tensor, it is recommended to use sourceTensor.clone().detach() or sourceTensor.clone().detach().requires_grad_(True), rather than torch.tensor(sourceTensor).\n"
     ]
    },
    {
     "name": "stdout",
     "output_type": "stream",
     "text": [
      "recieved true labels\n"
     ]
    },
    {
     "data": {
      "image/png": "[encoded data removed]",
      "text/plain": [
       "<Figure size 432x288 with 2 Axes>"
      ]
     },
     "metadata": {
      "needs_background": "light"
     },
     "output_type": "display_data"
    }
   ],
   "source": [
    "img = Image.open('test_images/test_jibun.jpg')\n",
    "transform = torchvision.transforms.Compose(\n",
    "    [torchvision.transforms.Resize((448, 448), interpolation=2), \n",
    "        torchvision.transforms.ToTensor()])\n",
    "img = transform(img).unsqueeze(0).to(device)\n",
    "net.eval()\n",
    "with torch.no_grad():\n",
    "    ypred = net(img)\n",
    "    suppressed_preds = non_max_suppression(ypred)\n",
    "    if not len(suppressed_preds[0]) == 0:\n",
    "        save_path = 'results/val_preds_e{}.png'.format(i + 1)\n",
    "        visualize_bbox_labels(img[0].to('cpu'), y[0].to('cpu'), suppressed_preds[0], save_path)\n"
   ]
  },
  {
   "cell_type": "code",
   "execution_count": 21,
   "metadata": {},
   "outputs": [
    {
     "name": "stdout",
     "output_type": "stream",
     "text": [
      "Using downloaded and verified file: ./data/VOCtrainval_06-Nov-2007.tar\n",
      "Using downloaded and verified file: ./data/VOCtrainval_06-Nov-2007.tar\n"
     ]
    }
   ],
   "source": [
    "\n",
    "traindata, valdata  = VOCDataset(32, 32)\n",
    "trainiter = iter(valdata)\n",
    "x , y = trainiter.next()"
   ]
  },
  {
   "cell_type": "code",
   "execution_count": 22,
   "metadata": {},
   "outputs": [],
   "source": [
    "#nn sanity check\n",
    "samplex = x[0 : 16]\n",
    "sampley = y[0 : 16]\n",
    "\n",
    "# device = 'cuda:0'\n",
    "# net = yolonet()\n",
    "# net = net.to(device)\n",
    "# net.train()\n",
    "# # net = torch.nn.DataParallel(net)\n",
    "# loss = yolov1loss(lambda_coord=5, lambda_noobj=0.5, device=device)\n",
    "\n",
    "# # optimizer = torch.optim.Adam(net.parameters(), lr=0.001)\n",
    "# optimizer = torch.optim.SGD(net.parameters(), lr=0.001, momentum=0.9, weight_decay=0.005)\n",
    "\n",
    "# for i in range(500):\n",
    "#     samplex, sampley = samplex.to(device), sampley.to(device)\n",
    "#     sampley_hat = net(samplex)\n",
    "#     loss_ = loss(sampley_hat, sampley)\n",
    "#     for p in net.parameters():\n",
    "#         loss_ += 0.001 * torch.sum(p**2)\n",
    "#     optimizer.zero_grad()\n",
    "#     loss_.backward()\n",
    "#     optimizer.step()\n",
    "\n",
    "#     print('training loss after {}/{} epochs is {}'.format(\n",
    "#         i + 1, 500, loss_.item()))"
   ]
  },
  {
   "cell_type": "code",
   "execution_count": 33,
   "metadata": {},
   "outputs": [
    {
     "name": "stderr",
     "output_type": "stream",
     "text": [
      "/home/dgxuser/namuchan/torch101_venv/lib/python3.5/site-packages/ipykernel_launcher.py:22: UserWarning: To copy construct from a tensor, it is recommended to use sourceTensor.clone().detach() or sourceTensor.clone().detach().requires_grad_(True), rather than torch.tensor(sourceTensor).\n",
      "/home/dgxuser/namuchan/torch101_venv/lib/python3.5/site-packages/ipykernel_launcher.py:23: UserWarning: To copy construct from a tensor, it is recommended to use sourceTensor.clone().detach() or sourceTensor.clone().detach().requires_grad_(True), rather than torch.tensor(sourceTensor).\n",
      "/home/dgxuser/namuchan/torch101_venv/lib/python3.5/site-packages/ipykernel_launcher.py:28: UserWarning: To copy construct from a tensor, it is recommended to use sourceTensor.clone().detach() or sourceTensor.clone().detach().requires_grad_(True), rather than torch.tensor(sourceTensor).\n",
      "/home/dgxuser/namuchan/torch101_venv/lib/python3.5/site-packages/ipykernel_launcher.py:29: UserWarning: To copy construct from a tensor, it is recommended to use sourceTensor.clone().detach() or sourceTensor.clone().detach().requires_grad_(True), rather than torch.tensor(sourceTensor).\n"
     ]
    },
    {
     "name": "stdout",
     "output_type": "stream",
     "text": [
      "recieved true labels\n"
     ]
    },
    {
     "data": {
      "image/png": "[encoded data removed]",
      "text/plain": [
       "<Figure size 432x288 with 2 Axes>"
      ]
     },
     "metadata": {
      "needs_background": "light"
     },
     "output_type": "display_data"
    }
   ],
   "source": [
    " #inference\n",
    "net.eval()\n",
    "j = 7\n",
    "predy_hat = net(samplex[j].unsqueeze(0))\n",
    "with torch.no_grad():\n",
    "    suppressed_preds = non_max_suppression(predy_hat)\n",
    "    if not len(suppressed_preds[0]) == 0:\n",
    "        save_path = 'results/val_preds_e{}.png'.format(i + 1)\n",
    "        visualize_bbox_labels(samplex[j].to('cpu'), sampley[j].to('cpu'), suppressed_preds[0], save_path)\n"
   ]
  },
  {
   "cell_type": "code",
   "execution_count": 12,
   "metadata": {},
   "outputs": [
    {
     "data": {
      "text/plain": [
       "tensor(0.0204)"
      ]
     },
     "execution_count": 12,
     "metadata": {},
     "output_type": "execute_result"
    }
   ],
   "source": [
    "torch.mean(torch.randn(10) /(10 - torch.randn(10)))"
   ]
  },
  {
   "cell_type": "code",
   "execution_count": 11,
   "metadata": {},
   "outputs": [
    {
     "data": {
      "text/plain": [
       "tensor([11.3561,  9.5818, 10.0950, 10.0692,  9.9318, 10.6840, 10.1370, 10.2192,\n",
       "        11.8371, 10.1633])"
      ]
     },
     "execution_count": 11,
     "metadata": {},
     "output_type": "execute_result"
    }
   ],
   "source": [
    "(10 - torch.randn(10))"
   ]
  },
  {
   "cell_type": "code",
   "execution_count": null,
   "metadata": {},
   "outputs": [],
   "source": []
  }
 ],
 "metadata": {
  "kernelspec": {
   "display_name": "Python 3",
   "language": "python",
   "name": "python3"
  },
  "language_info": {
   "codemirror_mode": {
    "name": "ipython",
    "version": 3
   },
   "file_extension": ".py",
   "mimetype": "text/x-python",
   "name": "python",
   "nbconvert_exporter": "python",
   "pygments_lexer": "ipython3",
   "version": "3.5.2"
  }
 },
 "nbformat": 4,
 "nbformat_minor": 2
}
