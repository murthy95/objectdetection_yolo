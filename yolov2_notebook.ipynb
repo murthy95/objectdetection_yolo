{
 "cells": [
  {
   "cell_type": "markdown",
   "metadata": {},
   "source": [
    "#### Proposed changes from yolov1\n",
    "\n",
    "1. No Fully connected layers \n",
    "2. 5 anchor boxes obtained using k means on the bboxes in dataset\n",
    "3. remove first pooling to obtain 13x13 grid at the output \n",
    "    and adjust input res to 416 to be able to do this \n",
    "4. Multi resoultion training for every 10 epochs on differnet size inputs \n",
    "    in pytorch we can actually do this on the fly (320 ... 608) factors of 32\n",
    "5. Imagenet pretraing for 10 epochs\n",
    "6. Predicting offsets from grid cells and scale from anchor scales"
   ]
  },
  {
   "cell_type": "code",
   "execution_count": 1,
   "metadata": {},
   "outputs": [],
   "source": [
    "import os\n",
    "from tqdm import tqdm\n",
    "import numpy as np\n",
    "\n",
    "import torch \n",
    "import torchvision\n",
    "\n",
    "import matplotlib.pyplot as plt\n",
    "import matplotlib.patches as patches\n",
    "import json"
   ]
  },
  {
   "cell_type": "code",
   "execution_count": 2,
   "metadata": {},
   "outputs": [
    {
     "data": {
      "text/plain": [
       "tensor([[0.1017, 0.1332],\n",
       "        [0.2456, 0.3084],\n",
       "        [0.3889, 0.6230],\n",
       "        [0.7285, 0.3723],\n",
       "        [0.8643, 0.7698]])"
      ]
     },
     "execution_count": 2,
     "metadata": {},
     "output_type": "execute_result"
    }
   ],
   "source": [
    "anchors = torch.tensor([1.3221, 1.73145, 3.19275, 4.00944, 5.05587, 8.09892, 9.47112, 4.84053, 11.2364, 10.0071])\n",
    "anchors = anchors /13\n",
    "anchors = anchors.view(-1, 2)\n",
    "anchors"
   ]
  },
  {
   "cell_type": "code",
   "execution_count": 3,
   "metadata": {},
   "outputs": [],
   "source": [
    "class_labels = [1, 2, 3, 4, 5, 6, 7, 8, 9, 10, 11, 13, 14, 15, 16, 17, 18, 19, 20, 21, 22, 23, 24, 25, 27, 28, 31, 32, 33, 34,\n",
    "         35, 36, 37, 38, 39, 40, 41, 42, 43, 44, 46, 47, 48, 49, 50, 51, 52, 53, 54, 55, 56, 57, 58, 59, 60, 61, 62, 63,\n",
    "         64, 65, 67, 70, 72, 73, 74, 75, 76, 77, 78, 79, 80, 81, 82, 84, 85, 86, 87, 88, 89, 90]\n",
    "class_names = json.load(open('mscoco_label_map.json', 'r'))"
   ]
  },
  {
   "cell_type": "code",
   "execution_count": 4,
   "metadata": {},
   "outputs": [],
   "source": [
    "num_classes = 80\n",
    "num_anchors = 5\n",
    "input_shape = 416"
   ]
  },
  {
   "cell_type": "code",
   "execution_count": 5,
   "metadata": {},
   "outputs": [],
   "source": [
    "def Intersection(bb1: torch.Tensor, bb2:torch.tensor) -> torch.Tensor:\n",
    "    '''\n",
    "    both boxes assume the min max format\n",
    "    '''\n",
    "    mins = torch.max(bb1[:, :, :2], bb2[:, :, :2])\n",
    "    maxs = torch.min(bb1[:, :, 2:4], bb2[:, :, 2:4])\n",
    "    diff = (maxs - mins).clamp(0)\n",
    "    return diff[:, :, 0] * diff[:, :, 1]\n",
    "\n",
    "def bbox_area(bbx):\n",
    "    '''\n",
    "    box in the min max format\n",
    "    '''\n",
    "    dims = bbx[:, :, 2:4] - bbx[:, :, :2]\n",
    "    return dims[:, :, 1] * dims[:, :, 0]\n",
    "\n",
    "def IoU(bb1, bb2):\n",
    "    '''Evaluate the IoU score given boxes in min max format\n",
    "    '''\n",
    "    intersection = Intersection(bb1, bb2)\n",
    "    return (intersection / (bbox_area(bb1) + bbox_area(bb2) - intersection))\n",
    "\n",
    "def get_all_anchors(anchors, resolution=13):\n",
    "    '''\n",
    "    anchors of shape (numanchors, 2) to be in width and height format \n",
    "    '''\n",
    "    gridy, gridx = torch.meshgrid(torch.arange(resolution), torch.arange(resolution))\n",
    "    gridx = gridx.unsqueeze(0).type(torch.float)\n",
    "    gridy = gridy.unsqueeze(0).type(torch.float)\n",
    "    gridx = (gridx + 0.5)/resolution\n",
    "    gridy = (gridy + 0.5)/resolution\n",
    "    all_anchors = []\n",
    "    for anchor in anchors:\n",
    "        xmin = gridx - anchor[0]/2\n",
    "        ymin = gridy - anchor[1]/2\n",
    "        xmax = gridx + anchor[0]/2\n",
    "        ymax = gridy + anchor[1]/2\n",
    "        all_anchors.append(torch.cat([xmin, ymin, xmax, ymax], 0).permute(1, 2, 0).view(-1, 4))\n",
    "    return torch.cat([*all_anchors], 0).clamp(0,1)\n",
    "    \n",
    "def match(gtboxes, anchors, resolution=13):\n",
    "    '''\n",
    "    gtboxes : tensor of shape(n_boxes, 4) boxes in \n",
    "    anchors : tensor of shape(num_anchors, 4) anchors in min max format \n",
    "    '''\n",
    "    if gtboxes.shape[0] == 0:\n",
    "        return [[], []]\n",
    "\n",
    "    num_gtboxes = gtboxes.shape[0]\n",
    "    gtboxes = gtboxes.repeat(anchors.shape[0], 1)\n",
    "    gtboxes = gtboxes.view(anchors.shape[0], -1, gtboxes.shape[-1])\n",
    "    anchors = anchors.unsqueeze(2)\n",
    "    anchors = anchors.repeat(1, 1, gtboxes.shape[1]).transpose(1, 2)\n",
    "    iou = IoU(gtboxes, anchors)\n",
    "    gts = []\n",
    "    inds = []\n",
    "    for _ in range(num_gtboxes):\n",
    "        arg = torch.argmax(iou)\n",
    "        \n",
    "        ind = [arg//num_gtboxes , arg%num_gtboxes]\n",
    "        gtbox_index = ind[1]\n",
    "        \n",
    "        bbox = torch.zeros(6)\n",
    "        bbox[:4] = gtboxes[0, ind[1]][:4]\n",
    "        bbox_coords = (((bbox[:2] + bbox[2:4])/2) * resolution).type(torch.int)\n",
    "        anc_index = ind[0] // (resolution**2)\n",
    "        arg = ( anc_index )*(resolution**2) + bbox_coords[1]*resolution + bbox_coords[0]\n",
    "        \n",
    "        anc = anchors[ind[0], 0]\n",
    "        \n",
    "        offsets = ((bbox[:2] + bbox[2:4])/2) * resolution \\\n",
    "                    - bbox_coords.type(torch.float)\n",
    "        bbox[2:4] = (bbox[2:4] - bbox[0:2]) / (anc[2:4] - anc[:2])\n",
    "        bbox[4] = torch.max(iou)\n",
    "        bbox[5] = gtboxes[0, ind[1]][4]\n",
    "        \n",
    "        anchor_id = [arg // (resolution**2),\n",
    "                     (arg % (resolution**2))/resolution,\n",
    "                     (arg % (resolution**2))%resolution]\n",
    "        \n",
    "        gts.append(bbox.unsqueeze(0))\n",
    "        inds.append(torch.tensor(anchor_id, dtype=torch.int64).unsqueeze(0))\n",
    "        iou[ind[0], :] = 0\n",
    "        iou[:, gtbox_index] = 0\n",
    "    return torch.cat(gts, 0), torch.cat(inds, 0)\n",
    "\n",
    "class transform_labels(object):\n",
    "    def __init__(self, transform, scales, classnames):\n",
    "        self.box_resolutions = scales\n",
    "        self.transform = transform\n",
    "        self.resolutions = scales\n",
    "        with open(classnames, 'r') as f: \n",
    "            class_names = f.readlines()\n",
    "        self.class_dict ={}\n",
    "        for i, class_ in enumerate(class_names):\n",
    "            self.class_dict[class_] = i \n",
    "    \n",
    "    def __call__(self, image, target):\n",
    "        shape_x = image.size[0]\n",
    "        shape_y = image.size[1]\n",
    "        self.factor = (1/shape_x, 1/shape_y)\n",
    "        labels_list = []\n",
    "        for obj in target:\n",
    "            labels_list += [self.return_box(obj['bbox'], class_labels.index(obj['category_id']))]\n",
    "        return self.transform(image), torch.tensor(labels_list)\n",
    "    \n",
    "    def return_box(self, bndbox, class_id):\n",
    "        #cocodataset has xmin ymin width height\n",
    "        return [(bndbox[0]) * self.factor[0],\\\n",
    "            (bndbox[1]) * self.factor[1],\\\n",
    "            (bndbox[0] + bndbox[2]) * self.factor[0],\\\n",
    "            (bndbox[1] + bndbox[3]) * self.factor[1], class_id]\n",
    "         \n",
    "#     def __call__(self, image, target):\n",
    "#         shape_x = image.size[0]\n",
    "#         shape_y = image.size[1]\n",
    "#         self.factor = (1/shape_x, 1/shape_y)\n",
    "#         labels_list = []\n",
    "#         for grid_size in self.resolutions:\n",
    "#             grid_size = grid_size if isinstance(grid_size, list) else [grid_size, grid_size]\n",
    "#             transformed_boxes = torch.zeros((grid_size[0], grid_size[1], 6))\n",
    "#             for obj in target:\n",
    "#                 transformed_box =  self.return_transformed_box(obj['bbox'], obj['category_id'])\n",
    "#                 coordx, coordy = int(transformed_box[0]*grid_size[0]), int(transformed_box[1]*grid_size[1])\n",
    "#                 transformed_box[0] = transformed_box[0]*grid_size[0] - int(transformed_box[0]*grid_size[1])\n",
    "#                 transformed_box[1] = transformed_box[1]*grid_size[1] - int(transformed_box[1]*grid_size[1])\n",
    "#                 transformed_boxes[coordx, coordy] = transformed_box\n",
    "#             labels_list.append(transformed_boxes.permute(2,0,1))\n",
    "#         return self.transform(image), labels_list\n",
    "\n",
    "#     def return_transformed_box(self, bndbox, class_id):\n",
    "#         print (bndbox, class_id)\n",
    "#         return torch.tensor([(bndbox[0] + bndbox[2]/2) * self.factor[0],\\\n",
    "#             (bndbox[1] + bndbox[3]/2) * self.factor[1],\\\n",
    "#             (bndbox[2]) * self.factor[0],\\\n",
    "#             (bndbox[3]) * self.factor[1], 1, class_id])\n"
   ]
  },
  {
   "cell_type": "code",
   "execution_count": 6,
   "metadata": {},
   "outputs": [],
   "source": [
    "#Download script\n",
    "\n",
    "from torch.utils.data._utils.collate import default_collate\n",
    "\n",
    "def custom_collate(batch):\n",
    "    r\"\"\"Puts each data field into a tensor with outer dimension batch size\"\"\"\n",
    "\n",
    "    elem = batch[0]\n",
    "    elem_type = type(elem)\n",
    "    if isinstance(elem, tuple):\n",
    "        return default_collate([b[0] for b in batch]), list([b[1] for b in batch])\n",
    "\n",
    "root = '../m2dnet_objdetect/data/'\n",
    "def CocoDataset(train_batch_size, val_batch_size, imshape=416, scales=[7], cnames= root+'coco.names',  \n",
    "                rank=None, size=None):\n",
    "    imshape = imshape if isinstance(imshape, list) else [imshape, imshape]\n",
    "    download = os.path.exists(root +'VOCtrainval_06-Nov-2007.tar')\n",
    "    transform = torchvision.transforms.Compose(\n",
    "    [torchvision.transforms.Resize((imshape[0], imshape[1]), interpolation=2), \n",
    "        torchvision.transforms.ToTensor()\n",
    "#         torchvision.transforms.Normalize(mean=[0.485, 0.456, 0.406],\n",
    "#                                       std=[0.229, 0.224, 0.225])\n",
    "    ])\n",
    "\n",
    "    trainset = torchvision.datasets.CocoDetection(root=root +'val2017/', \n",
    "                                                  annFile=root +'/annotations/instances_val2017.json',\n",
    "                                                  transforms=transform_labels(transform, scales, cnames)) \n",
    "    if not size==None:\n",
    "        trainset.images = trainset.images[rank * len(trainset) // size : (rank + 1)*len(trainset) // size]\n",
    "        trainset.annotations = trainset.annotations[rank * len(trainset) // size : (rank + 1)*len(trainset) // size]\n",
    "\n",
    "    trainloader = torch.utils.data.DataLoader(trainset, batch_size=train_batch_size,\n",
    "                                          shuffle=True, num_workers=0, collate_fn=custom_collate)\n",
    "\n",
    "    return trainloader"
   ]
  },
  {
   "cell_type": "code",
   "execution_count": 7,
   "metadata": {},
   "outputs": [],
   "source": [
    "#network \n",
    "class conv_bn_lelu(torch.nn.Module):\n",
    "    def __init__(self, inmaps, outmaps, kernelsize, padding, activation=True):\n",
    "        super().__init__()\n",
    "        self.conv2d = torch.nn.Conv2d(inmaps, outmaps, \n",
    "                                    kernelsize, \n",
    "                                    stride=1,\n",
    "                                    padding=padding)\n",
    "        self.batchnorm = torch.nn.BatchNorm2d(outmaps)\n",
    "        self.activation = activation\n",
    "        if self.activation:\n",
    "            self.l_relu = torch.nn.LeakyReLU(negative_slope=0.2)\n",
    "    \n",
    "    def forward(self, x):\n",
    "        x = self.conv2d(x)\n",
    "        x = self.batchnorm(x)\n",
    "        if not self.activation:\n",
    "            return x\n",
    "        return self.l_relu(x)\n",
    "        \n",
    "        \n",
    "class conv_block(torch.nn.Module):\n",
    "    def __init__(self, inmaps, outmaps, kernelsizes, paddings, maxpooling=True):\n",
    "        super().__init__()\n",
    "        assert len(inmaps) == len(outmaps) and len(outmaps) == len(kernelsizes) \\\n",
    "            and len(kernelsizes) == len(paddings), print('Inconsistent conv block error')\n",
    "\n",
    "        self.layers = torch.nn.ModuleList()\n",
    "        for i in range(len(inmaps)):\n",
    "            self.layers.append(conv_bn_lelu(inmaps[i], outmaps[i],\n",
    "                                           kernelsizes[i], paddings[i]))\n",
    "        if maxpooling:\n",
    "            self.layers.append(torch.nn.MaxPool2d(2, 2))\n",
    "        self.model = torch.nn.Sequential(*self.layers)\n",
    "        \n",
    "    def forward(self, x):\n",
    "        return self.model(x)\n",
    "            \n",
    "            \n",
    "class yolov2(torch.nn.Module):\n",
    "    def __init__(self):\n",
    "        super().__init__()\n",
    "        self.branch1 = torch.nn.Sequential(conv_block([3], [32], [3], [1]),\n",
    "                                          conv_block([32], [64], [3], [1]),\n",
    "                                          conv_block([64, 128, 64], [128, 64, 128], \n",
    "                                                     [3, 1, 3], [1, 0, 1]),\n",
    "                                          conv_block([128, 256, 128], [256, 128, 256], \n",
    "                                                     [3, 1, 3], [1, 0, 1]),\n",
    "                                          conv_block([256, 512, 256, 512, 256], [512, 256, 512, 256, 512], \n",
    "                                                     [3, 1, 3, 1, 3], [1, 0, 1, 0, 1], maxpooling=False))\n",
    "        self.pool = torch.nn.MaxPool2d(2, 2)\n",
    "        self.branch2 = torch.nn.Sequential(conv_block([512, 1024, 512, 1024, 512, 1024, 1024], \n",
    "                                                      [1024, 512, 1024, 512, 1024, 1024, 1024], \n",
    "                                                     [3, 1, 3, 1, 3, 3, 3], [1, 0, 1, 0, 1, 1, 1], maxpooling=False))\n",
    "        self.branch3 = conv_bn_lelu(3072, 1024, 3, 1)\n",
    "        self.finalconv = torch.nn.Conv2d(1024, (num_classes + 5)*num_anchors, 1, stride=1, padding=0)\n",
    "        \n",
    "    def forward(self, x):\n",
    "        residual = self.branch1(x)\n",
    "        x = self.pool(residual)\n",
    "        x = self.branch2(x)\n",
    "        x = torch.cat([x, residual.view(residual.shape[0], 2048, 13, 13)], 1)\n",
    "        x = self.branch3(x)\n",
    "        return self.finalconv(x)"
   ]
  },
  {
   "cell_type": "code",
   "execution_count": 8,
   "metadata": {},
   "outputs": [],
   "source": [
    "#loss\n",
    "class yolov2loss(torch.nn.Module):\n",
    "\n",
    "    def __init__(self, lambda_coord, lambda_dims, lambda_noobj, device, lambda_obj=5, lambda_class=1, resolution=13):\n",
    "        super().__init__()\n",
    "        self.lambda_coord = lambda_coord\n",
    "        self.lambda_dims = lambda_dims\n",
    "        self.lambda_noobj = lambda_noobj\n",
    "        self.lambda_obj = lambda_obj\n",
    "        self.lambda_class = lambda_class\n",
    "        self.resolution = resolution \n",
    "        self.device = device\n",
    "\n",
    "    def forward(self, y, labels):\n",
    "        loss = 0\n",
    "        predictions = y.view(y.shape[0], num_anchors, num_classes + 5, y.shape[-2], y.shape[-1]).permute(0,1,3,4,2)\n",
    "        matched_gtboxes = []\n",
    "        matched_indices = []\n",
    "        for label in labels:\n",
    "            ret = match(label, get_all_anchors(anchors, self.resolution))\n",
    "            if len(ret[0]) == 0:\n",
    "                 continue\n",
    "            matched_gtboxes.append(ret[0])\n",
    "            matched_indices.append(ret[1])\n",
    "        \n",
    "        pred_boxes = []\n",
    "        for i in range(len(matched_gtboxes)):\n",
    "            pred_ = []\n",
    "            for index in matched_indices[i]:\n",
    "                pred_.append(predictions[i, index[0], index[1], index[2]].unsqueeze(0))\n",
    "            if not len(pred_) == 0 :\n",
    "                pred_boxes.append(torch.cat(pred_, 0))\n",
    "        obj_masks = []\n",
    "    \n",
    "#         for i in range(len(matched_gtboxes)):\n",
    "#             mask = torch.ones(num_anchors, 13, 13, device=self.device)\n",
    "#             for index in matched_indices[i]:\n",
    "#                 mask[index[0], index[1], index[2]] = 0\n",
    "#             obj_masks.append(mask)\n",
    "\n",
    "#hard negative mining only considering boxes wiht confidence greater than 0.5\n",
    "            \n",
    "        noobj_objs = predictions[:, :, :, :, 4].clamp(0.5, 1).view(-1)\n",
    "        noobj_objs = noobj_objs[noobj_objs.nonzero()]\n",
    "        \n",
    "        pred_boxes = torch.cat(pred_boxes, 0)\n",
    "        matched_gtboxes = torch.cat(matched_gtboxes, 0).to(self.device)\n",
    "        #coord_loss\n",
    "        loss += self.lambda_coord * (torch.mean((matched_gtboxes[:, :2] - torch.sigmoid(pred_boxes[:, :2]))**2))\n",
    "        \n",
    "        #dims loss\n",
    "        loss += self.lambda_dims * (torch.mean((matched_gtboxes[:, 2:4] - torch.exp(pred_boxes[:, 2:4]))**2))\n",
    "        \n",
    "        #objectivity loss\n",
    "        loss += self.lambda_obj * (torch.mean((matched_gtboxes[:, 4] - torch.sigmoid(pred_boxes[:, 4]))**2))\n",
    "        \n",
    "        #class loss\n",
    "        onehotlabels = torch.zeros(matched_gtboxes.shape[0], num_classes, device=self.device)\n",
    "        ones = torch.ones(matched_gtboxes.shape[0], num_classes, device=self.device)\n",
    "        indices = matched_gtboxes[:, 5].view(1, -1).type(torch.int64) \n",
    "\n",
    "        indices = indices.repeat(num_classes, 1).transpose(1, 0)\n",
    "        onehotlabels = onehotlabels.scatter(1, indices, ones)\n",
    "        loss += self.lambda_class * (torch.mean((onehotlabels - torch.softmax(pred_boxes[:, 5:], 1))**2))\n",
    "        \n",
    "        #no obj loss\n",
    "        loss += self.lambda_noobj * (torch.mean(noobj_objs ** 2))\n",
    "        \n",
    "        return loss\n",
    "    "
   ]
  },
  {
   "cell_type": "code",
   "execution_count": 9,
   "metadata": {},
   "outputs": [],
   "source": [
    "configs = {'train_batch': 128, \n",
    "            'val_batch':128,\n",
    "           'n_epochs': 100,\n",
    "            'result_frequency': 5,\n",
    "           'val_frequency': 5,\n",
    "        }\n",
    "\n"
   ]
  },
  {
   "cell_type": "code",
   "execution_count": 10,
   "metadata": {},
   "outputs": [
    {
     "data": {
      "text/plain": [
       "[<matplotlib.lines.Line2D at 0x7f4b23ab52e8>]"
      ]
     },
     "execution_count": 10,
     "metadata": {},
     "output_type": "execute_result"
    },
    {
     "data": {
      "image/png": "[encoded data removed]",
      "text/plain": [
       "<Figure size 432x288 with 1 Axes>"
      ]
     },
     "metadata": {
      "needs_background": "light"
     },
     "output_type": "display_data"
    }
   ],
   "source": [
    "hyp = {'giou': 1.582,  # giou loss gain\n",
    "       'xy': 4.688,  # xy loss gain\n",
    "       'wh': 0.1857,  # wh loss gain\n",
    "       'cls': 27.76,  # cls loss gain\n",
    "       'cls_pw': 1.446,  # cls BCELoss positive_weight\n",
    "       'obj': 21.35,  # obj loss gain\n",
    "       'obj_pw': 3.941,  # obj BCELoss positive_weight\n",
    "       'iou_t': 0.2635,  # iou training threshold\n",
    "       'lr0': 0.002324,  # initial learning rate\n",
    "       'lrf': -4.,  # final LambdaLR learning rate = lr0 * (10 ** lrf)\n",
    "       'momentum': 0.97,  # SGD momentum\n",
    "       'weight_decay': 0.0004569,  # optimizer weight decay\n",
    "       'hsv_s': 0.5703,  # image HSV-Saturation augmentation (fraction)\n",
    "       'hsv_v': 0.3174,  # image HSV-Value augmentation (fraction)\n",
    "       'degrees': 1.113,  # image rotation (+/- deg)\n",
    "       'translate': 0.06797,  # image translation (+/- fraction)\n",
    "       'scale': 0.1059,  # image scale (+/- gain)\n",
    "       'shear': 0.5768}  # image shear (+/- deg)\n",
    "\n",
    "\n",
    "lf = lambda x: 1 - 10 ** (hyp['lrf'] * (1 - x / configs['n_epochs']))  # inverse exp ramp \n",
    "lrs_observed = [lf(e) for e in range(configs['n_epochs'])]\n",
    "plt.plot(lrs_observed)"
   ]
  },
  {
   "cell_type": "code",
   "execution_count": 11,
   "metadata": {},
   "outputs": [
    {
     "name": "stdout",
     "output_type": "stream",
     "text": [
      "loading annotations into memory...\n"
     ]
    },
    {
     "name": "stderr",
     "output_type": "stream",
     "text": [
      "\r",
      "  0%|                                                                        | 0/40 [00:00<?, ?it/s]"
     ]
    },
    {
     "name": "stdout",
     "output_type": "stream",
     "text": [
      "Done (t=0.51s)\n",
      "creating index...\n",
      "index created!\n"
     ]
    },
    {
     "name": "stderr",
     "output_type": "stream",
     "text": [
      "100%|███████████████████████████████████████████████████████████████| 40/40 [02:24<00:00,  2.25s/it]\n",
      "  0%|                                                                        | 0/40 [00:00<?, ?it/s]"
     ]
    },
    {
     "name": "stdout",
     "output_type": "stream",
     "text": [
      "training loss after 1/100 epochs is 1.513215172290802 at lr=0.0023237451784672166\n"
     ]
    },
    {
     "name": "stderr",
     "output_type": "stream",
     "text": [
      "100%|███████████████████████████████████████████████████████████████| 40/40 [01:56<00:00,  2.10s/it]\n",
      "  0%|                                                                        | 0/40 [00:00<?, ?it/s]"
     ]
    },
    {
     "name": "stdout",
     "output_type": "stream",
     "text": [
      "training loss after 2/100 epochs is 1.1439715832471848 at lr=0.002323720593745395\n"
     ]
    },
    {
     "name": "stderr",
     "output_type": "stream",
     "text": [
      "100%|███████████████████████████████████████████████████████████████| 40/40 [01:57<00:00,  2.17s/it]\n",
      "  0%|                                                                        | 0/40 [00:00<?, ?it/s]"
     ]
    },
    {
     "name": "stdout",
     "output_type": "stream",
     "text": [
      "training loss after 3/100 epochs is 1.0554160103201866 at lr=0.0023236936371339597\n"
     ]
    },
    {
     "name": "stderr",
     "output_type": "stream",
     "text": [
      "100%|███████████████████████████████████████████████████████████████| 40/40 [01:56<00:00,  2.16s/it]\n",
      "  0%|                                                                        | 0/40 [00:00<?, ?it/s]"
     ]
    },
    {
     "name": "stdout",
     "output_type": "stream",
     "text": [
      "training loss after 4/100 epochs is 1.0156981825828553 at lr=0.0023236640797972786\n"
     ]
    },
    {
     "name": "stderr",
     "output_type": "stream",
     "text": [
      "100%|███████████████████████████████████████████████████████████████| 40/40 [01:56<00:00,  2.24s/it]\n",
      "  0%|                                                                        | 0/40 [00:00<?, ?it/s]"
     ]
    },
    {
     "name": "stdout",
     "output_type": "stream",
     "text": [
      "training loss after 5/100 epochs is 0.9725611269474029 at lr=0.002323631670822072\n"
     ]
    },
    {
     "name": "stderr",
     "output_type": "stream",
     "text": [
      "100%|███████████████████████████████████████████████████████████████| 40/40 [01:57<00:00,  2.18s/it]\n",
      "  0%|                                                                        | 0/40 [00:00<?, ?it/s]"
     ]
    },
    {
     "name": "stdout",
     "output_type": "stream",
     "text": [
      "training loss after 6/100 epochs is 0.9653460726141929 at lr=0.0023235961350873986\n"
     ]
    },
    {
     "name": "stderr",
     "output_type": "stream",
     "text": [
      "100%|███████████████████████████████████████████████████████████████| 40/40 [01:55<00:00,  2.14s/it]\n",
      "  0%|                                                                        | 0/40 [00:00<?, ?it/s]"
     ]
    },
    {
     "name": "stdout",
     "output_type": "stream",
     "text": [
      "training loss after 7/100 epochs is 0.9679789155721664 at lr=0.0023235571709291454\n"
     ]
    },
    {
     "name": "stderr",
     "output_type": "stream",
     "text": [
      "100%|███████████████████████████████████████████████████████████████| 40/40 [01:57<00:00,  2.19s/it]\n",
      "  0%|                                                                        | 0/40 [00:00<?, ?it/s]"
     ]
    },
    {
     "name": "stdout",
     "output_type": "stream",
     "text": [
      "training loss after 8/100 epochs is 0.9482415974140167 at lr=0.0023235144475791895\n"
     ]
    },
    {
     "name": "stderr",
     "output_type": "stream",
     "text": [
      "100%|███████████████████████████████████████████████████████████████| 40/40 [01:56<00:00,  2.21s/it]\n",
      "  0%|                                                                        | 0/40 [00:00<?, ?it/s]"
     ]
    },
    {
     "name": "stdout",
     "output_type": "stream",
     "text": [
      "training loss after 9/100 epochs is 0.9315994694828987 at lr=0.002323467602357497\n"
     ]
    },
    {
     "name": "stderr",
     "output_type": "stream",
     "text": [
      "100%|███████████████████████████████████████████████████████████████| 40/40 [01:57<00:00,  2.17s/it]\n",
      "  0%|                                                                        | 0/40 [00:00<?, ?it/s]"
     ]
    },
    {
     "name": "stdout",
     "output_type": "stream",
     "text": [
      "training loss after 10/100 epochs is 0.9218658611178399 at lr=0.002323416237593317\n"
     ]
    },
    {
     "name": "stderr",
     "output_type": "stream",
     "text": [
      "100%|███████████████████████████████████████████████████████████████| 40/40 [01:57<00:00,  2.18s/it]\n",
      "  0%|                                                                        | 0/40 [00:00<?, ?it/s]"
     ]
    },
    {
     "name": "stdout",
     "output_type": "stream",
     "text": [
      "training loss after 11/100 epochs is 0.9302653566002845 at lr=0.0023233599172493443\n"
     ]
    },
    {
     "name": "stderr",
     "output_type": "stream",
     "text": [
      "100%|███████████████████████████████████████████████████████████████| 40/40 [01:58<00:00,  2.21s/it]\n",
      "  0%|                                                                        | 0/40 [00:00<?, ?it/s]"
     ]
    },
    {
     "name": "stdout",
     "output_type": "stream",
     "text": [
      "training loss after 12/100 epochs is 0.9293118476867676 at lr=0.002323298163220179\n"
     ]
    },
    {
     "name": "stderr",
     "output_type": "stream",
     "text": [
      "100%|███████████████████████████████████████████████████████████████| 40/40 [01:56<00:00,  2.15s/it]\n",
      "  0%|                                                                        | 0/40 [00:00<?, ?it/s]"
     ]
    },
    {
     "name": "stdout",
     "output_type": "stream",
     "text": [
      "training loss after 13/100 epochs is 0.9231194853782654 at lr=0.0023232304512736746\n"
     ]
    },
    {
     "name": "stderr",
     "output_type": "stream",
     "text": [
      "100%|███████████████████████████████████████████████████████████████| 40/40 [01:57<00:00,  2.26s/it]\n",
      "  0%|                                                                        | 0/40 [00:00<?, ?it/s]"
     ]
    },
    {
     "name": "stdout",
     "output_type": "stream",
     "text": [
      "training loss after 14/100 epochs is 0.9098866969347 at lr=0.0023231562066007142\n"
     ]
    },
    {
     "name": "stderr",
     "output_type": "stream",
     "text": [
      "100%|███████████████████████████████████████████████████████████████| 40/40 [01:57<00:00,  2.20s/it]\n",
      "  0%|                                                                        | 0/40 [00:00<?, ?it/s]"
     ]
    },
    {
     "name": "stdout",
     "output_type": "stream",
     "text": [
      "training loss after 15/100 epochs is 0.9171824738383293 at lr=0.002323074798935634\n"
     ]
    },
    {
     "name": "stderr",
     "output_type": "stream",
     "text": [
      "100%|███████████████████████████████████████████████████████████████| 40/40 [01:57<00:00,  2.21s/it]\n",
      "  0%|                                                                        | 0/40 [00:00<?, ?it/s]"
     ]
    },
    {
     "name": "stdout",
     "output_type": "stream",
     "text": [
      "training loss after 16/100 epochs is 0.8834227755665779 at lr=0.002322985537205874\n"
     ]
    },
    {
     "name": "stderr",
     "output_type": "stream",
     "text": [
      "100%|███████████████████████████████████████████████████████████████| 40/40 [01:57<00:00,  2.16s/it]\n",
      "  0%|                                                                        | 0/40 [00:00<?, ?it/s]"
     ]
    },
    {
     "name": "stdout",
     "output_type": "stream",
     "text": [
      "training loss after 17/100 epochs is 0.9092514798045158 at lr=0.0023228876636654425\n"
     ]
    },
    {
     "name": "stderr",
     "output_type": "stream",
     "text": [
      "100%|███████████████████████████████████████████████████████████████| 40/40 [01:57<00:00,  2.21s/it]\n",
      "  0%|                                                                        | 0/40 [00:00<?, ?it/s]"
     ]
    },
    {
     "name": "stdout",
     "output_type": "stream",
     "text": [
      "training loss after 18/100 epochs is 0.9134987086057663 at lr=0.0023227803474623796\n"
     ]
    },
    {
     "name": "stderr",
     "output_type": "stream",
     "text": [
      "100%|███████████████████████████████████████████████████████████████| 40/40 [01:58<00:00,  2.18s/it]\n",
      "  0%|                                                                        | 0/40 [00:00<?, ?it/s]"
     ]
    },
    {
     "name": "stdout",
     "output_type": "stream",
     "text": [
      "training loss after 19/100 epochs is 0.9001998156309128 at lr=0.0023226626775856287\n"
     ]
    },
    {
     "name": "stderr",
     "output_type": "stream",
     "text": [
      "100%|███████████████████████████████████████████████████████████████| 40/40 [01:58<00:00,  2.14s/it]\n",
      "  0%|                                                                        | 0/40 [00:00<?, ?it/s]"
     ]
    },
    {
     "name": "stdout",
     "output_type": "stream",
     "text": [
      "training loss after 20/100 epochs is 0.8697052463889122 at lr=0.002322533655131428\n"
     ]
    },
    {
     "name": "stderr",
     "output_type": "stream",
     "text": [
      "100%|███████████████████████████████████████████████████████████████| 40/40 [01:57<00:00,  2.18s/it]\n",
      "  0%|                                                                        | 0/40 [00:00<?, ?it/s]"
     ]
    },
    {
     "name": "stdout",
     "output_type": "stream",
     "text": [
      "training loss after 21/100 epochs is 0.8976714730262756 at lr=0.0023223921848235843\n"
     ]
    },
    {
     "name": "stderr",
     "output_type": "stream",
     "text": [
      "100%|███████████████████████████████████████████████████████████████| 40/40 [01:58<00:00,  2.18s/it]\n",
      "  0%|                                                                        | 0/40 [00:00<?, ?it/s]"
     ]
    },
    {
     "name": "stdout",
     "output_type": "stream",
     "text": [
      "training loss after 22/100 epochs is 0.8834457263350487 at lr=0.002322237065715632\n"
     ]
    },
    {
     "name": "stderr",
     "output_type": "stream",
     "text": [
      "100%|███████████████████████████████████████████████████████████████| 40/40 [01:57<00:00,  2.19s/it]\n",
      "  0%|                                                                        | 0/40 [00:00<?, ?it/s]"
     ]
    },
    {
     "name": "stdout",
     "output_type": "stream",
     "text": [
      "training loss after 23/100 epochs is 0.8846300065517425 at lr=0.0023220669809959574\n"
     ]
    },
    {
     "name": "stderr",
     "output_type": "stream",
     "text": [
      "100%|███████████████████████████████████████████████████████████████| 40/40 [01:59<00:00,  2.19s/it]\n",
      "  0%|                                                                        | 0/40 [00:00<?, ?it/s]"
     ]
    },
    {
     "name": "stdout",
     "output_type": "stream",
     "text": [
      "training loss after 24/100 epochs is 0.8679957568645478 at lr=0.002321880486809337\n"
     ]
    },
    {
     "name": "stderr",
     "output_type": "stream",
     "text": [
      "100%|███████████████████████████████████████████████████████████████| 40/40 [01:56<00:00,  2.23s/it]\n",
      "  0%|                                                                        | 0/40 [00:00<?, ?it/s]"
     ]
    },
    {
     "name": "stdout",
     "output_type": "stream",
     "text": [
      "training loss after 25/100 epochs is 0.8536190569400788 at lr=0.002321676\n"
     ]
    },
    {
     "name": "stderr",
     "output_type": "stream",
     "text": [
      "100%|███████████████████████████████████████████████████████████████| 40/40 [01:57<00:00,  2.23s/it]\n",
      "  0%|                                                                        | 0/40 [00:00<?, ?it/s]"
     ]
    },
    {
     "name": "stdout",
     "output_type": "stream",
     "text": [
      "training loss after 26/100 epochs is 0.8531178027391434 at lr=0.002321451784672163\n"
     ]
    },
    {
     "name": "stderr",
     "output_type": "stream",
     "text": [
      "100%|███████████████████████████████████████████████████████████████| 40/40 [01:55<00:00,  2.20s/it]\n",
      "  0%|                                                                        | 0/40 [00:00<?, ?it/s]"
     ]
    },
    {
     "name": "stdout",
     "output_type": "stream",
     "text": [
      "training loss after 27/100 epochs is 0.8627293795347214 at lr=0.0023212059374539493\n"
     ]
    },
    {
     "name": "stderr",
     "output_type": "stream",
     "text": [
      "100%|███████████████████████████████████████████████████████████████| 40/40 [01:57<00:00,  2.20s/it]\n",
      "  0%|                                                                        | 0/40 [00:00<?, ?it/s]"
     ]
    },
    {
     "name": "stdout",
     "output_type": "stream",
     "text": [
      "training loss after 28/100 epochs is 0.862818717956543 at lr=0.002320936371339595\n"
     ]
    },
    {
     "name": "stderr",
     "output_type": "stream",
     "text": [
      "100%|███████████████████████████████████████████████████████████████| 40/40 [01:55<00:00,  2.22s/it]\n",
      "  0%|                                                                        | 0/40 [00:00<?, ?it/s]"
     ]
    },
    {
     "name": "stdout",
     "output_type": "stream",
     "text": [
      "training loss after 29/100 epochs is 0.8700810343027114 at lr=0.0023206407979727865\n"
     ]
    },
    {
     "name": "stderr",
     "output_type": "stream",
     "text": [
      "100%|███████████████████████████████████████████████████████████████| 40/40 [01:58<00:00,  2.23s/it]\n",
      "  0%|                                                                        | 0/40 [00:00<?, ?it/s]"
     ]
    },
    {
     "name": "stdout",
     "output_type": "stream",
     "text": [
      "training loss after 30/100 epochs is 0.831051480770111 at lr=0.0023203167082207206\n"
     ]
    },
    {
     "name": "stderr",
     "output_type": "stream",
     "text": [
      "100%|███████████████████████████████████████████████████████████████| 40/40 [01:57<00:00,  2.22s/it]\n",
      "  0%|                                                                        | 0/40 [00:00<?, ?it/s]"
     ]
    },
    {
     "name": "stdout",
     "output_type": "stream",
     "text": [
      "training loss after 31/100 epochs is 0.8704692527651787 at lr=0.0023199613508739863\n"
     ]
    },
    {
     "name": "stderr",
     "output_type": "stream",
     "text": [
      "100%|███████████████████████████████████████████████████████████████| 40/40 [01:57<00:00,  2.19s/it]\n",
      "  0%|                                                                        | 0/40 [00:00<?, ?it/s]"
     ]
    },
    {
     "name": "stdout",
     "output_type": "stream",
     "text": [
      "training loss after 32/100 epochs is 0.8485305488109589 at lr=0.0023195717092914536\n"
     ]
    },
    {
     "name": "stderr",
     "output_type": "stream",
     "text": [
      "100%|███████████████████████████████████████████████████████████████| 40/40 [01:57<00:00,  2.23s/it]\n",
      "  0%|                                                                        | 0/40 [00:00<?, ?it/s]"
     ]
    },
    {
     "name": "stdout",
     "output_type": "stream",
     "text": [
      "training loss after 33/100 epochs is 0.8284206092357635 at lr=0.0023191444757918954\n"
     ]
    },
    {
     "name": "stderr",
     "output_type": "stream",
     "text": [
      "100%|███████████████████████████████████████████████████████████████| 40/40 [01:57<00:00,  2.33s/it]\n",
      "  0%|                                                                        | 0/40 [00:00<?, ?it/s]"
     ]
    },
    {
     "name": "stdout",
     "output_type": "stream",
     "text": [
      "training loss after 34/100 epochs is 0.8008219346404075 at lr=0.002318676023574968\n"
     ]
    },
    {
     "name": "stderr",
     "output_type": "stream",
     "text": [
      "100%|███████████████████████████████████████████████████████████████| 40/40 [01:56<00:00,  2.21s/it]\n",
      "  0%|                                                                        | 0/40 [00:00<?, ?it/s]"
     ]
    },
    {
     "name": "stdout",
     "output_type": "stream",
     "text": [
      "training loss after 35/100 epochs is 0.8283564984798432 at lr=0.0023181623759331717\n"
     ]
    },
    {
     "name": "stderr",
     "output_type": "stream",
     "text": [
      "100%|███████████████████████████████████████████████████████████████| 40/40 [01:56<00:00,  2.24s/it]\n",
      "  0%|                                                                        | 0/40 [00:00<?, ?it/s]"
     ]
    },
    {
     "name": "stdout",
     "output_type": "stream",
     "text": [
      "training loss after 36/100 epochs is 0.838528522849083 at lr=0.0023175991724934423\n"
     ]
    },
    {
     "name": "stderr",
     "output_type": "stream",
     "text": [
      "100%|███████████████████████████████████████████████████████████████| 40/40 [01:58<00:00,  2.18s/it]\n",
      "  0%|                                                                        | 0/40 [00:00<?, ?it/s]"
     ]
    },
    {
     "name": "stdout",
     "output_type": "stream",
     "text": [
      "training loss after 37/100 epochs is 0.8207573041319847 at lr=0.002316981632201786\n"
     ]
    },
    {
     "name": "stderr",
     "output_type": "stream",
     "text": [
      "100%|███████████████████████████████████████████████████████████████| 40/40 [01:57<00:00,  2.20s/it]\n",
      "  0%|                                                                        | 0/40 [00:00<?, ?it/s]"
     ]
    },
    {
     "name": "stdout",
     "output_type": "stream",
     "text": [
      "training loss after 38/100 epochs is 0.818085353076458 at lr=0.002316304512736745\n"
     ]
    },
    {
     "name": "stderr",
     "output_type": "stream",
     "text": [
      "100%|███████████████████████████████████████████████████████████████| 40/40 [01:56<00:00,  2.26s/it]\n",
      "  0%|                                                                        | 0/40 [00:00<?, ?it/s]"
     ]
    },
    {
     "name": "stdout",
     "output_type": "stream",
     "text": [
      "training loss after 39/100 epochs is 0.8152096480131149 at lr=0.002315562066007143\n"
     ]
    },
    {
     "name": "stderr",
     "output_type": "stream",
     "text": [
      "100%|███████████████████████████████████████████████████████████████| 40/40 [01:58<00:00,  2.13s/it]\n",
      "  0%|                                                                        | 0/40 [00:00<?, ?it/s]"
     ]
    },
    {
     "name": "stdout",
     "output_type": "stream",
     "text": [
      "training loss after 40/100 epochs is 0.8220030575990677 at lr=0.0023147479893563367\n"
     ]
    },
    {
     "name": "stderr",
     "output_type": "stream",
     "text": [
      "100%|███████████████████████████████████████████████████████████████| 40/40 [01:59<00:00,  2.20s/it]\n",
      "  0%|                                                                        | 0/40 [00:00<?, ?it/s]"
     ]
    },
    {
     "name": "stdout",
     "output_type": "stream",
     "text": [
      "training loss after 41/100 epochs is 0.8026786431670189 at lr=0.0023138553720587385\n"
     ]
    },
    {
     "name": "stderr",
     "output_type": "stream",
     "text": [
      "100%|███████████████████████████████████████████████████████████████| 40/40 [01:57<00:00,  2.19s/it]\n",
      "  0%|                                                                        | 0/40 [00:00<?, ?it/s]"
     ]
    },
    {
     "name": "stdout",
     "output_type": "stream",
     "text": [
      "training loss after 42/100 epochs is 0.7786847680807114 at lr=0.002312876636654422\n"
     ]
    },
    {
     "name": "stderr",
     "output_type": "stream",
     "text": [
      "100%|███████████████████████████████████████████████████████████████| 40/40 [01:58<00:00,  2.22s/it]\n",
      "  0%|                                                                        | 0/40 [00:00<?, ?it/s]"
     ]
    },
    {
     "name": "stdout",
     "output_type": "stream",
     "text": [
      "training loss after 43/100 epochs is 0.7967049792408943 at lr=0.0023118034746237954\n"
     ]
    },
    {
     "name": "stderr",
     "output_type": "stream",
     "text": [
      "100%|███████████████████████████████████████████████████████████████| 40/40 [01:57<00:00,  2.18s/it]\n",
      "  0%|                                                                        | 0/40 [00:00<?, ?it/s]"
     ]
    },
    {
     "name": "stdout",
     "output_type": "stream",
     "text": [
      "training loss after 44/100 epochs is 0.7735283613204956 at lr=0.0023106267758562847\n"
     ]
    },
    {
     "name": "stderr",
     "output_type": "stream",
     "text": [
      "100%|███████████████████████████████████████████████████████████████| 40/40 [01:57<00:00,  2.17s/it]\n",
      "  0%|                                                                        | 0/40 [00:00<?, ?it/s]"
     ]
    },
    {
     "name": "stdout",
     "output_type": "stream",
     "text": [
      "training loss after 45/100 epochs is 0.785139936208725 at lr=0.00230933655131428\n"
     ]
    },
    {
     "name": "stderr",
     "output_type": "stream",
     "text": [
      "100%|███████████████████████████████████████████████████████████████| 40/40 [01:58<00:00,  2.19s/it]\n",
      "  0%|                                                                        | 0/40 [00:00<?, ?it/s]"
     ]
    },
    {
     "name": "stdout",
     "output_type": "stream",
     "text": [
      "training loss after 46/100 epochs is 0.7614416092634201 at lr=0.002307921848235844\n"
     ]
    },
    {
     "name": "stderr",
     "output_type": "stream",
     "text": [
      "100%|███████████████████████████████████████████████████████████████| 40/40 [01:58<00:00,  2.22s/it]\n",
      "  0%|                                                                        | 0/40 [00:00<?, ?it/s]"
     ]
    },
    {
     "name": "stdout",
     "output_type": "stream",
     "text": [
      "training loss after 47/100 epochs is 0.8052686765789986 at lr=0.002306370657156322\n"
     ]
    },
    {
     "name": "stderr",
     "output_type": "stream",
     "text": [
      "100%|███████████████████████████████████████████████████████████████| 40/40 [01:58<00:00,  2.21s/it]\n",
      "  0%|                                                                        | 0/40 [00:00<?, ?it/s]"
     ]
    },
    {
     "name": "stdout",
     "output_type": "stream",
     "text": [
      "training loss after 48/100 epochs is 0.827925169467926 at lr=0.0023046698099595743\n"
     ]
    },
    {
     "name": "stderr",
     "output_type": "stream",
     "text": [
      "100%|███████████████████████████████████████████████████████████████| 40/40 [01:57<00:00,  2.15s/it]\n",
      "  0%|                                                                        | 0/40 [00:00<?, ?it/s]"
     ]
    },
    {
     "name": "stdout",
     "output_type": "stream",
     "text": [
      "training loss after 49/100 epochs is 0.7595351815223694 at lr=0.0023028048680933688\n"
     ]
    },
    {
     "name": "stderr",
     "output_type": "stream",
     "text": [
      "100%|███████████████████████████████████████████████████████████████| 40/40 [01:58<00:00,  2.17s/it]\n",
      "  0%|                                                                        | 0/40 [00:00<?, ?it/s]"
     ]
    },
    {
     "name": "stdout",
     "output_type": "stream",
     "text": [
      "training loss after 50/100 epochs is 0.7787488117814064 at lr=0.0023007600000000002\n"
     ]
    },
    {
     "name": "stderr",
     "output_type": "stream",
     "text": [
      "100%|███████████████████████████████████████████████████████████████| 40/40 [01:57<00:00,  2.11s/it]\n",
      "  0%|                                                                        | 0/40 [00:00<?, ?it/s]"
     ]
    },
    {
     "name": "stdout",
     "output_type": "stream",
     "text": [
      "training loss after 51/100 epochs is 0.7856774598360061 at lr=0.0022985178467216324\n"
     ]
    },
    {
     "name": "stderr",
     "output_type": "stream",
     "text": [
      "100%|███████████████████████████████████████████████████████████████| 40/40 [01:57<00:00,  2.22s/it]\n",
      "  0%|                                                                        | 0/40 [00:00<?, ?it/s]"
     ]
    },
    {
     "name": "stdout",
     "output_type": "stream",
     "text": [
      "training loss after 52/100 epochs is 0.7816339626908302 at lr=0.0022960593745394915\n"
     ]
    },
    {
     "name": "stderr",
     "output_type": "stream",
     "text": [
      "100%|███████████████████████████████████████████████████████████████| 40/40 [02:00<00:00,  2.17s/it]\n",
      "  0%|                                                                        | 0/40 [00:00<?, ?it/s]"
     ]
    },
    {
     "name": "stdout",
     "output_type": "stream",
     "text": [
      "training loss after 53/100 epochs is 0.776631873846054 at lr=0.002293363713395949\n"
     ]
    },
    {
     "name": "stderr",
     "output_type": "stream",
     "text": [
      "100%|███████████████████████████████████████████████████████████████| 40/40 [01:58<00:00,  2.27s/it]\n",
      "  0%|                                                                        | 0/40 [00:00<?, ?it/s]"
     ]
    },
    {
     "name": "stdout",
     "output_type": "stream",
     "text": [
      "training loss after 54/100 epochs is 0.7612093195319176 at lr=0.0022904079797278648\n"
     ]
    },
    {
     "name": "stderr",
     "output_type": "stream",
     "text": [
      "100%|███████████████████████████████████████████████████████████████| 40/40 [01:58<00:00,  2.25s/it]\n",
      "  0%|                                                                        | 0/40 [00:00<?, ?it/s]"
     ]
    },
    {
     "name": "stdout",
     "output_type": "stream",
     "text": [
      "training loss after 55/100 epochs is 0.7457401409745217 at lr=0.002287167082207204\n"
     ]
    },
    {
     "name": "stderr",
     "output_type": "stream",
     "text": [
      "100%|███████████████████████████████████████████████████████████████| 40/40 [01:58<00:00,  2.21s/it]\n",
      "  0%|                                                                        | 0/40 [00:00<?, ?it/s]"
     ]
    },
    {
     "name": "stdout",
     "output_type": "stream",
     "text": [
      "training loss after 56/100 epochs is 0.7543286219239235 at lr=0.0022836135087398643\n"
     ]
    },
    {
     "name": "stderr",
     "output_type": "stream",
     "text": [
      "100%|███████████████████████████████████████████████████████████████| 40/40 [01:57<00:00,  2.24s/it]\n",
      "  0%|                                                                        | 0/40 [00:00<?, ?it/s]"
     ]
    },
    {
     "name": "stdout",
     "output_type": "stream",
     "text": [
      "training loss after 57/100 epochs is 0.700761903077364 at lr=0.0022797170929145343\n"
     ]
    },
    {
     "name": "stderr",
     "output_type": "stream",
     "text": [
      "100%|███████████████████████████████████████████████████████████████| 40/40 [01:57<00:00,  2.16s/it]\n",
      "  0%|                                                                        | 0/40 [00:00<?, ?it/s]"
     ]
    },
    {
     "name": "stdout",
     "output_type": "stream",
     "text": [
      "training loss after 58/100 epochs is 0.7609354466199875 at lr=0.002275444757918952\n"
     ]
    },
    {
     "name": "stderr",
     "output_type": "stream",
     "text": [
      "100%|███████████████████████████████████████████████████████████████| 40/40 [01:59<00:00,  2.24s/it]\n",
      "  0%|                                                                        | 0/40 [00:00<?, ?it/s]"
     ]
    },
    {
     "name": "stdout",
     "output_type": "stream",
     "text": [
      "training loss after 59/100 epochs is 0.7969917342066765 at lr=0.0022707602357496773\n"
     ]
    },
    {
     "name": "stderr",
     "output_type": "stream",
     "text": [
      "100%|███████████████████████████████████████████████████████████████| 40/40 [01:58<00:00,  2.23s/it]\n",
      "  0%|                                                                        | 0/40 [00:00<?, ?it/s]"
     ]
    },
    {
     "name": "stdout",
     "output_type": "stream",
     "text": [
      "training loss after 60/100 epochs is 0.7365586385130882 at lr=0.0022656237593317173\n"
     ]
    },
    {
     "name": "stderr",
     "output_type": "stream",
     "text": [
      "100%|███████████████████████████████████████████████████████████████| 40/40 [01:57<00:00,  2.32s/it]\n",
      "  0%|                                                                        | 0/40 [00:00<?, ?it/s]"
     ]
    },
    {
     "name": "stdout",
     "output_type": "stream",
     "text": [
      "training loss after 61/100 epochs is 0.7514663346111774 at lr=0.002259991724934421\n"
     ]
    },
    {
     "name": "stderr",
     "output_type": "stream",
     "text": [
      "100%|███████████████████████████████████████████████████████████████| 40/40 [01:56<00:00,  2.15s/it]\n",
      "  0%|                                                                        | 0/40 [00:00<?, ?it/s]"
     ]
    },
    {
     "name": "stdout",
     "output_type": "stream",
     "text": [
      "training loss after 62/100 epochs is 0.7419497601687908 at lr=0.0022538163220178573\n"
     ]
    },
    {
     "name": "stderr",
     "output_type": "stream",
     "text": [
      "100%|███████████████████████████████████████████████████████████████| 40/40 [01:57<00:00,  2.17s/it]\n",
      "  0%|                                                                        | 0/40 [00:00<?, ?it/s]"
     ]
    },
    {
     "name": "stdout",
     "output_type": "stream",
     "text": [
      "training loss after 63/100 epochs is 0.6667058549821376 at lr=0.002247045127367446\n"
     ]
    },
    {
     "name": "stderr",
     "output_type": "stream",
     "text": [
      "100%|███████████████████████████████████████████████████████████████| 40/40 [01:58<00:00,  2.19s/it]\n",
      "  0%|                                                                        | 0/40 [00:00<?, ?it/s]"
     ]
    },
    {
     "name": "stdout",
     "output_type": "stream",
     "text": [
      "training loss after 64/100 epochs is 0.7324428133666515 at lr=0.0022396206600714284\n"
     ]
    },
    {
     "name": "stderr",
     "output_type": "stream",
     "text": [
      "100%|███████████████████████████████████████████████████████████████| 40/40 [01:58<00:00,  2.38s/it]\n",
      "  0%|                                                                        | 0/40 [00:00<?, ?it/s]"
     ]
    },
    {
     "name": "stdout",
     "output_type": "stream",
     "text": [
      "training loss after 65/100 epochs is 0.7129352629184723 at lr=0.002231479893563367\n"
     ]
    },
    {
     "name": "stderr",
     "output_type": "stream",
     "text": [
      "100%|███████████████████████████████████████████████████████████████| 40/40 [01:58<00:00,  2.15s/it]\n",
      "  0%|                                                                        | 0/40 [00:00<?, ?it/s]"
     ]
    },
    {
     "name": "stdout",
     "output_type": "stream",
     "text": [
      "training loss after 66/100 epochs is 0.6974048554897309 at lr=0.0022225537205873853\n"
     ]
    },
    {
     "name": "stderr",
     "output_type": "stream",
     "text": [
      "100%|███████████████████████████████████████████████████████████████| 40/40 [01:58<00:00,  2.32s/it]\n",
      "  0%|                                                                        | 0/40 [00:00<?, ?it/s]"
     ]
    },
    {
     "name": "stdout",
     "output_type": "stream",
     "text": [
      "training loss after 67/100 epochs is 0.709071722626686 at lr=0.002212766366544219\n"
     ]
    },
    {
     "name": "stderr",
     "output_type": "stream",
     "text": [
      "100%|███████████████████████████████████████████████████████████████| 40/40 [01:56<00:00,  2.13s/it]\n",
      "  0%|                                                                        | 0/40 [00:00<?, ?it/s]"
     ]
    },
    {
     "name": "stdout",
     "output_type": "stream",
     "text": [
      "training loss after 68/100 epochs is 0.6478483349084854 at lr=0.002202034746237953\n"
     ]
    },
    {
     "name": "stderr",
     "output_type": "stream",
     "text": [
      "100%|███████████████████████████████████████████████████████████████| 40/40 [01:57<00:00,  2.32s/it]\n",
      "  0%|                                                                        | 0/40 [00:00<?, ?it/s]"
     ]
    },
    {
     "name": "stdout",
     "output_type": "stream",
     "text": [
      "training loss after 69/100 epochs is 0.6561230920255184 at lr=0.002190267758562845\n"
     ]
    },
    {
     "name": "stderr",
     "output_type": "stream",
     "text": [
      "100%|███████████████████████████████████████████████████████████████| 40/40 [01:56<00:00,  2.19s/it]\n",
      "  0%|                                                                        | 0/40 [00:00<?, ?it/s]"
     ]
    },
    {
     "name": "stdout",
     "output_type": "stream",
     "text": [
      "training loss after 70/100 epochs is 0.6680896051228047 at lr=0.002177365513142803\n"
     ]
    },
    {
     "name": "stderr",
     "output_type": "stream",
     "text": [
      "100%|███████████████████████████████████████████████████████████████| 40/40 [01:56<00:00,  2.21s/it]\n",
      "  0%|                                                                        | 0/40 [00:00<?, ?it/s]"
     ]
    },
    {
     "name": "stdout",
     "output_type": "stream",
     "text": [
      "training loss after 71/100 epochs is 0.6507096879184247 at lr=0.0021632184823584394\n"
     ]
    },
    {
     "name": "stderr",
     "output_type": "stream",
     "text": [
      "100%|███████████████████████████████████████████████████████████████| 40/40 [01:59<00:00,  2.16s/it]\n",
      "  0%|                                                                        | 0/40 [00:00<?, ?it/s]"
     ]
    },
    {
     "name": "stdout",
     "output_type": "stream",
     "text": [
      "training loss after 72/100 epochs is 0.7108899474143981 at lr=0.002147706571563218\n"
     ]
    },
    {
     "name": "stderr",
     "output_type": "stream",
     "text": [
      "100%|███████████████████████████████████████████████████████████████| 40/40 [01:57<00:00,  2.20s/it]\n",
      "  0%|                                                                        | 0/40 [00:00<?, ?it/s]"
     ]
    },
    {
     "name": "stdout",
     "output_type": "stream",
     "text": [
      "training loss after 73/100 epochs is 0.7211072944104672 at lr=0.0021306980995957395\n"
     ]
    },
    {
     "name": "stderr",
     "output_type": "stream",
     "text": [
      "100%|███████████████████████████████████████████████████████████████| 40/40 [01:58<00:00,  2.29s/it]\n",
      "  0%|                                                                        | 0/40 [00:00<?, ?it/s]"
     ]
    },
    {
     "name": "stdout",
     "output_type": "stream",
     "text": [
      "training loss after 74/100 epochs is 0.7290683075785637 at lr=0.0021120486809336867\n"
     ]
    },
    {
     "name": "stderr",
     "output_type": "stream",
     "text": [
      "100%|███████████████████████████████████████████████████████████████| 40/40 [01:57<00:00,  2.32s/it]\n",
      "  0%|                                                                        | 0/40 [00:00<?, ?it/s]"
     ]
    },
    {
     "name": "stdout",
     "output_type": "stream",
     "text": [
      "training loss after 75/100 epochs is 0.6802108317613602 at lr=0.0020916000000000003\n"
     ]
    },
    {
     "name": "stderr",
     "output_type": "stream",
     "text": [
      "100%|███████████████████████████████████████████████████████████████| 40/40 [01:55<00:00,  2.13s/it]\n",
      "  0%|                                                                        | 0/40 [00:00<?, ?it/s]"
     ]
    },
    {
     "name": "stdout",
     "output_type": "stream",
     "text": [
      "training loss after 76/100 epochs is 0.7360035836696625 at lr=0.002069178467216324\n"
     ]
    },
    {
     "name": "stderr",
     "output_type": "stream",
     "text": [
      "100%|███████████████████████████████████████████████████████████████| 40/40 [01:58<00:00,  2.35s/it]\n",
      "  0%|                                                                        | 0/40 [00:00<?, ?it/s]"
     ]
    },
    {
     "name": "stdout",
     "output_type": "stream",
     "text": [
      "training loss after 77/100 epochs is 0.6558330081403255 at lr=0.0020445937453949133\n"
     ]
    },
    {
     "name": "stderr",
     "output_type": "stream",
     "text": [
      "100%|███████████████████████████████████████████████████████████████| 40/40 [01:56<00:00,  2.22s/it]\n",
      "  0%|                                                                        | 0/40 [00:00<?, ?it/s]"
     ]
    },
    {
     "name": "stdout",
     "output_type": "stream",
     "text": [
      "training loss after 78/100 epochs is 0.7273205772042275 at lr=0.002017637133959491\n"
     ]
    },
    {
     "name": "stderr",
     "output_type": "stream",
     "text": [
      "100%|███████████████████████████████████████████████████████████████| 40/40 [01:57<00:00,  2.19s/it]\n",
      "  0%|                                                                        | 0/40 [00:00<?, ?it/s]"
     ]
    },
    {
     "name": "stdout",
     "output_type": "stream",
     "text": [
      "training loss after 79/100 epochs is 0.7207266226410866 at lr=0.0019880797972786465\n"
     ]
    },
    {
     "name": "stderr",
     "output_type": "stream",
     "text": [
      "100%|███████████████████████████████████████████████████████████████| 40/40 [01:58<00:00,  2.17s/it]\n",
      "  0%|                                                                        | 0/40 [00:00<?, ?it/s]"
     ]
    },
    {
     "name": "stdout",
     "output_type": "stream",
     "text": [
      "training loss after 80/100 epochs is 0.6785214625298976 at lr=0.0019556708220720372\n"
     ]
    },
    {
     "name": "stderr",
     "output_type": "stream",
     "text": [
      "100%|███████████████████████████████████████████████████████████████| 40/40 [01:56<00:00,  2.24s/it]\n",
      "  0%|                                                                        | 0/40 [00:00<?, ?it/s]"
     ]
    },
    {
     "name": "stdout",
     "output_type": "stream",
     "text": [
      "training loss after 81/100 epochs is 0.6701431266963482 at lr=0.001920135087398645\n"
     ]
    },
    {
     "name": "stderr",
     "output_type": "stream",
     "text": [
      "100%|███████████████████████████████████████████████████████████████| 40/40 [01:56<00:00,  2.21s/it]\n",
      "  0%|                                                                        | 0/40 [00:00<?, ?it/s]"
     ]
    },
    {
     "name": "stdout",
     "output_type": "stream",
     "text": [
      "training loss after 82/100 epochs is 0.6524780660867691 at lr=0.0018811709291453415\n"
     ]
    },
    {
     "name": "stderr",
     "output_type": "stream",
     "text": [
      "100%|███████████████████████████████████████████████████████████████| 40/40 [01:58<00:00,  2.15s/it]\n",
      "  0%|                                                                        | 0/40 [00:00<?, ?it/s]"
     ]
    },
    {
     "name": "stdout",
     "output_type": "stream",
     "text": [
      "training loss after 83/100 epochs is 0.6980745978653431 at lr=0.0018384475791895214\n"
     ]
    },
    {
     "name": "stderr",
     "output_type": "stream",
     "text": [
      "100%|███████████████████████████████████████████████████████████████| 40/40 [01:57<00:00,  2.25s/it]\n",
      "  0%|                                                                        | 0/40 [00:00<?, ?it/s]"
     ]
    },
    {
     "name": "stdout",
     "output_type": "stream",
     "text": [
      "training loss after 84/100 epochs is 0.5886504456400872 at lr=0.0017916023574967698\n"
     ]
    },
    {
     "name": "stderr",
     "output_type": "stream",
     "text": [
      "100%|███████████████████████████████████████████████████████████████| 40/40 [01:58<00:00,  2.20s/it]\n",
      "  0%|                                                                        | 0/40 [00:00<?, ?it/s]"
     ]
    },
    {
     "name": "stdout",
     "output_type": "stream",
     "text": [
      "training loss after 85/100 epochs is 0.673207825422287 at lr=0.0017402375933171738\n"
     ]
    },
    {
     "name": "stderr",
     "output_type": "stream",
     "text": [
      "100%|███████████████████████████████████████████████████████████████| 40/40 [01:56<00:00,  2.19s/it]\n",
      "  0%|                                                                        | 0/40 [00:00<?, ?it/s]"
     ]
    },
    {
     "name": "stdout",
     "output_type": "stream",
     "text": [
      "training loss after 86/100 epochs is 0.6460877195000648 at lr=0.0016839172493442103\n"
     ]
    },
    {
     "name": "stderr",
     "output_type": "stream",
     "text": [
      "100%|███████████████████████████████████████████████████████████████| 40/40 [01:57<00:00,  2.15s/it]\n",
      "  0%|                                                                        | 0/40 [00:00<?, ?it/s]"
     ]
    },
    {
     "name": "stdout",
     "output_type": "stream",
     "text": [
      "training loss after 87/100 epochs is 0.6435139194130898 at lr=0.0016221632201785714\n"
     ]
    },
    {
     "name": "stderr",
     "output_type": "stream",
     "text": [
      "100%|███████████████████████████████████████████████████████████████| 40/40 [01:59<00:00,  2.31s/it]\n",
      "  0%|                                                                        | 0/40 [00:00<?, ?it/s]"
     ]
    },
    {
     "name": "stdout",
     "output_type": "stream",
     "text": [
      "training loss after 88/100 epochs is 0.6862263061106205 at lr=0.0015544512736744582\n"
     ]
    },
    {
     "name": "stderr",
     "output_type": "stream",
     "text": [
      "100%|███████████████████████████████████████████████████████████████| 40/40 [01:56<00:00,  2.17s/it]\n",
      "  0%|                                                                        | 0/40 [00:00<?, ?it/s]"
     ]
    },
    {
     "name": "stdout",
     "output_type": "stream",
     "text": [
      "training loss after 89/100 epochs is 0.6265316210687161 at lr=0.0014802066007142845\n"
     ]
    },
    {
     "name": "stderr",
     "output_type": "stream",
     "text": [
      "100%|███████████████████████████████████████████████████████████████| 40/40 [01:56<00:00,  2.14s/it]\n",
      "  0%|                                                                        | 0/40 [00:00<?, ?it/s]"
     ]
    },
    {
     "name": "stdout",
     "output_type": "stream",
     "text": [
      "training loss after 90/100 epochs is 0.6291983611881733 at lr=0.0013987989356336722\n"
     ]
    },
    {
     "name": "stderr",
     "output_type": "stream",
     "text": [
      "100%|███████████████████████████████████████████████████████████████| 40/40 [01:57<00:00,  2.16s/it]\n",
      "  0%|                                                                        | 0/40 [00:00<?, ?it/s]"
     ]
    },
    {
     "name": "stdout",
     "output_type": "stream",
     "text": [
      "training loss after 91/100 epochs is 0.6677568405866623 at lr=0.0013095372058738541\n"
     ]
    },
    {
     "name": "stderr",
     "output_type": "stream",
     "text": [
      "100%|███████████████████████████████████████████████████████████████| 40/40 [01:58<00:00,  2.22s/it]\n",
      "  0%|                                                                        | 0/40 [00:00<?, ?it/s]"
     ]
    },
    {
     "name": "stdout",
     "output_type": "stream",
     "text": [
      "training loss after 92/100 epochs is 0.6130737699568272 at lr=0.001211663665442188\n"
     ]
    },
    {
     "name": "stderr",
     "output_type": "stream",
     "text": [
      "100%|███████████████████████████████████████████████████████████████| 40/40 [01:58<00:00,  2.22s/it]\n",
      "  0%|                                                                        | 0/40 [00:00<?, ?it/s]"
     ]
    },
    {
     "name": "stdout",
     "output_type": "stream",
     "text": [
      "training loss after 93/100 epochs is 0.593035127967596 at lr=0.001104347462379528\n"
     ]
    },
    {
     "name": "stderr",
     "output_type": "stream",
     "text": [
      "100%|███████████████████████████████████████████████████████████████| 40/40 [01:58<00:00,  2.18s/it]\n",
      "  0%|                                                                        | 0/40 [00:00<?, ?it/s]"
     ]
    },
    {
     "name": "stdout",
     "output_type": "stream",
     "text": [
      "training loss after 94/100 epochs is 0.6333826340734958 at lr=0.0009866775856284481\n"
     ]
    },
    {
     "name": "stderr",
     "output_type": "stream",
     "text": [
      "100%|███████████████████████████████████████████████████████████████| 40/40 [01:56<00:00,  2.22s/it]\n",
      "  0%|                                                                        | 0/40 [00:00<?, ?it/s]"
     ]
    },
    {
     "name": "stdout",
     "output_type": "stream",
     "text": [
      "training loss after 95/100 epochs is 0.6186990462243557 at lr=0.0008576551314280315\n"
     ]
    },
    {
     "name": "stderr",
     "output_type": "stream",
     "text": [
      "100%|███████████████████████████████████████████████████████████████| 40/40 [01:56<00:00,  2.16s/it]\n",
      "  0%|                                                                        | 0/40 [00:00<?, ?it/s]"
     ]
    },
    {
     "name": "stdout",
     "output_type": "stream",
     "text": [
      "training loss after 96/100 epochs is 0.5915253102779389 at lr=0.000716184823584392\n"
     ]
    },
    {
     "name": "stderr",
     "output_type": "stream",
     "text": [
      "100%|███████████████████████████████████████████████████████████████| 40/40 [01:57<00:00,  2.25s/it]\n",
      "  0%|                                                                        | 0/40 [00:00<?, ?it/s]"
     ]
    },
    {
     "name": "stdout",
     "output_type": "stream",
     "text": [
      "training loss after 97/100 epochs is 0.6037210896611214 at lr=0.0005610657156321775\n"
     ]
    },
    {
     "name": "stderr",
     "output_type": "stream",
     "text": [
      "100%|███████████████████████████████████████████████████████████████| 40/40 [01:57<00:00,  2.14s/it]\n",
      "  0%|                                                                        | 0/40 [00:00<?, ?it/s]"
     ]
    },
    {
     "name": "stdout",
     "output_type": "stream",
     "text": [
      "training loss after 98/100 epochs is 0.6170784197747707 at lr=0.000390980995957393\n"
     ]
    },
    {
     "name": "stderr",
     "output_type": "stream",
     "text": [
      "100%|███████████████████████████████████████████████████████████████| 40/40 [01:58<00:00,  2.27s/it]\n",
      "  0%|                                                                        | 0/40 [00:00<?, ?it/s]"
     ]
    },
    {
     "name": "stdout",
     "output_type": "stream",
     "text": [
      "training loss after 99/100 epochs is 0.6176993869245052 at lr=0.00020448680933686598\n"
     ]
    },
    {
     "name": "stderr",
     "output_type": "stream",
     "text": [
      "100%|███████████████████████████████████████████████████████████████| 40/40 [01:57<00:00,  2.25s/it]"
     ]
    },
    {
     "name": "stdout",
     "output_type": "stream",
     "text": [
      "training loss after 100/100 epochs is 0.5830536857247353 at lr=0.0\n"
     ]
    },
    {
     "name": "stderr",
     "output_type": "stream",
     "text": [
      "\n"
     ]
    }
   ],
   "source": [
    "#training \n",
    "\n",
    "from torchsummary import summary\n",
    "net = yolov2()\n",
    "device = 'cuda'\n",
    "net = net.to(device)\n",
    "# print(summary(net, (3, 416, 416)))\n",
    "\n",
    "net = torch.nn.DataParallel(net)\n",
    "loss = yolov2loss(lambda_coord=hyp['xy'], lambda_dims=hyp['wh'], \n",
    "                  lambda_noobj=0.5, device=device, lambda_obj=hyp['obj'])\n",
    "\n",
    "epoch = 0\n",
    "# optimizer = torch.optim.Adam(net.parameters(), lr=0.001)\n",
    "optimizer = torch.optim.SGD(net.parameters(), lr=hyp['lr0'], momentum=hyp['momentum'])\n",
    "lambda_lr = torch.optim.lr_scheduler.LambdaLR(optimizer, lr_lambda=lf) \n",
    "\n",
    "# net, optimizer, epoch = resume_train(net, 'chkpt_files/yolov2_model_sgd_100.pth', optimizer)\n",
    "\n",
    "\n",
    "traindata = CocoDataset(configs['train_batch'], configs['val_batch'])\n",
    "train_loss, val_loss= [], []\n",
    "for i in range(epoch, epoch + configs['n_epochs'], 1):\n",
    "    trainiter = iter(traindata)\n",
    "    net.train()\n",
    "    for _ in tqdm(range(len(trainiter)), ncols=100):\n",
    "        x, y = trainiter.next()\n",
    "        x = x.to(device)\n",
    "        y_hat = net(x)\n",
    "#         loss_value = loss(y_hat, y)\n",
    "        loss_ = loss(y_hat, y)\n",
    "#         for p in net.parameters():\n",
    "#             loss_ += 0.01 * torch.sum(p**2)\n",
    "        train_loss.append(loss_.item())\n",
    "        optimizer.zero_grad()\n",
    "        loss_.backward()\n",
    "        optimizer.step()\n",
    "    lambda_lr.step()\n",
    "\n",
    "    print('training loss after {}/{} epochs is {} at lr={}'.format(\n",
    "        i + 1, epoch + configs['n_epochs'], np.mean(train_loss[-len(trainiter):]), \n",
    "        optimizer.state_dict()['param_groups'][0]['lr']))\n",
    "\n",
    "#     if i % configs['val_frequency'] == 0:\n",
    "#         valiter = iter(valdata)\n",
    "#         net.eval()\n",
    "#         with torch.no_grad():\n",
    "#             for _ in tqdm(range(len(valiter)), ncols=100):\n",
    "#                 x, y = valiter.next()\n",
    "#                 x, y = x.to(device), y.to(device)\n",
    "#                 y_hat = net(x)\n",
    "#                 loss_ = loss(y_hat, y)\n",
    "#                 for p in net.parameters():\n",
    "#                     loss_ += 0.01 * torch.sum(p**2)\n",
    "#                 val_loss.append(loss_.item())\n",
    "\n",
    "#             print('validation loss after {}/{} epochs is {}'.format(\n",
    "#                 i + 1, epoch + configs['n_epochs'], np.mean(val_loss[-len(valiter):])))\n"
   ]
  },
  {
   "cell_type": "code",
   "execution_count": 12,
   "metadata": {},
   "outputs": [
    {
     "data": {
      "text/plain": [
       "100"
      ]
     },
     "execution_count": 12,
     "metadata": {},
     "output_type": "execute_result"
    }
   ],
   "source": [
    "lambda_lr.last_epoch"
   ]
  },
  {
   "cell_type": "code",
   "execution_count": 13,
   "metadata": {},
   "outputs": [],
   "source": [
    "def save_model(net, optimizer, i, path):\n",
    "    #saving model to checkpoint \n",
    "    torch.save({\n",
    "            'epoch': i + 1,\n",
    "            'model_state_dict': net.state_dict(),\n",
    "            'optimizer_state_dict': optimizer.state_dict()\n",
    "            }, path)\n",
    "save_model(net, optimizer, i, 'chkpt_files/yolov2_model_sgd_100.pth')"
   ]
  },
  {
   "cell_type": "code",
   "execution_count": 14,
   "metadata": {},
   "outputs": [
    {
     "name": "stdout",
     "output_type": "stream",
     "text": [
      "loading annotations into memory...\n",
      "Done (t=0.81s)\n",
      "creating index...\n",
      "index created!\n"
     ]
    }
   ],
   "source": [
    "#overfit 5 examples \n",
    "traindata  = CocoDataset(32, 32)\n",
    "trainiter = iter(traindata)\n",
    "x , y = trainiter.next()"
   ]
  },
  {
   "cell_type": "code",
   "execution_count": 15,
   "metadata": {},
   "outputs": [
    {
     "data": {
      "text/plain": [
       "[<matplotlib.lines.Line2D at 0x7f4b0806b358>]"
      ]
     },
     "execution_count": 15,
     "metadata": {},
     "output_type": "execute_result"
    },
    {
     "data": {
      "image/png": "[encoded data removed]",
      "text/plain": [
       "<Figure size 432x288 with 1 Axes>"
      ]
     },
     "metadata": {
      "needs_background": "light"
     },
     "output_type": "display_data"
    }
   ],
   "source": [
    "nepochs = 250\n",
    "lrlambda = lambda x:np.exp(x*0.05)\n",
    "lrs_observed = [lrlambda(e) for e in range(nepochs)]\n",
    "plt.plot(lrs_observed)"
   ]
  },
  {
   "cell_type": "code",
   "execution_count": 15,
   "metadata": {},
   "outputs": [
    {
     "ename": "KeyboardInterrupt",
     "evalue": "",
     "output_type": "error",
     "traceback": [
      "\u001b[0;31m---------------------------------------------------------------------------\u001b[0m",
      "\u001b[0;31mKeyboardInterrupt\u001b[0m                         Traceback (most recent call last)",
      "\u001b[0;32m<ipython-input-15-611960794253>\u001b[0m in \u001b[0;36m<module>\u001b[0;34m\u001b[0m\n\u001b[1;32m     19\u001b[0m     \u001b[0msampley_hat\u001b[0m \u001b[0;34m=\u001b[0m \u001b[0mnet\u001b[0m\u001b[0;34m(\u001b[0m\u001b[0msamplex\u001b[0m\u001b[0;34m)\u001b[0m\u001b[0;34m\u001b[0m\u001b[0m\n\u001b[1;32m     20\u001b[0m \u001b[0;31m#         loss_value = loss(y_hat, y)\u001b[0m\u001b[0;34m\u001b[0m\u001b[0;34m\u001b[0m\u001b[0m\n\u001b[0;32m---> 21\u001b[0;31m     \u001b[0mloss_\u001b[0m \u001b[0;34m=\u001b[0m \u001b[0mloss\u001b[0m\u001b[0;34m(\u001b[0m\u001b[0msampley_hat\u001b[0m\u001b[0;34m,\u001b[0m \u001b[0msampley\u001b[0m\u001b[0;34m)\u001b[0m\u001b[0;34m\u001b[0m\u001b[0m\n\u001b[0m\u001b[1;32m     22\u001b[0m     \u001b[0mloss_plot\u001b[0m\u001b[0;34m.\u001b[0m\u001b[0mappend\u001b[0m\u001b[0;34m(\u001b[0m\u001b[0mloss_\u001b[0m\u001b[0;34m.\u001b[0m\u001b[0mitem\u001b[0m\u001b[0;34m(\u001b[0m\u001b[0;34m)\u001b[0m\u001b[0;34m)\u001b[0m\u001b[0;34m\u001b[0m\u001b[0m\n\u001b[1;32m     23\u001b[0m \u001b[0;31m#         for p in net.parameters():\u001b[0m\u001b[0;34m\u001b[0m\u001b[0;34m\u001b[0m\u001b[0m\n",
      "\u001b[0;32m~/namuchan/torch101_venv/lib/python3.5/site-packages/torch/nn/modules/module.py\u001b[0m in \u001b[0;36m__call__\u001b[0;34m(self, *input, **kwargs)\u001b[0m\n\u001b[1;32m    491\u001b[0m             \u001b[0mresult\u001b[0m \u001b[0;34m=\u001b[0m \u001b[0mself\u001b[0m\u001b[0;34m.\u001b[0m\u001b[0m_slow_forward\u001b[0m\u001b[0;34m(\u001b[0m\u001b[0;34m*\u001b[0m\u001b[0minput\u001b[0m\u001b[0;34m,\u001b[0m \u001b[0;34m**\u001b[0m\u001b[0mkwargs\u001b[0m\u001b[0;34m)\u001b[0m\u001b[0;34m\u001b[0m\u001b[0m\n\u001b[1;32m    492\u001b[0m         \u001b[0;32melse\u001b[0m\u001b[0;34m:\u001b[0m\u001b[0;34m\u001b[0m\u001b[0m\n\u001b[0;32m--> 493\u001b[0;31m             \u001b[0mresult\u001b[0m \u001b[0;34m=\u001b[0m \u001b[0mself\u001b[0m\u001b[0;34m.\u001b[0m\u001b[0mforward\u001b[0m\u001b[0;34m(\u001b[0m\u001b[0;34m*\u001b[0m\u001b[0minput\u001b[0m\u001b[0;34m,\u001b[0m \u001b[0;34m**\u001b[0m\u001b[0mkwargs\u001b[0m\u001b[0;34m)\u001b[0m\u001b[0;34m\u001b[0m\u001b[0m\n\u001b[0m\u001b[1;32m    494\u001b[0m         \u001b[0;32mfor\u001b[0m \u001b[0mhook\u001b[0m \u001b[0;32min\u001b[0m \u001b[0mself\u001b[0m\u001b[0;34m.\u001b[0m\u001b[0m_forward_hooks\u001b[0m\u001b[0;34m.\u001b[0m\u001b[0mvalues\u001b[0m\u001b[0;34m(\u001b[0m\u001b[0;34m)\u001b[0m\u001b[0;34m:\u001b[0m\u001b[0;34m\u001b[0m\u001b[0m\n\u001b[1;32m    495\u001b[0m             \u001b[0mhook_result\u001b[0m \u001b[0;34m=\u001b[0m \u001b[0mhook\u001b[0m\u001b[0;34m(\u001b[0m\u001b[0mself\u001b[0m\u001b[0;34m,\u001b[0m \u001b[0minput\u001b[0m\u001b[0;34m,\u001b[0m \u001b[0mresult\u001b[0m\u001b[0;34m)\u001b[0m\u001b[0;34m\u001b[0m\u001b[0m\n",
      "\u001b[0;32m<ipython-input-7-89aff883ccfc>\u001b[0m in \u001b[0;36mforward\u001b[0;34m(self, y, labels)\u001b[0m\n\u001b[1;32m     41\u001b[0m \u001b[0;34m\u001b[0m\u001b[0m\n\u001b[1;32m     42\u001b[0m         \u001b[0mnoobj_objs\u001b[0m \u001b[0;34m=\u001b[0m \u001b[0mpredictions\u001b[0m\u001b[0;34m[\u001b[0m\u001b[0;34m:\u001b[0m\u001b[0;34m,\u001b[0m \u001b[0;34m:\u001b[0m\u001b[0;34m,\u001b[0m \u001b[0;34m:\u001b[0m\u001b[0;34m,\u001b[0m \u001b[0;34m:\u001b[0m\u001b[0;34m,\u001b[0m \u001b[0;36m4\u001b[0m\u001b[0;34m]\u001b[0m\u001b[0;34m.\u001b[0m\u001b[0mclamp\u001b[0m\u001b[0;34m(\u001b[0m\u001b[0;36m0.5\u001b[0m\u001b[0;34m,\u001b[0m \u001b[0;36m1\u001b[0m\u001b[0;34m)\u001b[0m\u001b[0;34m.\u001b[0m\u001b[0mview\u001b[0m\u001b[0;34m(\u001b[0m\u001b[0;34m-\u001b[0m\u001b[0;36m1\u001b[0m\u001b[0;34m)\u001b[0m\u001b[0;34m\u001b[0m\u001b[0m\n\u001b[0;32m---> 43\u001b[0;31m         \u001b[0mnoobj_objs\u001b[0m \u001b[0;34m=\u001b[0m \u001b[0mnoobj_objs\u001b[0m\u001b[0;34m[\u001b[0m\u001b[0mnoobj_objs\u001b[0m\u001b[0;34m.\u001b[0m\u001b[0mnonzero\u001b[0m\u001b[0;34m(\u001b[0m\u001b[0;34m)\u001b[0m\u001b[0;34m]\u001b[0m\u001b[0;34m\u001b[0m\u001b[0m\n\u001b[0m\u001b[1;32m     44\u001b[0m \u001b[0;34m\u001b[0m\u001b[0m\n\u001b[1;32m     45\u001b[0m         \u001b[0mpred_boxes\u001b[0m \u001b[0;34m=\u001b[0m \u001b[0mtorch\u001b[0m\u001b[0;34m.\u001b[0m\u001b[0mcat\u001b[0m\u001b[0;34m(\u001b[0m\u001b[0mpred_boxes\u001b[0m\u001b[0;34m,\u001b[0m \u001b[0;36m0\u001b[0m\u001b[0;34m)\u001b[0m\u001b[0;34m\u001b[0m\u001b[0m\n",
      "\u001b[0;31mKeyboardInterrupt\u001b[0m: "
     ]
    }
   ],
   "source": [
    "#nn sanity check\n",
    "samplex = x[ : 32]\n",
    "sampley = y[ : 32]\n",
    "\n",
    "device = 'cuda:0'\n",
    "net = yolov2()\n",
    "net = net.to(device)\n",
    "net.train()\n",
    "# net = torch.nn.DataParallel(net)\n",
    "loss = yolov2loss(lambda_coord=1, lambda_noobj=1, device=device)\n",
    "loss_plot = []\n",
    "# optimizer = torch.optim.Adam(net.parameters(), lr=0.5e-4)\n",
    "optimizer = torch.optim.SGD(net.parameters(), lr=0.5e-4, momentum=0.9, weight_decay=0.005)\n",
    "# lambda_lr = torch.optim.lr_scheduler.LambdaLR(optimizer, lrlambda)\n",
    "lambda_lr = torch.optim.lr_scheduler.LambdaLR(optimizer, lr_lambda=lf) \n",
    "\n",
    "for i in range(nepochs):\n",
    "    samplex = samplex.to(device)\n",
    "    sampley_hat = net(samplex)\n",
    "#         loss_value = loss(y_hat, y)\n",
    "    loss_ = loss(sampley_hat, sampley)\n",
    "    loss_plot.append(loss_.item())\n",
    "#         for p in net.parameters():\n",
    "#             loss_ += 0.01 * torch.sum(p**2)\n",
    "    optimizer.zero_grad()\n",
    "    loss_.backward()\n",
    "    optimizer.step()\n",
    "    lambda_lr.step()\n",
    "\n",
    "#     print('training loss after {}/{} epochs is {}'.format(\n",
    "#         i + 1, 300, loss_.item()))\n",
    "plt.plot(loss_plot)"
   ]
  },
  {
   "cell_type": "code",
   "execution_count": 24,
   "metadata": {},
   "outputs": [
    {
     "data": {
      "text/plain": [
       "4.996245587351462e-05"
      ]
     },
     "execution_count": 24,
     "metadata": {},
     "output_type": "execute_result"
    }
   ],
   "source": []
  },
  {
   "cell_type": "code",
   "execution_count": 40,
   "metadata": {},
   "outputs": [],
   "source": [
    "\n",
    "np.random.seed(100)\n",
    "color_dict = np.random.rand(num_classes,3)\n",
    "\n",
    "\n",
    "def visualize_bbox(image, label_tensor, save_path=None, resolution=13):\n",
    "    fig, ax = plt.subplots(1)\n",
    "    if isinstance(image, torch.Tensor):\n",
    "        ax.imshow(image.permute(1,2,0))\n",
    "        scale_x, scale_y = image.size(1), image.size(2)\n",
    "    else:\n",
    "        ax.imshow(image)\n",
    "        scale_x, scale_y = image.shape[0], image.shape[1]\n",
    "\n",
    "    if len(list(label_tensor.shape)) <  2:\n",
    "        if save_path is not None :\n",
    "            plt.savefig(save_path) \n",
    "            return \n",
    "        if torch.max(label_tensor) > 1:\n",
    "            label_tensor[:, :2] /= torch.tensor([scale_x, scale_y], dtype=torch.float32)\n",
    "            label_tensor[:, 2:4] /= torch.tensor([scale_x, scale_y], dtype=torch.float32)\n",
    "\n",
    "    if len(list(label_tensor.shape)) == 3:\n",
    "        print ('recieved true labels')\n",
    "        x = torch.tensor(torch.arange(resolution))\n",
    "        y = torch.tensor(torch.arange(resolution))\n",
    "        grid_x, grid_y = torch.meshgrid(x, y)\n",
    "        grid = torch.cat([grid_y.unsqueeze(0), grid_x.unsqueeze(0)], 0).type(torch.float)\n",
    "        #print (grid)\n",
    "        label_tensor[:2,:,:] += grid \n",
    "        label_tensor[:2,:,:] /= 7\n",
    "        label_tensor = label_tensor.permute(1, 2, 0)\n",
    "        object_mask = label_tensor[:, :, 4] == 1\n",
    "        object_mask = object_mask.unsqueeze(dim=-1).expand(label_tensor.shape)\n",
    "        #arrange the values into a tensor of box coordinates \n",
    "        label_tensor = label_tensor[object_mask].view((-1, 6))\n",
    "\n",
    "    centers = label_tensor[:,:2]\n",
    "    sizes = label_tensor[:,2:4]\n",
    "    label_tensor[:,:2] = centers - sizes / 2\n",
    "    label_tensor[:,:2] = label_tensor[:,:2] * torch.tensor([scale_x, scale_y], dtype=torch.float32)\n",
    "    label_tensor[:,2:4] = label_tensor[:,2:4] * torch.tensor([scale_x, scale_y], dtype=torch.float32)\n",
    "    confs = label_tensor[:, 4].numpy()\n",
    "    label_tensor = label_tensor.to(torch.int16)\n",
    "    for i in range(label_tensor.size(0)):\n",
    "        ax.add_patch(patches.Rectangle((label_tensor[i, 0], label_tensor[i, 1]),\n",
    "                                                        label_tensor[i, 2], label_tensor[i, 3], \n",
    "                                                        color=color_dict[label_tensor[i, 5]], fill=False))\n",
    "        ax.text(label_tensor[i, 0], label_tensor[i, 1], \n",
    "                class_names['coconames'][label_tensor[i, 5].item()]['display_name'] + \\\n",
    "                ': ' + str(round(confs[i], 2)),\n",
    "                fontsize=20, color=color_dict[label_tensor[i, 5]])\n",
    "    if save_path is not None:\n",
    "        plt.savefig(save_path)\n",
    "    else :\n",
    "        fig.canvas.draw()\n",
    "        return np.array(fig.canvas.renderer.buffer_rgba()) "
   ]
  },
  {
   "cell_type": "code",
   "execution_count": 41,
   "metadata": {},
   "outputs": [],
   "source": [
    "#once we get predictions we need to do nms for selecting good predictions\n",
    "def boxes_IoU(bb1, bb2):\n",
    "    '''\n",
    "    bb1 : input bounding box 1 the coordinates corresponds to \n",
    "          center_x center_y width height\n",
    "    bb2 : bounding box 2 coordinates in the same order as bb1\n",
    "    '''\n",
    "    minx = max(bb1[0] - bb1[2] / 2, bb2[0] - bb2[2] / 2)\n",
    "    maxx = min(bb1[0] + bb1[2] / 2, bb2[0] + bb2[2] / 2)\n",
    "    miny = max(bb1[1] - bb1[3] / 2, bb2[1] - bb2[3] / 2)\n",
    "    maxy = min(bb1[1] + bb1[3] / 2, bb2[1] + bb2[3] / 2)\n",
    "    diffx = (maxx - minx) #- (bb1[2] + bb2[2]) \n",
    "    diffy = (maxy - miny) #- (bb1[3] + bb2[3])\n",
    "    if diffx > 0  and diffy >  0 :\n",
    "        intersection = diffx * diffy\n",
    "        return intersection / (bb1[2] * bb1[3] + bb2[2] * bb2[3] - intersection) \n",
    "    return 0\n",
    "\n",
    "\n",
    "def non_max_suppression(predicted_tensor, iou_threshold=0.6, obj_threshold=0.25, resolution=13):\n",
    "    #grid coordinates to add to predicted offset\n",
    "    predicted_tensor = predicted_tensor.cpu()\n",
    "    x = torch.tensor(torch.arange(resolution))\n",
    "    y = torch.tensor(torch.arange(resolution))\n",
    "    grid_x, grid_y = torch.meshgrid(x, y)\n",
    "    grid = torch.cat([grid_y.unsqueeze(-1), grid_x.unsqueeze(-1)], 2).type(torch.float)\n",
    "    \n",
    "    predictions = predicted_tensor.view(predicted_tensor.shape[0], num_anchors, num_classes + 5, \n",
    "                                        resolution, resolution).permute(0,1,3,4,2)\n",
    "    \n",
    "    for i in range(num_anchors):\n",
    "        predictions[:, i, :, :, :2] = (torch.sigmoid(predictions[:, i, :, :, :2]) + grid ) /resolution\n",
    "        predictions[:, i, :, :, 2:4] = torch.exp(predictions[:, i, :, :, 2:4])*anchors[i]\n",
    "        predictions[:, i, :, :, 4] = torch.sigmoid(predictions[:, i, :, :, 4])\n",
    "    \n",
    "\n",
    "    predictions = predictions.contiguous().view(predictions.shape[0], -1, predictions.shape[-1])\n",
    "    predlabels = torch.argmax(predictions[:, :, 5:], 2, keepdim=True).to(torch.float)\n",
    "\n",
    "    #here we pass all boxes as a 2d array \n",
    "#     boxes = torch.cat([box1, box2], 1).numpy()\n",
    "    boxes = torch.cat([predictions[:, :, :5], predlabels], 2)\n",
    "\n",
    "    obj_mask = boxes[:, :, 4] >= obj_threshold\n",
    "    selected_boxes = []\n",
    "\n",
    "    for box, mask in zip(boxes, obj_mask):\n",
    "        mask = mask.reshape(-1)\n",
    "        this_boxes = []\n",
    "        temp_boxes = []\n",
    "        for i in range(mask.shape[0]):\n",
    "            if mask[i]:\n",
    "                temp_boxes.append(box[i])\n",
    "\n",
    "        box = sorted(temp_boxes, key=lambda a:a[-2])\n",
    "        box = box[::-1]\n",
    " \n",
    "        box_list = [[] for _ in range(num_classes)]\n",
    "        for i in range(len(box)):\n",
    "            box_list[int(box[i][-1])].append(box[i]) \n",
    "        for sorted_ in box_list:\n",
    "            while len(sorted_) > 0:\n",
    "                this_box = sorted_[0]\n",
    "                del sorted_[0]\n",
    "                sorted_new = []\n",
    "                for i in range(len(sorted_)):\n",
    "                    if boxes_IoU(this_box, sorted_[i]) < iou_threshold:\n",
    "                        sorted_new.append(sorted_[i])\n",
    "                \n",
    "                sorted_ = sorted_new\n",
    "                this_boxes.append(this_box.to(torch.float).unsqueeze(0))\n",
    "        \n",
    "        selected_boxes.append(torch.cat(this_boxes, 0))\n",
    "    return selected_boxes"
   ]
  },
  {
   "cell_type": "code",
   "execution_count": 42,
   "metadata": {},
   "outputs": [],
   "source": [
    "x = x.to(device)\n",
    "with torch.no_grad():\n",
    "    predictions = net(x)"
   ]
  },
  {
   "cell_type": "code",
   "execution_count": 43,
   "metadata": {},
   "outputs": [
    {
     "data": {
      "text/plain": [
       "torch.Size([32, 425, 13, 13])"
      ]
     },
     "execution_count": 43,
     "metadata": {},
     "output_type": "execute_result"
    }
   ],
   "source": [
    "predictions.shape"
   ]
  },
  {
   "cell_type": "code",
   "execution_count": 55,
   "metadata": {
    "scrolled": true
   },
   "outputs": [
    {
     "name": "stderr",
     "output_type": "stream",
     "text": [
      "/home/dgxuser/namuchan/torch101_venv/lib/python3.5/site-packages/ipykernel_launcher.py:23: UserWarning: To copy construct from a tensor, it is recommended to use sourceTensor.clone().detach() or sourceTensor.clone().detach().requires_grad_(True), rather than torch.tensor(sourceTensor).\n",
      "/home/dgxuser/namuchan/torch101_venv/lib/python3.5/site-packages/ipykernel_launcher.py:24: UserWarning: To copy construct from a tensor, it is recommended to use sourceTensor.clone().detach() or sourceTensor.clone().detach().requires_grad_(True), rather than torch.tensor(sourceTensor).\n"
     ]
    }
   ],
   "source": [
    "nms = non_max_suppression(predictions[0].unsqueeze(0), obj_threshold=0.867)"
   ]
  },
  {
   "cell_type": "code",
   "execution_count": 56,
   "metadata": {},
   "outputs": [
    {
     "data": {
      "text/plain": [
       "torch.Size([1, 6])"
      ]
     },
     "execution_count": 56,
     "metadata": {},
     "output_type": "execute_result"
    }
   ],
   "source": [
    "nms[0].shape"
   ]
  },
  {
   "cell_type": "code",
   "execution_count": 57,
   "metadata": {},
   "outputs": [
    {
     "data": {
      "image/png": "[encoded data removed]",
      "text/plain": [
       "<Figure size 432x288 with 1 Axes>"
      ]
     },
     "metadata": {
      "needs_background": "light"
     },
     "output_type": "display_data"
    }
   ],
   "source": [
    "save_path = 'results/train_preds_e{}.png'.format(i + 1)\n",
    "visualize_bbox(x[0].to('cpu'), nms[0], save_path)"
   ]
  },
  {
   "cell_type": "code",
   "execution_count": 36,
   "metadata": {},
   "outputs": [
    {
     "data": {
      "text/plain": [
       "tensor([[6.5272e-01, 3.1077e-01, 9.6028e-01, 8.7192e-01, 8.6000e+01],\n",
       "        [1.7459e-01, 3.2944e-01, 5.2378e-01, 9.4502e-01, 8.6000e+01],\n",
       "        [4.4625e-02, 1.0389e-01, 2.8517e-01, 8.5713e-01, 8.6000e+01],\n",
       "        [3.8992e-01, 1.0130e-01, 6.4987e-01, 8.4676e-01, 8.6000e+01]])"
      ]
     },
     "execution_count": 36,
     "metadata": {},
     "output_type": "execute_result"
    }
   ],
   "source": [
    "y[1]"
   ]
  },
  {
   "cell_type": "code",
   "execution_count": 37,
   "metadata": {},
   "outputs": [],
   "source": [
    "y_temp = torch.tensor([[6.5272e-01, 3.1077e-01, 9.6028e-01, 8.7192e-01, 1, 8.6000e+01],\n",
    "        [1.7459e-01, 3.2944e-01, 5.2378e-01, 9.4502e-01, 1, 8.6000e+01],\n",
    "        [4.4625e-02, 1.0389e-01, 2.8517e-01, 8.5713e-01, 1, 8.6000e+01],\n",
    "        [3.8992e-01, 1.0130e-01, 6.4987e-01, 8.4676e-01, 1, 8.6000e+01]])\n",
    "\n",
    "y_temp[:, :2] = (y_temp[:, :2] + y_temp[:, 2:4])/2\n",
    "y_temp[:, 2:4] = (y_temp[:, 2:4] - y_temp[:, :2])*2"
   ]
  },
  {
   "cell_type": "code",
   "execution_count": 38,
   "metadata": {},
   "outputs": [
    {
     "data": {
      "image/png": "[encoded data removed]",
      "text/plain": [
       "<Figure size 432x288 with 1 Axes>"
      ]
     },
     "metadata": {
      "needs_background": "light"
     },
     "output_type": "display_data"
    }
   ],
   "source": [
    "save_path = 'results/train_preds_e{}.png'.format(i + 1)\n",
    "visualize_bbox(x[1].to('cpu'), y_temp, save_path)"
   ]
  },
  {
   "cell_type": "code",
   "execution_count": 111,
   "metadata": {},
   "outputs": [
    {
     "data": {
      "text/plain": [
       "80"
      ]
     },
     "execution_count": 111,
     "metadata": {},
     "output_type": "execute_result"
    }
   ],
   "source": [
    "len(class_labels)"
   ]
  },
  {
   "cell_type": "code",
   "execution_count": null,
   "metadata": {},
   "outputs": [],
   "source": []
  }
 ],
 "metadata": {
  "kernelspec": {
   "display_name": "Python 3",
   "language": "python",
   "name": "python3"
  },
  "language_info": {
   "codemirror_mode": {
    "name": "ipython",
    "version": 3
   },
   "file_extension": ".py",
   "mimetype": "text/x-python",
   "name": "python",
   "nbconvert_exporter": "python",
   "pygments_lexer": "ipython3",
   "version": "3.5.2"
  }
 },
 "nbformat": 4,
 "nbformat_minor": 2
}
