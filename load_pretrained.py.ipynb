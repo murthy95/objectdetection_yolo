{
 "cells": [
  {
   "cell_type": "code",
   "execution_count": 1,
   "metadata": {},
   "outputs": [],
   "source": [
    "import torch\n",
    "from yolov1 import *"
   ]
  },
  {
   "cell_type": "code",
   "execution_count": 2,
   "metadata": {},
   "outputs": [
    {
     "name": "stdout",
     "output_type": "stream",
     "text": [
      "api\t\t\t    inference.py\t\ttemp.py\r\n",
      "augmentation_check.png\t    load_labels.py\t\ttest_loss.py\r\n",
      "augmentation.py\t\t    load_pretrained.py.ipynb\ttest.png\r\n",
      "checkpoint.pth.tar\t    model_best.pth.tar\t\ttrain.py\r\n",
      "chkpt_files\t\t    petskitchenfreesample.jfif\tutils.py\r\n",
      "class_names.py\t\t    pretrain_imagenet.py\tvalidation_loss.txt\r\n",
      "data\t\t\t    __pycache__\t\t\tyolov1loss.py\r\n",
      "graphviz_hiddenlayer.ipynb  README.md\t\t\tyolov1.py\r\n",
      "imagenet_pretraining.py     results\r\n"
     ]
    }
   ],
   "source": [
    "!ls"
   ]
  },
  {
   "cell_type": "code",
   "execution_count": 3,
   "metadata": {},
   "outputs": [
    {
     "data": {
      "text/plain": [
       "IncompatibleKeys(missing_keys=[], unexpected_keys=[])"
      ]
     },
     "execution_count": 3,
     "metadata": {},
     "output_type": "execute_result"
    }
   ],
   "source": [
    "net_pretrained = yolonet_classification()\n",
    "chkpt = torch.load('checkpoint.pth.tar')\n",
    "state_dict = chkpt['state_dict']\n",
    "\n",
    "from collections import OrderedDict\n",
    "new_state_dict = OrderedDict()\n",
    "for k, v in state_dict.items():\n",
    "    name = k[7:] # remove `module.`\n",
    "    new_state_dict[name] = v\n",
    "# load params\n",
    "net_pretrained.load_state_dict(new_state_dict)"
   ]
  },
  {
   "cell_type": "code",
   "execution_count": 4,
   "metadata": {},
   "outputs": [
    {
     "data": {
      "text/plain": [
       "170"
      ]
     },
     "execution_count": 4,
     "metadata": {},
     "output_type": "execute_result"
    }
   ],
   "source": [
    "len(new_state_dict.keys())"
   ]
  },
  {
   "cell_type": "code",
   "execution_count": 5,
   "metadata": {},
   "outputs": [
    {
     "data": {
      "text/plain": [
       "170"
      ]
     },
     "execution_count": 5,
     "metadata": {},
     "output_type": "execute_result"
    }
   ],
   "source": [
    "len(net_pretrained.state_dict().keys())"
   ]
  },
  {
   "cell_type": "code",
   "execution_count": 8,
   "metadata": {},
   "outputs": [
    {
     "data": {
      "text/plain": [
       "odict_keys(['backbone.model.0.conv.weight', 'backbone.model.0.conv.bias', 'backbone.model.0.bn.weight', 'backbone.model.0.bn.bias', 'backbone.model.0.bn.running_mean', 'backbone.model.0.bn.running_var', 'backbone.model.0.bn.num_batches_tracked', 'backbone.model.2.model.0.conv.weight', 'backbone.model.2.model.0.conv.bias', 'backbone.model.2.model.0.bn.weight', 'backbone.model.2.model.0.bn.bias', 'backbone.model.2.model.0.bn.running_mean', 'backbone.model.2.model.0.bn.running_var', 'backbone.model.2.model.0.bn.num_batches_tracked', 'backbone.model.3.model.0.conv.weight', 'backbone.model.3.model.0.conv.bias', 'backbone.model.3.model.0.bn.weight', 'backbone.model.3.model.0.bn.bias', 'backbone.model.3.model.0.bn.running_mean', 'backbone.model.3.model.0.bn.running_var', 'backbone.model.3.model.0.bn.num_batches_tracked', 'backbone.model.3.model.1.conv.weight', 'backbone.model.3.model.1.conv.bias', 'backbone.model.3.model.1.bn.weight', 'backbone.model.3.model.1.bn.bias', 'backbone.model.3.model.1.bn.running_mean', 'backbone.model.3.model.1.bn.running_var', 'backbone.model.3.model.1.bn.num_batches_tracked', 'backbone.model.3.model.2.conv.weight', 'backbone.model.3.model.2.conv.bias', 'backbone.model.3.model.2.bn.weight', 'backbone.model.3.model.2.bn.bias', 'backbone.model.3.model.2.bn.running_mean', 'backbone.model.3.model.2.bn.running_var', 'backbone.model.3.model.2.bn.num_batches_tracked', 'backbone.model.3.model.3.conv.weight', 'backbone.model.3.model.3.conv.bias', 'backbone.model.3.model.3.bn.weight', 'backbone.model.3.model.3.bn.bias', 'backbone.model.3.model.3.bn.running_mean', 'backbone.model.3.model.3.bn.running_var', 'backbone.model.3.model.3.bn.num_batches_tracked', 'backbone.model.4.model.0.conv.weight', 'backbone.model.4.model.0.conv.bias', 'backbone.model.4.model.0.bn.weight', 'backbone.model.4.model.0.bn.bias', 'backbone.model.4.model.0.bn.running_mean', 'backbone.model.4.model.0.bn.running_var', 'backbone.model.4.model.0.bn.num_batches_tracked', 'backbone.model.4.model.1.conv.weight', 'backbone.model.4.model.1.conv.bias', 'backbone.model.4.model.1.bn.weight', 'backbone.model.4.model.1.bn.bias', 'backbone.model.4.model.1.bn.running_mean', 'backbone.model.4.model.1.bn.running_var', 'backbone.model.4.model.1.bn.num_batches_tracked', 'backbone.model.4.model.2.conv.weight', 'backbone.model.4.model.2.conv.bias', 'backbone.model.4.model.2.bn.weight', 'backbone.model.4.model.2.bn.bias', 'backbone.model.4.model.2.bn.running_mean', 'backbone.model.4.model.2.bn.running_var', 'backbone.model.4.model.2.bn.num_batches_tracked', 'backbone.model.4.model.3.conv.weight', 'backbone.model.4.model.3.conv.bias', 'backbone.model.4.model.3.bn.weight', 'backbone.model.4.model.3.bn.bias', 'backbone.model.4.model.3.bn.running_mean', 'backbone.model.4.model.3.bn.running_var', 'backbone.model.4.model.3.bn.num_batches_tracked', 'backbone.model.4.model.4.conv.weight', 'backbone.model.4.model.4.conv.bias', 'backbone.model.4.model.4.bn.weight', 'backbone.model.4.model.4.bn.bias', 'backbone.model.4.model.4.bn.running_mean', 'backbone.model.4.model.4.bn.running_var', 'backbone.model.4.model.4.bn.num_batches_tracked', 'backbone.model.4.model.5.conv.weight', 'backbone.model.4.model.5.conv.bias', 'backbone.model.4.model.5.bn.weight', 'backbone.model.4.model.5.bn.bias', 'backbone.model.4.model.5.bn.running_mean', 'backbone.model.4.model.5.bn.running_var', 'backbone.model.4.model.5.bn.num_batches_tracked', 'backbone.model.4.model.6.conv.weight', 'backbone.model.4.model.6.conv.bias', 'backbone.model.4.model.6.bn.weight', 'backbone.model.4.model.6.bn.bias', 'backbone.model.4.model.6.bn.running_mean', 'backbone.model.4.model.6.bn.running_var', 'backbone.model.4.model.6.bn.num_batches_tracked', 'backbone.model.4.model.7.conv.weight', 'backbone.model.4.model.7.conv.bias', 'backbone.model.4.model.7.bn.weight', 'backbone.model.4.model.7.bn.bias', 'backbone.model.4.model.7.bn.running_mean', 'backbone.model.4.model.7.bn.running_var', 'backbone.model.4.model.7.bn.num_batches_tracked', 'backbone.model.5.model.0.conv.weight', 'backbone.model.5.model.0.conv.bias', 'backbone.model.5.model.0.bn.weight', 'backbone.model.5.model.0.bn.bias', 'backbone.model.5.model.0.bn.running_mean', 'backbone.model.5.model.0.bn.running_var', 'backbone.model.5.model.0.bn.num_batches_tracked', 'backbone.model.5.model.1.conv.weight', 'backbone.model.5.model.1.conv.bias', 'backbone.model.5.model.1.bn.weight', 'backbone.model.5.model.1.bn.bias', 'backbone.model.5.model.1.bn.running_mean', 'backbone.model.5.model.1.bn.running_var', 'backbone.model.5.model.1.bn.num_batches_tracked', 'backbone.model.6.model.0.conv.weight', 'backbone.model.6.model.0.conv.bias', 'backbone.model.6.model.0.bn.weight', 'backbone.model.6.model.0.bn.bias', 'backbone.model.6.model.0.bn.running_mean', 'backbone.model.6.model.0.bn.running_var', 'backbone.model.6.model.0.bn.num_batches_tracked', 'backbone.model.6.model.1.conv.weight', 'backbone.model.6.model.1.conv.bias', 'backbone.model.6.model.1.bn.weight', 'backbone.model.6.model.1.bn.bias', 'backbone.model.6.model.1.bn.running_mean', 'backbone.model.6.model.1.bn.running_var', 'backbone.model.6.model.1.bn.num_batches_tracked', 'backbone.model.6.model.2.conv.weight', 'backbone.model.6.model.2.conv.bias', 'backbone.model.6.model.2.bn.weight', 'backbone.model.6.model.2.bn.bias', 'backbone.model.6.model.2.bn.running_mean', 'backbone.model.6.model.2.bn.running_var', 'backbone.model.6.model.2.bn.num_batches_tracked', 'backbone.model.6.model.3.conv.weight', 'backbone.model.6.model.3.conv.bias', 'backbone.model.6.model.3.bn.weight', 'backbone.model.6.model.3.bn.bias', 'backbone.model.6.model.3.bn.running_mean', 'backbone.model.6.model.3.bn.running_var', 'backbone.model.6.model.3.bn.num_batches_tracked', 'backbone.model.7.model.0.conv.weight', 'backbone.model.7.model.0.conv.bias', 'backbone.model.7.model.0.bn.weight', 'backbone.model.7.model.0.bn.bias', 'backbone.model.7.model.0.bn.running_mean', 'backbone.model.7.model.0.bn.running_var', 'backbone.model.7.model.0.bn.num_batches_tracked', 'backbone.model.8.conv.weight', 'backbone.model.8.conv.bias', 'backbone.model.8.bn.weight', 'backbone.model.8.bn.bias', 'backbone.model.8.bn.running_mean', 'backbone.model.8.bn.running_var', 'backbone.model.8.bn.num_batches_tracked', 'backbone.model.9.model.0.conv.weight', 'backbone.model.9.model.0.conv.bias', 'backbone.model.9.model.0.bn.weight', 'backbone.model.9.model.0.bn.bias', 'backbone.model.9.model.0.bn.running_mean', 'backbone.model.9.model.0.bn.running_var', 'backbone.model.9.model.0.bn.num_batches_tracked', 'backbone.model.9.model.1.conv.weight', 'backbone.model.9.model.1.conv.bias', 'backbone.model.9.model.1.bn.weight', 'backbone.model.9.model.1.bn.bias', 'backbone.model.9.model.1.bn.running_mean', 'backbone.model.9.model.1.bn.running_var', 'backbone.model.9.model.1.bn.num_batches_tracked', 'Linear1.weight', 'Linear1.bias', 'Linear2.weight', 'Linear2.bias'])"
      ]
     },
     "execution_count": 8,
     "metadata": {},
     "output_type": "execute_result"
    }
   ],
   "source": [
    "#now loading the net with backbone net \n",
    "net = yolonet()\n",
    "net.state_dict().keys()"
   ]
  },
  {
   "cell_type": "code",
   "execution_count": 14,
   "metadata": {},
   "outputs": [],
   "source": [
    "newsubnet = backbonenet()\n",
    "\n",
    "new_state_dict = OrderedDict()\n",
    "for k, v in state_dict.items():\n",
    "    if not k[7:15] == 'backbone':\n",
    "        continue\n",
    "    name = k[16:] # remove `module.`\n",
    "    new_state_dict[name] = v"
   ]
  },
  {
   "cell_type": "code",
   "execution_count": 15,
   "metadata": {},
   "outputs": [
    {
     "data": {
      "text/plain": [
       "IncompatibleKeys(missing_keys=[], unexpected_keys=[])"
      ]
     },
     "execution_count": 15,
     "metadata": {},
     "output_type": "execute_result"
    }
   ],
   "source": [
    "# load params\n",
    "newsubnet.load_state_dict(new_state_dict)"
   ]
  },
  {
   "cell_type": "code",
   "execution_count": null,
   "metadata": {},
   "outputs": [],
   "source": []
  }
 ],
 "metadata": {
  "kernelspec": {
   "display_name": "Python 3",
   "language": "python",
   "name": "python3"
  },
  "language_info": {
   "codemirror_mode": {
    "name": "ipython",
    "version": 3
   },
   "file_extension": ".py",
   "mimetype": "text/x-python",
   "name": "python",
   "nbconvert_exporter": "python",
   "pygments_lexer": "ipython3",
   "version": "3.5.2"
  }
 },
 "nbformat": 4,
 "nbformat_minor": 2
}
